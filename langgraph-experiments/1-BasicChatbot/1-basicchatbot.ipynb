{
 "cells": [
  {
   "cell_type": "markdown",
   "id": "a19397ca",
   "metadata": {},
   "source": [
    "### Building a basic chatbot with Langgraph (Graph API)"
   ]
  },
  {
   "cell_type": "code",
   "execution_count": 21,
   "id": "1da4e72c",
   "metadata": {},
   "outputs": [
    {
     "data": {
      "text/plain": [
       "True"
      ]
     },
     "execution_count": 21,
     "metadata": {},
     "output_type": "execute_result"
    }
   ],
   "source": [
    "from typing import Annotated\n",
    "from typing_extensions import TypedDict\n",
    "from langgraph.graph import StateGraph, START, END\n",
    "from langgraph.graph.message import add_messages # add_messages is a reducer\n",
    "import os\n",
    "from dotenv import load_dotenv\n",
    "from langchain_openai import ChatOpenAI\n",
    "from langchain.chat_models import init_chat_model\n",
    "\n",
    "from langchain_tavily import TavilySearch\n",
    "from langgraph.prebuilt import ToolNode, tools_condition\n",
    "\n",
    "load_dotenv()"
   ]
  },
  {
   "cell_type": "code",
   "execution_count": 2,
   "id": "5f5c6bad",
   "metadata": {},
   "outputs": [],
   "source": [
    "class State(TypedDict):\n",
    "    # Messages have the type \"list\". The `add_messages`function\n",
    "    # in the annotation defines how this state key should be updated\n",
    "    # (in this case, it appends messages to the list, rather than overwriting them)\n",
    "    messages:Annotated[list, add_messages]"
   ]
  },
  {
   "cell_type": "code",
   "execution_count": 3,
   "id": "3be4e625",
   "metadata": {},
   "outputs": [],
   "source": [
    "llm = ChatOpenAI(model=\"gpt-4o\")"
   ]
  },
  {
   "cell_type": "code",
   "execution_count": 4,
   "id": "9200a923",
   "metadata": {},
   "outputs": [],
   "source": [
    "# Node functionality\n",
    "def chatbot(state:State):\n",
    "    return {'messages': [llm.invoke(state['messages'])]}"
   ]
  },
  {
   "cell_type": "code",
   "execution_count": 5,
   "id": "70cb9c21",
   "metadata": {},
   "outputs": [],
   "source": [
    "graph_builder = StateGraph(State)\n",
    "\n",
    "# Create a node\n",
    "graph_builder.add_node(\"LLMChatbot\", chatbot)\n",
    "\n",
    "# Establish edges\n",
    "graph_builder.add_edge(START, \"LLMChatbot\")\n",
    "graph_builder.add_edge(\"LLMChatbot\", END)\n",
    "\n",
    "# Complie graph\n",
    "graph = graph_builder.compile()"
   ]
  },
  {
   "cell_type": "code",
   "execution_count": 6,
   "id": "31c774ad",
   "metadata": {},
   "outputs": [
    {
     "data": {
      "image/png": "[encoded data removed]",
      "text/plain": [
       "<langgraph.graph.state.CompiledStateGraph object at 0x000002D3B37C7080>"
      ]
     },
     "execution_count": 6,
     "metadata": {},
     "output_type": "execute_result"
    }
   ],
   "source": [
    "graph"
   ]
  },
  {
   "cell_type": "code",
   "execution_count": 7,
   "id": "01a5fa90",
   "metadata": {},
   "outputs": [],
   "source": [
    "response = graph.invoke({\"messages\":\"Hi\"})"
   ]
  },
  {
   "cell_type": "code",
   "execution_count": 8,
   "id": "0ad199d9",
   "metadata": {},
   "outputs": [
    {
     "data": {
      "text/plain": [
       "{'messages': [HumanMessage(content='Hi', additional_kwargs={}, response_metadata={}, id='02e5c3cf-968f-4fe3-80cd-a9592ae2be94'),\n",
       "  AIMessage(content='Hello! How can I assist you today?', additional_kwargs={'refusal': None}, response_metadata={'token_usage': {'completion_tokens': 9, 'prompt_tokens': 8, 'total_tokens': 17, 'completion_tokens_details': {'accepted_prediction_tokens': 0, 'audio_tokens': 0, 'reasoning_tokens': 0, 'rejected_prediction_tokens': 0}, 'prompt_tokens_details': {'audio_tokens': 0, 'cached_tokens': 0}}, 'model_name': 'gpt-4o-2024-08-06', 'system_fingerprint': 'fp_80956533cb', 'id': 'chatcmpl-C5J7LMvRNRzwqe4PKSTdhEsMQgdBi', 'service_tier': 'default', 'finish_reason': 'stop', 'logprobs': None}, id='run--a8c7eac7-9fe6-4c9f-aa4e-5ab63f107691-0', usage_metadata={'input_tokens': 8, 'output_tokens': 9, 'total_tokens': 17, 'input_token_details': {'audio': 0, 'cache_read': 0}, 'output_token_details': {'audio': 0, 'reasoning': 0}})]}"
      ]
     },
     "execution_count": 8,
     "metadata": {},
     "output_type": "execute_result"
    }
   ],
   "source": [
    "response"
   ]
  },
  {
   "cell_type": "code",
   "execution_count": 9,
   "id": "86d7d30b",
   "metadata": {},
   "outputs": [
    {
     "data": {
      "text/plain": [
       "'Hello! How can I assist you today?'"
      ]
     },
     "execution_count": 9,
     "metadata": {},
     "output_type": "execute_result"
    }
   ],
   "source": [
    "response['messages'][-1].content"
   ]
  },
  {
   "cell_type": "code",
   "execution_count": 13,
   "id": "d7bd3a7a",
   "metadata": {},
   "outputs": [
    {
     "name": "stdout",
     "output_type": "stream",
     "text": [
      "Hello! I'm just a computer program, so I don't have feelings, but I'm here to help you. How can I assist you today?\n"
     ]
    }
   ],
   "source": [
    "for event in graph.stream({\"messages\": \"Hi, how are you?\"}):\n",
    "    for value in event.values():\n",
    "        print(value['messages'][-1].content)\n"
   ]
  },
  {
   "cell_type": "code",
   "execution_count": 15,
   "id": "4bb3aa1a",
   "metadata": {},
   "outputs": [
    {
     "name": "stdout",
     "output_type": "stream",
     "text": [
      "I'm unable to provide real-time news updates, but I can summarize recent trends and developments in AI as of the last known updates. Here are a few key areas that were active up to 2023:\n",
      "\n",
      "1. **Advancements in Generative AI**: Technologies like GPT-3 and successor models, along with innovations from companies like OpenAI, Google, and DeepMind, have continued to push the boundaries of what AI can generate in terms of text, images, and even music.\n",
      "\n",
      "2. **Ethical AI and Regulation**: There has been increasing attention to ethical considerations and regulations around AI. Discussions and legislative efforts around AI ethics, bias, and transparency have been highlighted in various forums and countries.\n",
      "\n",
      "3. **AI in Healthcare**: AI's role in healthcare has been growing, with new applications in diagnostics, personalized medicine, and operational efficiencies being explored and sometimes implemented in clinical settings.\n",
      "\n",
      "4. **AI for Climate Change**: There has been rising interest in applying AI to address climate change, with projects focused on optimizing energy usage, improving climate models, and developing sustainable technologies.\n",
      "\n",
      "5. **AI Chips and Hardware**: The development of AI-specific hardware, such as AI chips, has been a critical focus to support the growing computational demands of AI models. Companies like NVIDIA, Intel, and others have been at the forefront of this innovation.\n",
      "\n",
      "For the very latest updates, you would need to refer to current news sources.\n"
     ]
    }
   ],
   "source": [
    "for event in graph.stream({\"messages\": \"Can you give me some recent AI related news along with the date the news was published?\"}):\n",
    "    for value in event.values():\n",
    "        print(value['messages'][-1].content)\n"
   ]
  },
  {
   "cell_type": "markdown",
   "id": "c1581f4a",
   "metadata": {},
   "source": [
    "### Chatbot with tools"
   ]
  },
  {
   "cell_type": "code",
   "execution_count": 17,
   "id": "dd805d39",
   "metadata": {},
   "outputs": [
    {
     "data": {
      "text/plain": [
       "{'query': 'What is langgraph?',\n",
       " 'follow_up_questions': None,\n",
       " 'answer': None,\n",
       " 'images': [],\n",
       " 'results': [{'url': 'https://www.datacamp.com/tutorial/langgraph-tutorial',\n",
       "   'title': 'LangGraph Tutorial: What Is LangGraph and How to Use It?',\n",
       "   'content': 'LangGraph is a library within the LangChain ecosystem that provides a framework for defining, coordinating, and executing multiple LLM agents (or chains) in a structured and efficient manner. By managing the flow of data and the sequence of operations, LangGraph allows developers to focus on the high-level logic of their applications rather than the intricacies of agent coordination. Whether you need a chatbot that can handle various types of user requests or a multi-agent system that performs complex tasks, LangGraph provides the tools to build exactly what you need. LangGraph significantly simplifies the development of complex LLM applications by providing a structured framework for managing state and coordinating agent interactions.',\n",
       "   'score': 0.9520821,\n",
       "   'raw_content': None},\n",
       "  {'url': 'https://www.ibm.com/think/topics/langgraph',\n",
       "   'title': 'What is LangGraph? - IBM',\n",
       "   'content': 'LangGraph, created by LangChain, is an open source AI agent framework designed to build, deploy and manage complex generative AI agent workflows. At its core, LangGraph uses the power of graph-based architectures to model and manage the intricate relationships between various components of an AI agent workflow. LangGraph illuminates the processes within an AI workflow, allowing full transparency of the agent’s state. By combining these technologies with a set of APIs and tools, LangGraph provides users with a versatile platform for developing AI solutions and workflows including chatbots, state graphs and other agent-based systems. Nodes: In LangGraph, nodes represent individual components or agents within an AI workflow. LangGraph uses enhanced decision-making by modeling complex relationships between nodes, which means it uses AI agents to analyze their past actions and feedback.',\n",
       "   'score': 0.94584644,\n",
       "   'raw_content': None}],\n",
       " 'response_time': 1.47,\n",
       " 'request_id': '72a59553-e856-49a1-9535-08a4b10b11ab'}"
      ]
     },
     "execution_count": 17,
     "metadata": {},
     "output_type": "execute_result"
    }
   ],
   "source": [
    "searchtool = TavilySearch(max_results=2)\n",
    "searchtool.invoke(\"What is langgraph?\")"
   ]
  },
  {
   "cell_type": "code",
   "execution_count": 18,
   "id": "4cec1d17",
   "metadata": {},
   "outputs": [],
   "source": [
    "def multiply(a:int, b:int)->int:\n",
    "    \"\"\"\n",
    "    Multiple a with b.\n",
    "\n",
    "    a (int): First integer\n",
    "    b (int): Second integer\n",
    "\n",
    "    Returns:\n",
    "        int: output integer product\n",
    "    \"\"\""
   ]
  },
  {
   "cell_type": "code",
   "execution_count": 24,
   "id": "bd8cc17d",
   "metadata": {},
   "outputs": [],
   "source": [
    "tools=[searchtool, multiply]\n",
    "llm_with_tools=llm.bind_tools(tools)"
   ]
  },
  {
   "cell_type": "code",
   "execution_count": 26,
   "id": "225bd072",
   "metadata": {},
   "outputs": [],
   "source": [
    "def tools_calling_llm(state:State):\n",
    "    return {\"messages\": llm_with_tools.invoke(state['messages'])}\n",
    "\n",
    "### New StateGraph\n",
    "builder = StateGraph(State)\n",
    "\n",
    "## Add Nodes\n",
    "builder.add_node(\"ToolCallLLM\", tools_calling_llm)\n",
    "builder.add_node(\"tools\", ToolNode(tools))\n",
    "\n",
    "## Add Edges\n",
    "builder.add_edge(START, \"ToolCallLLM\")\n",
    "# If the lastest message from the assistant is a tool call, tools_condition routes to \"Tools\"\n",
    "# If the lastest message from the assistant is not a tool call, tools_condition routes to \"END\"\n",
    "builder.add_conditional_edges(\"ToolCallLLM\", tools_condition)\n",
    "builder.add_edge(\"tools\", END)\n",
    "\n",
    "# Compile graph\n",
    "new_graph = builder.compile()"
   ]
  },
  {
   "cell_type": "code",
   "execution_count": 27,
   "id": "a9d66b2d",
   "metadata": {},
   "outputs": [
    {
     "data": {
      "image/png": "[encoded data removed]",
      "text/plain": [
       "<langgraph.graph.state.CompiledStateGraph object at 0x000002D3B3B15850>"
      ]
     },
     "execution_count": 27,
     "metadata": {},
     "output_type": "execute_result"
    }
   ],
   "source": [
    "new_graph"
   ]
  },
  {
   "cell_type": "code",
   "execution_count": 29,
   "id": "ddcbb600",
   "metadata": {},
   "outputs": [],
   "source": [
    "new_response = new_graph.invoke({\"messages\": \"Give recent AI news along with the date the news was published.\"})"
   ]
  },
  {
   "cell_type": "code",
   "execution_count": 34,
   "id": "f0a5d8c1",
   "metadata": {},
   "outputs": [
    {
     "data": {
      "text/plain": [
       "'{\"query\": \"recent AI news\", \"follow_up_questions\": null, \"answer\": null, \"images\": [], \"results\": [{\"url\": \"https://www.computerworld.com/article/4035190/genai-tools-are-acting-more-alive-than-ever-they-blackmail-people-replicate-and-escape.html\", \"title\": \"GenAI self-preserves by blackmailing people, replicating itself, and escaping - Computerworld\", \"score\": 0.8018276, \"published_date\": \"Mon, 11 Aug 2025 10:04:38 GMT\", \"content\": \"news analysis ### OpenAI drops GPT-5: smarter, sharper, and built for the real world Aug 7, 2025 6 mins\\\\n   news analysis ### Tech employment holds steady as job growth slows and AI-driven roles surge Aug 5, 2025 4 mins\\\\n   feature ### Driverless cars are becoming jerks — and they’re safer because of it Jul 29, 2025 7 mins\\\\n   news analysis ### AI chatbots ditch medical disclaimers, putting users at risk, study warns Jul 23, 2025 5 mins [...] feature ### From chatbots to robots: The rise of ‘physical AI’ Jul 21, 2025 9 mins\\\\n   feature ### Rushing into genAI? Prepare for budget blowouts and broken promises Jul 16, 2025 14 mins\\\\n   news analysis ### Hotter than a GPU in July: some tech jobs skyrocket, unemployment rate slides Jul 8, 2025 6 mins\\\\n   news analysis ### Most managers now rely on AI for hiring and firing, study finds Jul 7, 2025 5 mins [...] feature ### How generative AI impacts your brain By Matt Egan Aug 11, 2025 4 mins Apple Desktop PCs Generative AInews analysis ### Another long week in Apple Intelligence By Jonny Evans Aug 8, 2025 4 mins Apple Generative AI Siriopinion ### The dark side of AI monetization By Mike Elgan Aug 8, 2025 7 mins Artificial Intelligence Generative AI\\\\n\\\\nOther Sections\\\\n--------------\\\\n\\\\n   Podcasts\\\\n   Videos\\\\n   Resources\\\\n   Events\\\\n   Spotlight: AI-ready data centers\\\\n\\\\n SUBSCRIBE TO OUR NEWSLETTER\", \"raw_content\": null}, {\"url\": \"https://www.theregister.com/2025/08/11/google_fixing_gemini_self_flagellation/\", \"title\": \"Google fixing Gemini to stop it self-flagellating - theregister.com\", \"score\": 0.65861565, \"published_date\": \"Mon, 11 Aug 2025 05:31:00 GMT\", \"content\": \"#### Red teams are safe from robots for now, as AI makes better shield than spear Black Hat/DEF CON The bad news? The machines, and their operators, are coming on fast CSO 11 Aug 2025 |#### Mistral AI environmental report confirms AI is a hungry, thirsty beast French model dev hopes to inspire others to adopt standards-based reporting AI + ML 24 Jul 2025 | 4#### Perplexity AI accused of scraping content against websites’ will with unlisted IP ranges Cloudflare finds AI search biz ignoring crawl [...] ai-pocalypse Summarizing online content is good for the search giant, not so much for publishers AI + ML 22 Jul 2025 | 25#### Europe\\'s AI crackdown starts this week and Big Tech isn\\'t happy Users and developers struggle to comply as situation evolves AI + ML 30 Jul 2025 | 29#### Datacenter lobby blows a fuse over EU efficiency proposals Green rules risk short-circuiting AI ambitions, warns group including AWS, Microsoft and Google On-Prem 30 Jul 2025 | 19 [...] prohibitions and trying to hide its spiders AI + ML 4 Aug 2025 | 14#### Tony Blair Institute: UK needs bit barns to lead in AI deployment, not training Let US and China compete in the AI development arms race, says former Brit PM\\'s non-profit org Cloud Infrastructure Month 4 Aug 2025 | 66\", \"raw_content\": null}], \"response_time\": 1.47, \"request_id\": \"3c1dcc46-632d-4499-9ef3-c607f7d6b96f\"}'"
      ]
     },
     "execution_count": 34,
     "metadata": {},
     "output_type": "execute_result"
    }
   ],
   "source": [
    "new_response['messages'][-1].content"
   ]
  },
  {
   "cell_type": "code",
   "execution_count": 35,
   "id": "ad4f85c9",
   "metadata": {},
   "outputs": [
    {
     "data": {
      "text/plain": [
       "[{'url': 'https://www.computerworld.com/article/4035190/genai-tools-are-acting-more-alive-than-ever-they-blackmail-people-replicate-and-escape.html',\n",
       "  'title': 'GenAI self-preserves by blackmailing people, replicating itself, and escaping - Computerworld',\n",
       "  'score': 0.8018276,\n",
       "  'published_date': 'Mon, 11 Aug 2025 10:04:38 GMT',\n",
       "  'content': 'news analysis ### OpenAI drops GPT-5: smarter, sharper, and built for the real world Aug 7, 2025 6 mins\\n   news analysis ### Tech employment holds steady as job growth slows and AI-driven roles surge Aug 5, 2025 4 mins\\n   feature ### Driverless cars are becoming jerks — and they’re safer because of it Jul 29, 2025 7 mins\\n   news analysis ### AI chatbots ditch medical disclaimers, putting users at risk, study warns Jul 23, 2025 5 mins [...] feature ### From chatbots to robots: The rise of ‘physical AI’ Jul 21, 2025 9 mins\\n   feature ### Rushing into genAI? Prepare for budget blowouts and broken promises Jul 16, 2025 14 mins\\n   news analysis ### Hotter than a GPU in July: some tech jobs skyrocket, unemployment rate slides Jul 8, 2025 6 mins\\n   news analysis ### Most managers now rely on AI for hiring and firing, study finds Jul 7, 2025 5 mins [...] feature ### How generative AI impacts your brain By Matt Egan Aug 11, 2025 4 mins Apple Desktop PCs Generative AInews analysis ### Another long week in Apple Intelligence By Jonny Evans Aug 8, 2025 4 mins Apple Generative AI Siriopinion ### The dark side of AI monetization By Mike Elgan Aug 8, 2025 7 mins Artificial Intelligence Generative AI\\n\\nOther Sections\\n--------------\\n\\n   Podcasts\\n   Videos\\n   Resources\\n   Events\\n   Spotlight: AI-ready data centers\\n\\n SUBSCRIBE TO OUR NEWSLETTER',\n",
       "  'raw_content': None},\n",
       " {'url': 'https://www.theregister.com/2025/08/11/google_fixing_gemini_self_flagellation/',\n",
       "  'title': 'Google fixing Gemini to stop it self-flagellating - theregister.com',\n",
       "  'score': 0.65861565,\n",
       "  'published_date': 'Mon, 11 Aug 2025 05:31:00 GMT',\n",
       "  'content': \"#### Red teams are safe from robots for now, as AI makes better shield than spear Black Hat/DEF CON The bad news? The machines, and their operators, are coming on fast CSO 11 Aug 2025 |#### Mistral AI environmental report confirms AI is a hungry, thirsty beast French model dev hopes to inspire others to adopt standards-based reporting AI + ML 24 Jul 2025 | 4#### Perplexity AI accused of scraping content against websites’ will with unlisted IP ranges Cloudflare finds AI search biz ignoring crawl [...] ai-pocalypse Summarizing online content is good for the search giant, not so much for publishers AI + ML 22 Jul 2025 | 25#### Europe's AI crackdown starts this week and Big Tech isn't happy Users and developers struggle to comply as situation evolves AI + ML 30 Jul 2025 | 29#### Datacenter lobby blows a fuse over EU efficiency proposals Green rules risk short-circuiting AI ambitions, warns group including AWS, Microsoft and Google On-Prem 30 Jul 2025 | 19 [...] prohibitions and trying to hide its spiders AI + ML 4 Aug 2025 | 14#### Tony Blair Institute: UK needs bit barns to lead in AI deployment, not training Let US and China compete in the AI development arms race, says former Brit PM's non-profit org Cloud Infrastructure Month 4 Aug 2025 | 66\",\n",
       "  'raw_content': None}]"
      ]
     },
     "execution_count": 35,
     "metadata": {},
     "output_type": "execute_result"
    }
   ],
   "source": [
    "import json\n",
    "json.loads(new_response['messages'][-1].content)['results']"
   ]
  },
  {
   "cell_type": "code",
   "execution_count": null,
   "id": "73fa97dc",
   "metadata": {},
   "outputs": [],
   "source": []
  }
 ],
 "metadata": {
  "kernelspec": {
   "display_name": "ai-playground",
   "language": "python",
   "name": "python3"
  },
  "language_info": {
   "codemirror_mode": {
    "name": "ipython",
    "version": 3
   },
   "file_extension": ".py",
   "mimetype": "text/x-python",
   "name": "python",
   "nbconvert_exporter": "python",
   "pygments_lexer": "ipython3",
   "version": "3.12.4"
  }
 },
 "nbformat": 4,
 "nbformat_minor": 5
}
