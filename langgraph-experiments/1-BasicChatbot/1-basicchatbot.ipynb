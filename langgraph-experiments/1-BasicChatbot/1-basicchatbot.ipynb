{
 "cells": [
  {
   "cell_type": "markdown",
   "id": "a19397ca",
   "metadata": {},
   "source": [
    "### 1.1 Building a basic chatbot with Langgraph (Graph API)"
   ]
  },
  {
   "cell_type": "code",
   "execution_count": 34,
   "id": "1da4e72c",
   "metadata": {},
   "outputs": [],
   "source": [
    "from typing import Annotated\n",
    "from typing_extensions import TypedDict\n",
    "from langgraph.graph import StateGraph, START, END\n",
    "from langgraph.graph.message import add_messages # add_messages is a reducer\n",
    "import os\n",
    "from dotenv import load_dotenv\n",
    "from langchain_openai import ChatOpenAI\n",
    "from langchain.chat_models import init_chat_model\n",
    "\n",
    "from langchain_tavily import TavilySearch\n",
    "from langgraph.prebuilt import ToolNode, tools_condition\n",
    "from langgraph.checkpoint.memory import MemorySaver\n",
    "\n",
    "load_dotenv()\n",
    "memory = MemorySaver()"
   ]
  },
  {
   "cell_type": "code",
   "execution_count": 3,
   "id": "5f5c6bad",
   "metadata": {},
   "outputs": [],
   "source": [
    "class State(TypedDict):\n",
    "    # Messages have the type \"list\". The `add_messages`function\n",
    "    # in the annotation defines how this state key should be updated\n",
    "    # (in this case, it appends messages to the list, rather than overwriting them)\n",
    "    messages:Annotated[list, add_messages]"
   ]
  },
  {
   "cell_type": "code",
   "execution_count": 4,
   "id": "3be4e625",
   "metadata": {},
   "outputs": [],
   "source": [
    "llm = ChatOpenAI(model=\"gpt-4o\")"
   ]
  },
  {
   "cell_type": "code",
   "execution_count": 5,
   "id": "9200a923",
   "metadata": {},
   "outputs": [],
   "source": [
    "# Node functionality\n",
    "def chatbot(state:State):\n",
    "    return {'messages': [llm.invoke(state['messages'])]}"
   ]
  },
  {
   "cell_type": "code",
   "execution_count": 6,
   "id": "70cb9c21",
   "metadata": {},
   "outputs": [],
   "source": [
    "graph_builder = StateGraph(State)\n",
    "\n",
    "# Create a node\n",
    "graph_builder.add_node(\"LLMChatbot\", chatbot)\n",
    "\n",
    "# Establish edges\n",
    "graph_builder.add_edge(START, \"LLMChatbot\")\n",
    "graph_builder.add_edge(\"LLMChatbot\", END)\n",
    "\n",
    "# Complie graph\n",
    "graph = graph_builder.compile()"
   ]
  },
  {
   "cell_type": "code",
   "execution_count": 7,
   "id": "31c774ad",
   "metadata": {},
   "outputs": [
    {
     "data": {
      "image/png": "[encoded data removed]",
      "text/plain": [
       "<langgraph.graph.state.CompiledStateGraph object at 0x000001F366252FC0>"
      ]
     },
     "execution_count": 7,
     "metadata": {},
     "output_type": "execute_result"
    }
   ],
   "source": [
    "graph"
   ]
  },
  {
   "cell_type": "code",
   "execution_count": 8,
   "id": "01a5fa90",
   "metadata": {},
   "outputs": [],
   "source": [
    "response = graph.invoke({\"messages\":\"Hi\"})"
   ]
  },
  {
   "cell_type": "code",
   "execution_count": 9,
   "id": "0ad199d9",
   "metadata": {},
   "outputs": [
    {
     "data": {
      "text/plain": [
       "{'messages': [HumanMessage(content='Hi', additional_kwargs={}, response_metadata={}, id='405907bc-af35-4482-8410-64c74bd1e986'),\n",
       "  AIMessage(content='Hello! How can I assist you today?', additional_kwargs={'refusal': None}, response_metadata={'token_usage': {'completion_tokens': 9, 'prompt_tokens': 8, 'total_tokens': 17, 'completion_tokens_details': {'accepted_prediction_tokens': 0, 'audio_tokens': 0, 'reasoning_tokens': 0, 'rejected_prediction_tokens': 0}, 'prompt_tokens_details': {'audio_tokens': 0, 'cached_tokens': 0}}, 'model_name': 'gpt-4o-2024-08-06', 'system_fingerprint': 'fp_80956533cb', 'id': 'chatcmpl-C61T8LiQVLSt1gqJw8PuBnDedmLAw', 'service_tier': 'default', 'finish_reason': 'stop', 'logprobs': None}, id='run--1aab71f6-d571-4b8b-bfc1-70b4e61c3c4c-0', usage_metadata={'input_tokens': 8, 'output_tokens': 9, 'total_tokens': 17, 'input_token_details': {'audio': 0, 'cache_read': 0}, 'output_token_details': {'audio': 0, 'reasoning': 0}})]}"
      ]
     },
     "execution_count": 9,
     "metadata": {},
     "output_type": "execute_result"
    }
   ],
   "source": [
    "response"
   ]
  },
  {
   "cell_type": "code",
   "execution_count": 10,
   "id": "86d7d30b",
   "metadata": {},
   "outputs": [
    {
     "data": {
      "text/plain": [
       "'Hello! How can I assist you today?'"
      ]
     },
     "execution_count": 10,
     "metadata": {},
     "output_type": "execute_result"
    }
   ],
   "source": [
    "response['messages'][-1].content"
   ]
  },
  {
   "cell_type": "code",
   "execution_count": 11,
   "id": "d7bd3a7a",
   "metadata": {},
   "outputs": [
    {
     "name": "stdout",
     "output_type": "stream",
     "text": [
      "Hello! I'm just a program, so I don't have feelings, but I'm here and ready to help you. How can I assist you today?\n"
     ]
    }
   ],
   "source": [
    "for event in graph.stream({\"messages\": \"Hi, how are you?\"}):\n",
    "    for value in event.values():\n",
    "        print(value['messages'][-1].content)\n"
   ]
  },
  {
   "cell_type": "code",
   "execution_count": 12,
   "id": "4bb3aa1a",
   "metadata": {},
   "outputs": [
    {
     "name": "stdout",
     "output_type": "stream",
     "text": [
      "I'm unable to provide real-time news or updates. However, I can suggest checking reputable news sources or technology news websites for the latest developments in AI. Websites like TechCrunch, Wired, The Verge, or the technology sections of major news organizations like BBC, The New York Times, or The Guardian often cover the latest in AI advancements, research, and news.\n"
     ]
    }
   ],
   "source": [
    "for event in graph.stream({\"messages\": \"Can you give me some recent AI related news along with the date the news was published?\"}):\n",
    "    for value in event.values():\n",
    "        print(value['messages'][-1].content)\n"
   ]
  },
  {
   "cell_type": "markdown",
   "id": "c1581f4a",
   "metadata": {},
   "source": [
    "### 1.2 Chatbot with tools"
   ]
  },
  {
   "cell_type": "code",
   "execution_count": 13,
   "id": "dd805d39",
   "metadata": {},
   "outputs": [
    {
     "data": {
      "text/plain": [
       "{'query': 'What is langgraph?',\n",
       " 'follow_up_questions': None,\n",
       " 'answer': None,\n",
       " 'images': [],\n",
       " 'results': [{'url': 'https://www.datacamp.com/tutorial/langgraph-tutorial',\n",
       "   'title': 'LangGraph Tutorial: What Is LangGraph and How to Use It?',\n",
       "   'content': 'LangGraph is a library within the LangChain ecosystem that provides a framework for defining, coordinating, and executing multiple LLM agents (or chains) in a structured and efficient manner. By managing the flow of data and the sequence of operations, LangGraph allows developers to focus on the high-level logic of their applications rather than the intricacies of agent coordination. Whether you need a chatbot that can handle various types of user requests or a multi-agent system that performs complex tasks, LangGraph provides the tools to build exactly what you need. LangGraph significantly simplifies the development of complex LLM applications by providing a structured framework for managing state and coordinating agent interactions.',\n",
       "   'score': 0.9520821,\n",
       "   'raw_content': None},\n",
       "  {'url': 'https://www.ibm.com/think/topics/langgraph',\n",
       "   'title': 'What is LangGraph? - IBM',\n",
       "   'content': 'LangGraph, created by LangChain, is an open source AI agent framework designed to build, deploy and manage complex generative AI agent workflows. At its core, LangGraph uses the power of graph-based architectures to model and manage the intricate relationships between various components of an AI agent workflow. LangGraph illuminates the processes within an AI workflow, allowing full transparency of the agent’s state. By combining these technologies with a set of APIs and tools, LangGraph provides users with a versatile platform for developing AI solutions and workflows including chatbots, state graphs and other agent-based systems. Nodes: In LangGraph, nodes represent individual components or agents within an AI workflow. LangGraph uses enhanced decision-making by modeling complex relationships between nodes, which means it uses AI agents to analyze their past actions and feedback.',\n",
       "   'score': 0.94584644,\n",
       "   'raw_content': None}],\n",
       " 'response_time': 0.95,\n",
       " 'request_id': '8500c096-d986-43bc-a519-852c4cea074c'}"
      ]
     },
     "execution_count": 13,
     "metadata": {},
     "output_type": "execute_result"
    }
   ],
   "source": [
    "searchtool = TavilySearch(max_results=2)\n",
    "searchtool.invoke(\"What is langgraph?\")"
   ]
  },
  {
   "cell_type": "code",
   "execution_count": 14,
   "id": "4cec1d17",
   "metadata": {},
   "outputs": [],
   "source": [
    "def multiply(a:int, b:int)->int:\n",
    "    \"\"\"\n",
    "    Multiple a with b.\n",
    "\n",
    "    a (int): First integer\n",
    "    b (int): Second integer\n",
    "\n",
    "    Returns:\n",
    "        int: output integer product\n",
    "    \"\"\"\n",
    "    return int(a*b)"
   ]
  },
  {
   "cell_type": "code",
   "execution_count": 15,
   "id": "bd8cc17d",
   "metadata": {},
   "outputs": [],
   "source": [
    "tools=[searchtool, multiply]\n",
    "llm_with_tools=llm.bind_tools(tools)"
   ]
  },
  {
   "cell_type": "code",
   "execution_count": 16,
   "id": "225bd072",
   "metadata": {},
   "outputs": [],
   "source": [
    "def tools_calling_llm(state:State):\n",
    "    return {\"messages\": llm_with_tools.invoke(state['messages'])}\n",
    "\n",
    "### New StateGraph\n",
    "builder = StateGraph(State)\n",
    "\n",
    "## Add Nodes\n",
    "builder.add_node(\"ToolCallLLM\", tools_calling_llm)\n",
    "builder.add_node(\"tools\", ToolNode(tools))\n",
    "\n",
    "## Add Edges\n",
    "builder.add_edge(START, \"ToolCallLLM\")\n",
    "# If the lastest message from the assistant is a tool call, tools_condition routes to \"Tools\"\n",
    "# If the lastest message from the assistant is not a tool call, tools_condition routes to \"END\"\n",
    "builder.add_conditional_edges(\"ToolCallLLM\", tools_condition)\n",
    "builder.add_edge(\"tools\", END)\n",
    "\n",
    "# Compile graph\n",
    "new_graph = builder.compile()"
   ]
  },
  {
   "cell_type": "code",
   "execution_count": 17,
   "id": "a9d66b2d",
   "metadata": {},
   "outputs": [
    {
     "data": {
      "image/png": "[encoded data removed]",
      "text/plain": [
       "<langgraph.graph.state.CompiledStateGraph object at 0x000001F36652C650>"
      ]
     },
     "execution_count": 17,
     "metadata": {},
     "output_type": "execute_result"
    }
   ],
   "source": [
    "new_graph"
   ]
  },
  {
   "cell_type": "code",
   "execution_count": 18,
   "id": "ddcbb600",
   "metadata": {},
   "outputs": [],
   "source": [
    "new_response = new_graph.invoke({\"messages\": \"Give recent AI news along with the date the news was published.\"})"
   ]
  },
  {
   "cell_type": "code",
   "execution_count": 19,
   "id": "f0a5d8c1",
   "metadata": {},
   "outputs": [
    {
     "data": {
      "text/plain": [
       "'{\"query\": \"AI news\", \"follow_up_questions\": null, \"answer\": null, \"images\": [], \"results\": [{\"url\": \"https://www.foxnews.com/tech/fox-news-ai-newsletter-trump-admin-unveils-groundbreaking-tool-supercharging-govt-efficiency-ai\", \"title\": \"Fox News AI Newsletter: Trump admin unveils groundbreaking tool \\'supercharging\\' gov\\'t efficiency in AI - Fox News\", \"score\": 0.6052631, \"published_date\": \"Sat, 16 Aug 2025 13:00:06 GMT\", \"content\": \"Right Arrow\\\\n\\\\nArtificial Intelligence Newsletter\\\\nFox News AI Newsletter: Trump admin unveils groundbreaking tool \\'supercharging\\' gov\\'t efficiency in AI\\\\n======================================================================================================\\\\n\\\\nStay up to date on the latest AI technology advancements and learn about the challenges and opportunities AI presents\\\\n--------------------------------------------------------------------------------------------------------------------- [...] \\'MUCH SMARTER\\': Geoffrey Hinton, one of the most prominent figures in the world of artificial intelligence, is sounding the alarm that machines could soon outthink humans, and he\\'s advocating for \\\\\"maternal instincts\\\\\" to be built into advanced systems to ensure AI cares for and protects people. [...] Stay up to date on the latest AI technology advancements and learn about the challenges and opportunities AI presents now and for the future with Fox Newshere.\\\\n\\\\nThis article was written by Fox News staff.\\\\n\\\\nDeals You May Like\\\\n\\\\nImage 28: You can buy these 12 tiny houses on AmazonYou can buy these 12 tiny houses on Amazon Fox News\\\\n\\\\nImage 29: The 15 weirdest things you can buy on AmazonThe 15 weirdest things you can buy on Amazon Fox News\", \"raw_content\": null}, {\"url\": \"https://www.telecoms.com/digital-ecosystem/ai?page=29\", \"title\": \"AI recent news | page 29 of 29 | Telecoms - Telecoms.com\", \"score\": 0.5752307, \"published_date\": \"Wed, 13 Aug 2025 11:27:25 GMT\", \"content\": \"Nokia to provide optical backbone for fibre expansion in MexicoNokia to provide optical backbone for fibre expansion in Mexico\\\\n\\\\nbyAndrew Wooden\\\\n\\\\nAug 11, 2025\\\\n\\\\n2 Min Read\\\\n\\\\n   Home\\\\n   Digital Ecosystem\\\\n   AI\\\\n\\\\nAI\\\\n==\\\\n\\\\nVodafone goes to ThailandImage 20AI\\\\n\\\\nVodafone goes to ThailandVodafone goes to Thailand\\\\nThai operator dtac said this week that it has signed a deal with Vodafone, the World\\'s Largest Carrier by Revenues, giving Big Red access to the local market.\\\\n\\\\nImage 21: Picture of James Middleton [...] byJames Middleton\\\\n\\\\nMar 27, 2009\\\\n\\\\n|\\\\n\\\\n1 Min Read\\\\n\\\\n   Previous\\\\n   1\\\\n   …\\\\n   27\\\\n   28\\\\n   29\\\\n   Next\\\\n\\\\n### Latest News\\\\n\\\\nImage 22\\\\n\\\\nDigital Ecosystem\\\\n\\\\nPerplexity makes unserious bid to buy Google’s Chrome browser\\\\n\\\\nPerplexity makes unserious bid to buy Google’s Chrome browser\\\\n\\\\nAug 13, 2025\\\\n\\\\nImage 23\\\\n\\\\nAI\\\\n\\\\nMinority of telcos think networks are ‘very ready’ for AI\\\\n\\\\nMinority of telcos think networks are ‘very ready’ for AI\\\\n\\\\nAug 13, 2025 [...] Transforming Customer Care: Vodafone\\'s AI Journey and Vision for the Future\\\\n\\\\nTransforming Customer Care: Vodafone\\'s AI Journey and Vision for the Future\\\\n\\\\nOct 3, 2024\\\\n\\\\nImage 27\\\\n\\\\nTelecoms Infrastructure\\\\n\\\\nMaximizing Efficiency and Cost Management for the Telecom Infrastructure of the Future\\\\n\\\\nMaximizing Efficiency and Cost Management for the Telecom Infrastructure of the Future\\\\n\\\\nOct 29, 2024\\\\n\\\\nImage 28\\\\n\\\\nAI\\\\n\\\\nBuilding Sustainable AI Data Center Networks\\\\n\\\\nBuilding Sustainable AI Data Center Networks\", \"raw_content\": null}], \"response_time\": 3.21, \"request_id\": \"e0fc02ef-b6c5-4319-b533-7194a9584eb6\"}'"
      ]
     },
     "execution_count": 19,
     "metadata": {},
     "output_type": "execute_result"
    }
   ],
   "source": [
    "new_response['messages'][-1].content"
   ]
  },
  {
   "cell_type": "code",
   "execution_count": 20,
   "id": "ad4f85c9",
   "metadata": {},
   "outputs": [
    {
     "data": {
      "text/plain": [
       "[{'url': 'https://www.foxnews.com/tech/fox-news-ai-newsletter-trump-admin-unveils-groundbreaking-tool-supercharging-govt-efficiency-ai',\n",
       "  'title': \"Fox News AI Newsletter: Trump admin unveils groundbreaking tool 'supercharging' gov't efficiency in AI - Fox News\",\n",
       "  'score': 0.6052631,\n",
       "  'published_date': 'Sat, 16 Aug 2025 13:00:06 GMT',\n",
       "  'content': 'Right Arrow\\n\\nArtificial Intelligence Newsletter\\nFox News AI Newsletter: Trump admin unveils groundbreaking tool \\'supercharging\\' gov\\'t efficiency in AI\\n======================================================================================================\\n\\nStay up to date on the latest AI technology advancements and learn about the challenges and opportunities AI presents\\n--------------------------------------------------------------------------------------------------------------------- [...] \\'MUCH SMARTER\\': Geoffrey Hinton, one of the most prominent figures in the world of artificial intelligence, is sounding the alarm that machines could soon outthink humans, and he\\'s advocating for \"maternal instincts\" to be built into advanced systems to ensure AI cares for and protects people. [...] Stay up to date on the latest AI technology advancements and learn about the challenges and opportunities AI presents now and for the future with Fox Newshere.\\n\\nThis article was written by Fox News staff.\\n\\nDeals You May Like\\n\\nImage 28: You can buy these 12 tiny houses on AmazonYou can buy these 12 tiny houses on Amazon Fox News\\n\\nImage 29: The 15 weirdest things you can buy on AmazonThe 15 weirdest things you can buy on Amazon Fox News',\n",
       "  'raw_content': None},\n",
       " {'url': 'https://www.telecoms.com/digital-ecosystem/ai?page=29',\n",
       "  'title': 'AI recent news | page 29 of 29 | Telecoms - Telecoms.com',\n",
       "  'score': 0.5752307,\n",
       "  'published_date': 'Wed, 13 Aug 2025 11:27:25 GMT',\n",
       "  'content': \"Nokia to provide optical backbone for fibre expansion in MexicoNokia to provide optical backbone for fibre expansion in Mexico\\n\\nbyAndrew Wooden\\n\\nAug 11, 2025\\n\\n2 Min Read\\n\\n   Home\\n   Digital Ecosystem\\n   AI\\n\\nAI\\n==\\n\\nVodafone goes to ThailandImage 20AI\\n\\nVodafone goes to ThailandVodafone goes to Thailand\\nThai operator dtac said this week that it has signed a deal with Vodafone, the World's Largest Carrier by Revenues, giving Big Red access to the local market.\\n\\nImage 21: Picture of James Middleton [...] byJames Middleton\\n\\nMar 27, 2009\\n\\n|\\n\\n1 Min Read\\n\\n   Previous\\n   1\\n   …\\n   27\\n   28\\n   29\\n   Next\\n\\n### Latest News\\n\\nImage 22\\n\\nDigital Ecosystem\\n\\nPerplexity makes unserious bid to buy Google’s Chrome browser\\n\\nPerplexity makes unserious bid to buy Google’s Chrome browser\\n\\nAug 13, 2025\\n\\nImage 23\\n\\nAI\\n\\nMinority of telcos think networks are ‘very ready’ for AI\\n\\nMinority of telcos think networks are ‘very ready’ for AI\\n\\nAug 13, 2025 [...] Transforming Customer Care: Vodafone's AI Journey and Vision for the Future\\n\\nTransforming Customer Care: Vodafone's AI Journey and Vision for the Future\\n\\nOct 3, 2024\\n\\nImage 27\\n\\nTelecoms Infrastructure\\n\\nMaximizing Efficiency and Cost Management for the Telecom Infrastructure of the Future\\n\\nMaximizing Efficiency and Cost Management for the Telecom Infrastructure of the Future\\n\\nOct 29, 2024\\n\\nImage 28\\n\\nAI\\n\\nBuilding Sustainable AI Data Center Networks\\n\\nBuilding Sustainable AI Data Center Networks\",\n",
       "  'raw_content': None}]"
      ]
     },
     "execution_count": 20,
     "metadata": {},
     "output_type": "execute_result"
    }
   ],
   "source": [
    "import json\n",
    "json.loads(new_response['messages'][-1].content)['results']"
   ]
  },
  {
   "cell_type": "code",
   "execution_count": 21,
   "id": "73fa97dc",
   "metadata": {},
   "outputs": [
    {
     "name": "stdout",
     "output_type": "stream",
     "text": [
      "================================\u001b[1m Human Message \u001b[0m=================================\n",
      "\n",
      "Give recent AI news along with the date the news was published.\n",
      "==================================\u001b[1m Ai Message \u001b[0m==================================\n",
      "Tool Calls:\n",
      "  tavily_search (call_0EAEd1N38UsoSyEPiyCC9cvt)\n",
      " Call ID: call_0EAEd1N38UsoSyEPiyCC9cvt\n",
      "  Args:\n",
      "    query: AI news\n",
      "    search_depth: advanced\n",
      "    time_range: week\n",
      "    topic: news\n",
      "=================================\u001b[1m Tool Message \u001b[0m=================================\n",
      "Name: tavily_search\n",
      "\n",
      "{\"query\": \"AI news\", \"follow_up_questions\": null, \"answer\": null, \"images\": [], \"results\": [{\"url\": \"https://www.foxnews.com/tech/fox-news-ai-newsletter-trump-admin-unveils-groundbreaking-tool-supercharging-govt-efficiency-ai\", \"title\": \"Fox News AI Newsletter: Trump admin unveils groundbreaking tool 'supercharging' gov't efficiency in AI - Fox News\", \"score\": 0.6052631, \"published_date\": \"Sat, 16 Aug 2025 13:00:06 GMT\", \"content\": \"Right Arrow\\n\\nArtificial Intelligence Newsletter\\nFox News AI Newsletter: Trump admin unveils groundbreaking tool 'supercharging' gov't efficiency in AI\\n======================================================================================================\\n\\nStay up to date on the latest AI technology advancements and learn about the challenges and opportunities AI presents\\n--------------------------------------------------------------------------------------------------------------------- [...] 'MUCH SMARTER': Geoffrey Hinton, one of the most prominent figures in the world of artificial intelligence, is sounding the alarm that machines could soon outthink humans, and he's advocating for \\\"maternal instincts\\\" to be built into advanced systems to ensure AI cares for and protects people. [...] Stay up to date on the latest AI technology advancements and learn about the challenges and opportunities AI presents now and for the future with Fox Newshere.\\n\\nThis article was written by Fox News staff.\\n\\nDeals You May Like\\n\\nImage 28: You can buy these 12 tiny houses on AmazonYou can buy these 12 tiny houses on Amazon Fox News\\n\\nImage 29: The 15 weirdest things you can buy on AmazonThe 15 weirdest things you can buy on Amazon Fox News\", \"raw_content\": null}, {\"url\": \"https://www.telecoms.com/digital-ecosystem/ai?page=29\", \"title\": \"AI recent news | page 29 of 29 | Telecoms - Telecoms.com\", \"score\": 0.5752307, \"published_date\": \"Wed, 13 Aug 2025 11:27:25 GMT\", \"content\": \"Nokia to provide optical backbone for fibre expansion in MexicoNokia to provide optical backbone for fibre expansion in Mexico\\n\\nbyAndrew Wooden\\n\\nAug 11, 2025\\n\\n2 Min Read\\n\\n   Home\\n   Digital Ecosystem\\n   AI\\n\\nAI\\n==\\n\\nVodafone goes to ThailandImage 20AI\\n\\nVodafone goes to ThailandVodafone goes to Thailand\\nThai operator dtac said this week that it has signed a deal with Vodafone, the World's Largest Carrier by Revenues, giving Big Red access to the local market.\\n\\nImage 21: Picture of James Middleton [...] byJames Middleton\\n\\nMar 27, 2009\\n\\n|\\n\\n1 Min Read\\n\\n   Previous\\n   1\\n   …\\n   27\\n   28\\n   29\\n   Next\\n\\n### Latest News\\n\\nImage 22\\n\\nDigital Ecosystem\\n\\nPerplexity makes unserious bid to buy Google’s Chrome browser\\n\\nPerplexity makes unserious bid to buy Google’s Chrome browser\\n\\nAug 13, 2025\\n\\nImage 23\\n\\nAI\\n\\nMinority of telcos think networks are ‘very ready’ for AI\\n\\nMinority of telcos think networks are ‘very ready’ for AI\\n\\nAug 13, 2025 [...] Transforming Customer Care: Vodafone's AI Journey and Vision for the Future\\n\\nTransforming Customer Care: Vodafone's AI Journey and Vision for the Future\\n\\nOct 3, 2024\\n\\nImage 27\\n\\nTelecoms Infrastructure\\n\\nMaximizing Efficiency and Cost Management for the Telecom Infrastructure of the Future\\n\\nMaximizing Efficiency and Cost Management for the Telecom Infrastructure of the Future\\n\\nOct 29, 2024\\n\\nImage 28\\n\\nAI\\n\\nBuilding Sustainable AI Data Center Networks\\n\\nBuilding Sustainable AI Data Center Networks\", \"raw_content\": null}], \"response_time\": 3.21, \"request_id\": \"e0fc02ef-b6c5-4319-b533-7194a9584eb6\"}\n"
     ]
    }
   ],
   "source": [
    "for m in new_response['messages']:\n",
    "    m.pretty_print()"
   ]
  },
  {
   "cell_type": "code",
   "execution_count": 22,
   "id": "da8a9496",
   "metadata": {},
   "outputs": [],
   "source": [
    "multiply_response = new_graph.invoke({\"messages\": \"What is 2 multipled by 10?\"})"
   ]
  },
  {
   "cell_type": "code",
   "execution_count": 23,
   "id": "57630254",
   "metadata": {},
   "outputs": [
    {
     "name": "stdout",
     "output_type": "stream",
     "text": [
      "================================\u001b[1m Human Message \u001b[0m=================================\n",
      "\n",
      "What is 2 multipled by 10?\n",
      "==================================\u001b[1m Ai Message \u001b[0m==================================\n",
      "Tool Calls:\n",
      "  multiply (call_ZyxoDyuI2iRZq5jdXRD4sWl0)\n",
      " Call ID: call_ZyxoDyuI2iRZq5jdXRD4sWl0\n",
      "  Args:\n",
      "    a: 2\n",
      "    b: 10\n",
      "=================================\u001b[1m Tool Message \u001b[0m=================================\n",
      "Name: multiply\n",
      "\n",
      "20\n"
     ]
    }
   ],
   "source": [
    "for m1 in multiply_response['messages']:\n",
    "    m1.pretty_print()"
   ]
  },
  {
   "cell_type": "markdown",
   "id": "0bd877f2",
   "metadata": {},
   "source": [
    "#### 1.2.1 What's missing in above scenario?\n",
    "\n",
    "If the bot is asked a complex query like `Give recent AI news along with the date the news was published. Then multiply 2 by 10.`, it will fail to do both the jobs. It will mostly complete the job given first in seqeuence i.e., the AI news part. Since the current graph flow directly ends after performing one task. Ideally, there should be some kind of recursive flow which allows for recursive calls to the `ToolsNode` until all the tasks in the given user query are served/completed.\n",
    "\n",
    "Enter ReAct Agent"
   ]
  },
  {
   "cell_type": "markdown",
   "id": "f9390605",
   "metadata": {},
   "source": [
    "### 1.3 ReAct Architecture"
   ]
  },
  {
   "cell_type": "code",
   "execution_count": 26,
   "id": "25e10aa3",
   "metadata": {},
   "outputs": [],
   "source": [
    "### New StateGraph\n",
    "new_builder = StateGraph(State)\n",
    "\n",
    "## Add Nodes\n",
    "new_builder.add_node(\"ToolCallLLM\", tools_calling_llm)\n",
    "new_builder.add_node(\"tools\", ToolNode(tools))\n",
    "\n",
    "## Add Edges\n",
    "new_builder.add_edge(START, \"ToolCallLLM\")\n",
    "# If the lastest message from the assistant is a tool call, tools_condition routes to \"Tools\"\n",
    "# If the lastest message from the assistant is not a tool call, tools_condition routes to \"END\"\n",
    "new_builder.add_conditional_edges(\"ToolCallLLM\", tools_condition)\n",
    "new_builder.add_edge(\"tools\", \"ToolCallLLM\")\n",
    "\n",
    "# Compile graph\n",
    "react_graph = new_builder.compile()"
   ]
  },
  {
   "cell_type": "code",
   "execution_count": 27,
   "id": "10ac64a0",
   "metadata": {},
   "outputs": [
    {
     "data": {
      "image/png": "[encoded data removed]",
      "text/plain": [
       "<langgraph.graph.state.CompiledStateGraph object at 0x000001F365E92CC0>"
      ]
     },
     "execution_count": 27,
     "metadata": {},
     "output_type": "execute_result"
    }
   ],
   "source": [
    "react_graph"
   ]
  },
  {
   "cell_type": "code",
   "execution_count": 32,
   "id": "77aca3f4",
   "metadata": {},
   "outputs": [],
   "source": [
    "react_response = react_graph.invoke({\"messages\": \"Give recent AI news along with the date the news was published. Then multiply 2 by 50.\"})"
   ]
  },
  {
   "cell_type": "code",
   "execution_count": 33,
   "id": "561047de",
   "metadata": {},
   "outputs": [
    {
     "name": "stdout",
     "output_type": "stream",
     "text": [
      "================================\u001b[1m Human Message \u001b[0m=================================\n",
      "\n",
      "Give recent AI news along with the date the news was published. Then multiply 2 by 50.\n",
      "==================================\u001b[1m Ai Message \u001b[0m==================================\n",
      "Tool Calls:\n",
      "  tavily_search (call_0rUZgcr1EvC4kcCCKUpAHViZ)\n",
      " Call ID: call_0rUZgcr1EvC4kcCCKUpAHViZ\n",
      "  Args:\n",
      "    query: recent AI news\n",
      "    topic: news\n",
      "  multiply (call_Fru687JSeoSVfvVvI24BcVv1)\n",
      " Call ID: call_Fru687JSeoSVfvVvI24BcVv1\n",
      "  Args:\n",
      "    a: 2\n",
      "    b: 50\n",
      "=================================\u001b[1m Tool Message \u001b[0m=================================\n",
      "Name: tavily_search\n",
      "\n",
      "{\"query\": \"recent AI news\", \"follow_up_questions\": null, \"answer\": null, \"images\": [], \"results\": [{\"url\": \"https://www.telecoms.com/digital-ecosystem/ai?page=29\", \"title\": \"AI recent news | page 29 of 29 | Telecoms - Telecoms.com\", \"score\": 0.72768575, \"published_date\": \"Wed, 13 Aug 2025 11:27:25 GMT\", \"content\": \"AI recent news | page 29 of 29 | Telecoms Image 1 TechTarget and Informa Tech’s Digital Business Combine. Image 3: Telecoms thumbnailImage 5Wireless Networking thumbnailImage 6Digital Ecosystem thumbnailImage 7AI #### Recent inFixed Networks thumbnailImage 8AI thumbnailImage 9Fibre thumbnailImage 11Network Software thumbnailImage 12AI thumbnailImage 14Digital Ecosystem thumbnailImage 16Telecoms Infrastructure thumbnailImage 19Fibre Image 22 Image 23 Minority of telcos think networks are ‘very ready’ for AI Minority of telcos think networks are ‘very ready’ for AI Image 25 Image 26 Image 27 Image 28 Image 29 Image 31 Image 32 Network Software Image 34: Telecoms Image 35: Informa This website is owned and operated by Informa TechTarget, part of a global network that informs, influences and connects the world’s technology buyers and sellers.\", \"raw_content\": null}, {\"url\": \"https://gizmodo.com/darpa-is-taking-its-ai-fighter-jet-program-to-the-next-level-2000643747\", \"title\": \"DARPA Is Taking Its AI Fighter Jet Program to the Next Level - Gizmodo\", \"score\": 0.6415577, \"published_date\": \"Fri, 15 Aug 2025 18:40:01 GMT\", \"content\": \"*   Image 6: A computer showing OpenAI's logoTech News Artificial Intelligence After a Summer of Chaos, OpenAI Strikes Back -------------------------------------------- After losing top talent to Meta and fumbling key deals, the ChatGPT maker just dropped two massive announcements in a single week, a powerful counter-attack in the brutal war for AI supremacy. The Mystery Star of ‘Weapons’ Talks About Its Most Unforgettable Scene 8/15/2025, 3:45 pm Image 18: Weapons Kid RunningNotorious Boar’s Head Plant to Reopen a Year After Listeria Outbreak That Killed 10 8/15/2025, 3:40 pm Image 19: Boar's Head meats are displayed at a Safeway store on July 31, 2024 in San Rafael, California.SpaceX Has Likely Skirted Federal Income Taxes for Decades, Investigation Reveals 8/15/2025, 3:25 pm Image 20: Elon Musk attends a Cabinet meeting at the White House on April 30, 2025 in Washington, DC.Feast Your Eyes on the Lavish Backdrops of ‘Ne Zha II’ 8/15/2025, 2:45 pm Image 21: Ne Zha\", \"raw_content\": null}], \"response_time\": 0.28, \"request_id\": \"e4e84c4a-8109-4e2d-ba21-923d2f81124d\"}\n",
      "=================================\u001b[1m Tool Message \u001b[0m=================================\n",
      "Name: multiply\n",
      "\n",
      "100\n",
      "==================================\u001b[1m Ai Message \u001b[0m==================================\n",
      "\n",
      "### Recent AI News\n",
      "\n",
      "1. **AI in Telecoms**\n",
      "   - **Title:** [AI recent news | page 29 of 29 | Telecoms - Telecoms.com](https://www.telecoms.com/digital-ecosystem/ai?page=29)\n",
      "   - **Published Date:** August 13, 2025\n",
      "   - **Summary:** This article discusses the perception of telecom companies towards AI readiness in their networks. A minority of telcos feel that their networks are 'very ready' for AI.\n",
      "\n",
      "2. **DARPA's AI Fighter Jet Program**\n",
      "   - **Title:** [DARPA Is Taking Its AI Fighter Jet Program to the Next Level - Gizmodo](https://gizmodo.com/darpa-is-taking-its-ai-fighter-jet-program-to-the-next-level-2000643747)\n",
      "   - **Published Date:** August 15, 2025\n",
      "   - **Summary:** DARPA is advancing its AI fighter jet program. Meanwhile, OpenAI is making significant announcements as part of their strategy to regain prominence after losing top talent to Meta.\n",
      "\n",
      "### Mathematical Calculation\n",
      "\n",
      "The result of multiplying 2 by 50 is **100**.\n"
     ]
    }
   ],
   "source": [
    "for m in react_response['messages']:\n",
    "    m.pretty_print()"
   ]
  },
  {
   "cell_type": "markdown",
   "id": "2be10799",
   "metadata": {},
   "source": [
    "### 1.4 Memory In Langchain.\n",
    "Until the previous architecture, follow-up questions or queries may not be answered correctly because the LLM might not be able to remember the information from previous conversations. To enable this feature\n",
    "\n",
    "_add to imports the following command_<break>\n",
    "`from langchain.checkpoint.memory import MemorySaver`\n",
    "`memory = MemorySaver()`"
   ]
  },
  {
   "cell_type": "code",
   "execution_count": 35,
   "id": "5865a069",
   "metadata": {},
   "outputs": [],
   "source": [
    "### New StateGraph\n",
    "mem_enabled_react_builder = StateGraph(State)\n",
    "\n",
    "## Add Nodes\n",
    "mem_enabled_react_builder.add_node(\"ToolCallLLM\", tools_calling_llm)\n",
    "mem_enabled_react_builder.add_node(\"tools\", ToolNode(tools))\n",
    "\n",
    "## Add Edges\n",
    "mem_enabled_react_builder.add_edge(START, \"ToolCallLLM\")\n",
    "# If the lastest message from the assistant is a tool call, tools_condition routes to \"Tools\"\n",
    "# If the lastest message from the assistant is not a tool call, tools_condition routes to \"END\"\n",
    "mem_enabled_react_builder.add_conditional_edges(\"ToolCallLLM\", tools_condition)\n",
    "mem_enabled_react_builder.add_edge(\"tools\", \"ToolCallLLM\")\n",
    "\n",
    "# Compile graph\n",
    "mem_enabled_react_graph = mem_enabled_react_builder.compile(checkpointer=memory)"
   ]
  },
  {
   "cell_type": "code",
   "execution_count": 36,
   "id": "cc15cb84",
   "metadata": {},
   "outputs": [
    {
     "data": {
      "image/png": "[encoded data removed]",
      "text/plain": [
       "<langgraph.graph.state.CompiledStateGraph object at 0x000001F3664D3050>"
      ]
     },
     "execution_count": 36,
     "metadata": {},
     "output_type": "execute_result"
    }
   ],
   "source": [
    "mem_enabled_react_graph"
   ]
  },
  {
   "cell_type": "code",
   "execution_count": 39,
   "id": "3000b0f8",
   "metadata": {},
   "outputs": [],
   "source": [
    "config = {\"configurable\": {\"thread_id\":\"1\"}}"
   ]
  },
  {
   "cell_type": "code",
   "execution_count": 40,
   "id": "5bbdeb54",
   "metadata": {},
   "outputs": [],
   "source": [
    "mem_enabled_react_response = mem_enabled_react_graph.invoke({\"messages\": \"Give recent AI news along with the date the news was published. Then multiply 2 by 50.\"}, config=config)"
   ]
  },
  {
   "cell_type": "code",
   "execution_count": 41,
   "id": "8fc2925a",
   "metadata": {},
   "outputs": [
    {
     "name": "stdout",
     "output_type": "stream",
     "text": [
      "================================\u001b[1m Human Message \u001b[0m=================================\n",
      "\n",
      "Give recent AI news along with the date the news was published. Then multiply 2 by 50.\n",
      "==================================\u001b[1m Ai Message \u001b[0m==================================\n",
      "Tool Calls:\n",
      "  tavily_search (call_hm7TjOPN8H9i8b0Hkd2koZws)\n",
      " Call ID: call_hm7TjOPN8H9i8b0Hkd2koZws\n",
      "  Args:\n",
      "    query: recent AI news\n",
      "    topic: news\n",
      "    search_depth: advanced\n",
      "    time_range: week\n",
      "  multiply (call_rfstN0JTwv3ptVnAoqw0cNL2)\n",
      " Call ID: call_rfstN0JTwv3ptVnAoqw0cNL2\n",
      "  Args:\n",
      "    a: 2\n",
      "    b: 50\n",
      "=================================\u001b[1m Tool Message \u001b[0m=================================\n",
      "Name: tavily_search\n",
      "\n",
      "{\"query\": \"recent AI news\", \"follow_up_questions\": null, \"answer\": null, \"images\": [], \"results\": [{\"url\": \"https://www.livescience.com/technology/artificial-intelligence/meta-ai-takes-first-step-to-superintelligence-and-zuckerberg-will-no-longer-release-the-most-powerful-systems-to-the-public\", \"title\": \"Meta AI takes first step to superintelligence — and Zuckerberg will no longer release the most powerful systems to the public - Live Science\", \"score\": 0.6133529, \"published_date\": \"Tue, 12 Aug 2025 11:00:00 GMT\", \"content\": \"Advertisement\\n\\nAdvertisement\\n\\nLATEST ARTICLES [...] Latest in News [...] Latest in Artificial Intelligence\", \"raw_content\": null}, {\"url\": \"https://www.ainvest.com/news/crypto-miners-pivot-ai-boosting-revenue-100-2508/\", \"title\": \"Crypto Miners Pivot to AI, Boosting Revenue 100% - AInvest\", \"score\": 0.568057, \"published_date\": \"Fri, 15 Aug 2025 10:01:29 GMT\", \"content\": \"06:11 ### Putin Seeks to Lure Trump to Russia Amid Diplomatic Win\\n\\n06:11 ### ai_9684xtpa twitted: Despite a recent sharp decline, their total profit has increased since the last update; they still earned over $14 million in one month.\\n\\n06:11 ### CoinMarketCap Posted: Ask CMC.AI\\n\\n06:10 ### Cryptobullmaker Posted: MDT bull candles; told soo many times; holding MAV; have the next one will post after 200 likes\\n\\n06:10 ### Infineon Technologies Secures New Order from Gapwaves. [...] Core Scientific was one of the first to make a significant move in this direction. In June 2024, it signed a 12-year, 35 billion dollar GPU infrastructure hosting agreement with AI cloud provider\\n\\nCoreWeave\\n\\nCRWV --\\n\\n. This deal provided \\n\\nCore Scientific\\n\\nCORZ --\\n\\n with a long-term revenue source that is nearly independent of \\n\\nBitcoin\\n\\nBTC --\\n\\n prices, sparking a quiet competition within the mining industry. \\n\\nRiot\\n\\nRIOT --\", \"raw_content\": null}], \"response_time\": 1.44, \"request_id\": \"31554f05-a7a1-4232-845a-5990ce01293b\"}\n",
      "=================================\u001b[1m Tool Message \u001b[0m=================================\n",
      "Name: multiply\n",
      "\n",
      "100\n",
      "==================================\u001b[1m Ai Message \u001b[0m==================================\n",
      "\n",
      "Here are some recent AI news articles:\n",
      "\n",
      "1. **Title**: [Meta AI takes first step to superintelligence — and Zuckerberg will no longer release the most powerful systems to the public](https://www.livescience.com/technology/artificial-intelligence/meta-ai-takes-first-step-to-superintelligence-and-zuckerberg-will-no-longer-release-the-most-powerful-systems-to-the-public)  \n",
      "   **Published Date**: August 12, 2025  \n",
      "   **Summary**: The article discusses Meta's advancement in AI, stepping closer to superintelligence, and Zuckerberg's decision not to release the most advanced systems to the public.\n",
      "\n",
      "2. **Title**: [Crypto Miners Pivot to AI, Boosting Revenue 100%](https://www.ainvest.com/news/crypto-miners-pivot-ai-boosting-revenue-100-2508/)  \n",
      "   **Published Date**: August 15, 2025  \n",
      "   **Summary**: Crypto miners are shifting towards AI to boost their revenue significantly, indicating a strategic pivot in their business model.\n",
      "\n",
      "The result of multiplying 2 by 50 is 100.\n"
     ]
    }
   ],
   "source": [
    "for m in mem_enabled_react_response['messages']:\n",
    "    m.pretty_print()"
   ]
  },
  {
   "cell_type": "code",
   "execution_count": 42,
   "id": "327ec888",
   "metadata": {},
   "outputs": [
    {
     "name": "stdout",
     "output_type": "stream",
     "text": [
      "================================\u001b[1m Human Message \u001b[0m=================================\n",
      "\n",
      "Give recent AI news along with the date the news was published. Then multiply 2 by 50.\n",
      "==================================\u001b[1m Ai Message \u001b[0m==================================\n",
      "Tool Calls:\n",
      "  tavily_search (call_hm7TjOPN8H9i8b0Hkd2koZws)\n",
      " Call ID: call_hm7TjOPN8H9i8b0Hkd2koZws\n",
      "  Args:\n",
      "    query: recent AI news\n",
      "    topic: news\n",
      "    search_depth: advanced\n",
      "    time_range: week\n",
      "  multiply (call_rfstN0JTwv3ptVnAoqw0cNL2)\n",
      " Call ID: call_rfstN0JTwv3ptVnAoqw0cNL2\n",
      "  Args:\n",
      "    a: 2\n",
      "    b: 50\n",
      "=================================\u001b[1m Tool Message \u001b[0m=================================\n",
      "Name: tavily_search\n",
      "\n",
      "{\"query\": \"recent AI news\", \"follow_up_questions\": null, \"answer\": null, \"images\": [], \"results\": [{\"url\": \"https://www.livescience.com/technology/artificial-intelligence/meta-ai-takes-first-step-to-superintelligence-and-zuckerberg-will-no-longer-release-the-most-powerful-systems-to-the-public\", \"title\": \"Meta AI takes first step to superintelligence — and Zuckerberg will no longer release the most powerful systems to the public - Live Science\", \"score\": 0.6133529, \"published_date\": \"Tue, 12 Aug 2025 11:00:00 GMT\", \"content\": \"Advertisement\\n\\nAdvertisement\\n\\nLATEST ARTICLES [...] Latest in News [...] Latest in Artificial Intelligence\", \"raw_content\": null}, {\"url\": \"https://www.ainvest.com/news/crypto-miners-pivot-ai-boosting-revenue-100-2508/\", \"title\": \"Crypto Miners Pivot to AI, Boosting Revenue 100% - AInvest\", \"score\": 0.568057, \"published_date\": \"Fri, 15 Aug 2025 10:01:29 GMT\", \"content\": \"06:11 ### Putin Seeks to Lure Trump to Russia Amid Diplomatic Win\\n\\n06:11 ### ai_9684xtpa twitted: Despite a recent sharp decline, their total profit has increased since the last update; they still earned over $14 million in one month.\\n\\n06:11 ### CoinMarketCap Posted: Ask CMC.AI\\n\\n06:10 ### Cryptobullmaker Posted: MDT bull candles; told soo many times; holding MAV; have the next one will post after 200 likes\\n\\n06:10 ### Infineon Technologies Secures New Order from Gapwaves. [...] Core Scientific was one of the first to make a significant move in this direction. In June 2024, it signed a 12-year, 35 billion dollar GPU infrastructure hosting agreement with AI cloud provider\\n\\nCoreWeave\\n\\nCRWV --\\n\\n. This deal provided \\n\\nCore Scientific\\n\\nCORZ --\\n\\n with a long-term revenue source that is nearly independent of \\n\\nBitcoin\\n\\nBTC --\\n\\n prices, sparking a quiet competition within the mining industry. \\n\\nRiot\\n\\nRIOT --\", \"raw_content\": null}], \"response_time\": 1.44, \"request_id\": \"31554f05-a7a1-4232-845a-5990ce01293b\"}\n",
      "=================================\u001b[1m Tool Message \u001b[0m=================================\n",
      "Name: multiply\n",
      "\n",
      "100\n",
      "==================================\u001b[1m Ai Message \u001b[0m==================================\n",
      "\n",
      "Here are some recent AI news articles:\n",
      "\n",
      "1. **Title**: [Meta AI takes first step to superintelligence — and Zuckerberg will no longer release the most powerful systems to the public](https://www.livescience.com/technology/artificial-intelligence/meta-ai-takes-first-step-to-superintelligence-and-zuckerberg-will-no-longer-release-the-most-powerful-systems-to-the-public)  \n",
      "   **Published Date**: August 12, 2025  \n",
      "   **Summary**: The article discusses Meta's advancement in AI, stepping closer to superintelligence, and Zuckerberg's decision not to release the most advanced systems to the public.\n",
      "\n",
      "2. **Title**: [Crypto Miners Pivot to AI, Boosting Revenue 100%](https://www.ainvest.com/news/crypto-miners-pivot-ai-boosting-revenue-100-2508/)  \n",
      "   **Published Date**: August 15, 2025  \n",
      "   **Summary**: Crypto miners are shifting towards AI to boost their revenue significantly, indicating a strategic pivot in their business model.\n",
      "\n",
      "The result of multiplying 2 by 50 is 100.\n",
      "================================\u001b[1m Human Message \u001b[0m=================================\n",
      "\n",
      "What tasks did I give you previously?\n",
      "==================================\u001b[1m Ai Message \u001b[0m==================================\n",
      "\n",
      "You asked me to find recent AI news along with the date each news item was published and to multiply 2 by 50.\n"
     ]
    }
   ],
   "source": [
    "mem_enabled_react_response1 = mem_enabled_react_graph.invoke({\"messages\": \"What tasks did I give you previously?\"}, config=config)\n",
    "for m in mem_enabled_react_response1['messages']:\n",
    "    m.pretty_print()"
   ]
  },
  {
   "cell_type": "code",
   "execution_count": 49,
   "id": "9e571eca",
   "metadata": {},
   "outputs": [
    {
     "data": {
      "text/plain": [
       "defaultdict(None,\n",
       "            {('1',\n",
       "              '',\n",
       "              '__start__',\n",
       "              '00000000000000000000000000000001.0.37280628183756026'): ('msgpack',\n",
       "              b'\\x81\\xa8messages\\xd9VGive recent AI news along with the date the news was published. Then multiply 2 by 50.'),\n",
       "             ('1',\n",
       "              '',\n",
       "              '__start__',\n",
       "              '00000000000000000000000000000002.0.8079501536306988'): ('empty',\n",
       "              b''),\n",
       "             ('1',\n",
       "              '',\n",
       "              'messages',\n",
       "              '00000000000000000000000000000002.0.8079501536306988'): ('msgpack',\n",
       "              b'\\x91\\xc8\\x01\\n\\x05\\x94\\xbdlangchain_core.messages.human\\xacHumanMessage\\x87\\xa7content\\xd9VGive recent AI news along with the date the news was published. Then multiply 2 by 50.\\xb1additional_kwargs\\x80\\xb1response_metadata\\x80\\xa4type\\xa5human\\xa4name\\xc0\\xa2id\\xd9$ccac6cfe-5349-4e24-a3dd-1a5e4f61c200\\xa7example\\xc2\\xb3model_validate_json'),\n",
       "             ('1',\n",
       "              '',\n",
       "              'branch:to:ToolCallLLM',\n",
       "              '00000000000000000000000000000002.0.8079501536306988'): ('null',\n",
       "              b''),\n",
       "             ('1',\n",
       "              '',\n",
       "              'messages',\n",
       "              '00000000000000000000000000000003.0.22303187878413644'): ('msgpack',\n",
       "              b'\\x92\\xc8\\x01\\n\\x05\\x94\\xbdlangchain_core.messages.human\\xacHumanMessage\\x87\\xa7content\\xd9VGive recent AI news along with the date the news was published. Then multiply 2 by 50.\\xb1additional_kwargs\\x80\\xb1response_metadata\\x80\\xa4type\\xa5human\\xa4name\\xc0\\xa2id\\xd9$ccac6cfe-5349-4e24-a3dd-1a5e4f61c200\\xa7example\\xc2\\xb3model_validate_json\\xc8\\x04\\xf4\\x05\\x94\\xbalangchain_core.messages.ai\\xa9AIMessage\\x8a\\xa7content\\xa0\\xb1additional_kwargs\\x82\\xaatool_calls\\x92\\x83\\xa2id\\xbdcall_hm7TjOPN8H9i8b0Hkd2koZws\\xa8function\\x82\\xa9arguments\\xd9^{\"query\": \"recent AI news\", \"topic\": \"news\", \"search_depth\": \"advanced\", \"time_range\": \"week\"}\\xa4name\\xadtavily_search\\xa4type\\xa8function\\x83\\xa2id\\xbdcall_rfstN0JTwv3ptVnAoqw0cNL2\\xa8function\\x82\\xa9arguments\\xb1{\"a\": 2, \"b\": 50}\\xa4name\\xa8multiply\\xa4type\\xa8function\\xa7refusal\\xc0\\xb1response_metadata\\x87\\xabtoken_usage\\x85\\xb1completion_tokensA\\xadprompt_tokens\\xcd\\x05.\\xactotal_tokens\\xcd\\x05o\\xb9completion_tokens_details\\x84\\xbaaccepted_prediction_tokens\\x00\\xacaudio_tokens\\x00\\xb0reasoning_tokens\\x00\\xbarejected_prediction_tokens\\x00\\xb5prompt_tokens_details\\x82\\xacaudio_tokens\\x00\\xadcached_tokens\\x00\\xaamodel_name\\xb1gpt-4o-2024-08-06\\xb2system_fingerprint\\xadfp_df0f7b956c\\xa2id\\xd9&chatcmpl-C61rjM44wVa70zstrQnv4N2cTwzAn\\xacservice_tier\\xa7default\\xadfinish_reason\\xaatool_calls\\xa8logprobs\\xc0\\xa4type\\xa2ai\\xa4name\\xc0\\xa2id\\xd9+run--78c81488-651c-4ccf-af62-ed851978dd20-0\\xa7example\\xc2\\xaatool_calls\\x92\\x84\\xa4name\\xadtavily_search\\xa4args\\x84\\xa5query\\xaerecent AI news\\xa5topic\\xa4news\\xacsearch_depth\\xa8advanced\\xaatime_range\\xa4week\\xa2id\\xbdcall_hm7TjOPN8H9i8b0Hkd2koZws\\xa4type\\xa9tool_call\\x84\\xa4name\\xa8multiply\\xa4args\\x82\\xa1a\\x02\\xa1b2\\xa2id\\xbdcall_rfstN0JTwv3ptVnAoqw0cNL2\\xa4type\\xa9tool_call\\xb2invalid_tool_calls\\x90\\xaeusage_metadata\\x85\\xacinput_tokens\\xcd\\x05.\\xadoutput_tokensA\\xactotal_tokens\\xcd\\x05o\\xb3input_token_details\\x82\\xa5audio\\x00\\xaacache_read\\x00\\xb4output_token_details\\x82\\xa5audio\\x00\\xa9reasoning\\x00\\xb3model_validate_json'),\n",
       "             ('1',\n",
       "              '',\n",
       "              'branch:to:ToolCallLLM',\n",
       "              '00000000000000000000000000000003.0.22303187878413644'): ('empty',\n",
       "              b''),\n",
       "             ('1',\n",
       "              '',\n",
       "              'branch:to:tools',\n",
       "              '00000000000000000000000000000003.0.22303187878413644'): ('null',\n",
       "              b''),\n",
       "             ('1',\n",
       "              '',\n",
       "              'messages',\n",
       "              '00000000000000000000000000000004.0.6844398261000385'): ('msgpack',\n",
       "              b'\\x94\\xc8\\x01\\n\\x05\\x94\\xbdlangchain_core.messages.human\\xacHumanMessage\\x87\\xa7content\\xd9VGive recent AI news along with the date the news was published. Then multiply 2 by 50.\\xb1additional_kwargs\\x80\\xb1response_metadata\\x80\\xa4type\\xa5human\\xa4name\\xc0\\xa2id\\xd9$ccac6cfe-5349-4e24-a3dd-1a5e4f61c200\\xa7example\\xc2\\xb3model_validate_json\\xc8\\x04\\xf4\\x05\\x94\\xbalangchain_core.messages.ai\\xa9AIMessage\\x8a\\xa7content\\xa0\\xb1additional_kwargs\\x82\\xaatool_calls\\x92\\x83\\xa2id\\xbdcall_hm7TjOPN8H9i8b0Hkd2koZws\\xa8function\\x82\\xa9arguments\\xd9^{\"query\": \"recent AI news\", \"topic\": \"news\", \"search_depth\": \"advanced\", \"time_range\": \"week\"}\\xa4name\\xadtavily_search\\xa4type\\xa8function\\x83\\xa2id\\xbdcall_rfstN0JTwv3ptVnAoqw0cNL2\\xa8function\\x82\\xa9arguments\\xb1{\"a\": 2, \"b\": 50}\\xa4name\\xa8multiply\\xa4type\\xa8function\\xa7refusal\\xc0\\xb1response_metadata\\x87\\xabtoken_usage\\x85\\xb1completion_tokensA\\xadprompt_tokens\\xcd\\x05.\\xactotal_tokens\\xcd\\x05o\\xb9completion_tokens_details\\x84\\xbaaccepted_prediction_tokens\\x00\\xacaudio_tokens\\x00\\xb0reasoning_tokens\\x00\\xbarejected_prediction_tokens\\x00\\xb5prompt_tokens_details\\x82\\xacaudio_tokens\\x00\\xadcached_tokens\\x00\\xaamodel_name\\xb1gpt-4o-2024-08-06\\xb2system_fingerprint\\xadfp_df0f7b956c\\xa2id\\xd9&chatcmpl-C61rjM44wVa70zstrQnv4N2cTwzAn\\xacservice_tier\\xa7default\\xadfinish_reason\\xaatool_calls\\xa8logprobs\\xc0\\xa4type\\xa2ai\\xa4name\\xc0\\xa2id\\xd9+run--78c81488-651c-4ccf-af62-ed851978dd20-0\\xa7example\\xc2\\xaatool_calls\\x92\\x84\\xa4name\\xadtavily_search\\xa4args\\x84\\xa5query\\xaerecent AI news\\xa5topic\\xa4news\\xacsearch_depth\\xa8advanced\\xaatime_range\\xa4week\\xa2id\\xbdcall_hm7TjOPN8H9i8b0Hkd2koZws\\xa4type\\xa9tool_call\\x84\\xa4name\\xa8multiply\\xa4args\\x82\\xa1a\\x02\\xa1b2\\xa2id\\xbdcall_rfstN0JTwv3ptVnAoqw0cNL2\\xa4type\\xa9tool_call\\xb2invalid_tool_calls\\x90\\xaeusage_metadata\\x85\\xacinput_tokens\\xcd\\x05.\\xadoutput_tokensA\\xactotal_tokens\\xcd\\x05o\\xb3input_token_details\\x82\\xa5audio\\x00\\xaacache_read\\x00\\xb4output_token_details\\x82\\xa5audio\\x00\\xa9reasoning\\x00\\xb3model_validate_json\\xc8\\x08\\x9e\\x05\\x94\\xbclangchain_core.messages.tool\\xabToolMessage\\x89\\xa7content\\xda\\x07\\xa4{\"query\": \"recent AI news\", \"follow_up_questions\": null, \"answer\": null, \"images\": [], \"results\": [{\"url\": \"https://www.livescience.com/technology/artificial-intelligence/meta-ai-takes-first-step-to-superintelligence-and-zuckerberg-will-no-longer-release-the-most-powerful-systems-to-the-public\", \"title\": \"Meta AI takes first step to superintelligence \\xe2\\x80\\x94 and Zuckerberg will no longer release the most powerful systems to the public - Live Science\", \"score\": 0.6133529, \"published_date\": \"Tue, 12 Aug 2025 11:00:00 GMT\", \"content\": \"Advertisement\\\\n\\\\nAdvertisement\\\\n\\\\nLATEST ARTICLES [...] Latest in News [...] Latest in Artificial Intelligence\", \"raw_content\": null}, {\"url\": \"https://www.ainvest.com/news/crypto-miners-pivot-ai-boosting-revenue-100-2508/\", \"title\": \"Crypto Miners Pivot to AI, Boosting Revenue 100% - AInvest\", \"score\": 0.568057, \"published_date\": \"Fri, 15 Aug 2025 10:01:29 GMT\", \"content\": \"06:11 ### Putin Seeks to Lure Trump to Russia Amid Diplomatic Win\\\\n\\\\n06:11 ### ai_9684xtpa twitted: Despite a recent sharp decline, their total profit has increased since the last update; they still earned over $14 million in one month.\\\\n\\\\n06:11 ### CoinMarketCap Posted: Ask CMC.AI\\\\n\\\\n06:10 ### Cryptobullmaker Posted: MDT bull candles; told soo many times; holding MAV; have the next one will post after 200 likes\\\\n\\\\n06:10 ### Infineon Technologies Secures New Order from Gapwaves. [...] Core Scientific was one of the first to make a significant move in this direction. In June 2024, it signed a 12-year, 35 billion dollar GPU infrastructure hosting agreement with AI cloud provider\\\\n\\\\nCoreWeave\\\\n\\\\nCRWV --\\\\n\\\\n. This deal provided \\\\n\\\\nCore Scientific\\\\n\\\\nCORZ --\\\\n\\\\n with a long-term revenue source that is nearly independent of \\\\n\\\\nBitcoin\\\\n\\\\nBTC --\\\\n\\\\n prices, sparking a quiet competition within the mining industry. \\\\n\\\\nRiot\\\\n\\\\nRIOT --\", \"raw_content\": null}], \"response_time\": 1.44, \"request_id\": \"31554f05-a7a1-4232-845a-5990ce01293b\"}\\xb1additional_kwargs\\x80\\xb1response_metadata\\x80\\xa4type\\xa4tool\\xa4name\\xadtavily_search\\xa2id\\xd9$b2c0c7a7-9fe2-4caa-a8b8-e51bb82d9aa9\\xactool_call_id\\xbdcall_hm7TjOPN8H9i8b0Hkd2koZws\\xa8artifact\\xc0\\xa6status\\xa7success\\xb3model_validate_json\\xc7\\xf6\\x05\\x94\\xbclangchain_core.messages.tool\\xabToolMessage\\x89\\xa7content\\xa3100\\xb1additional_kwargs\\x80\\xb1response_metadata\\x80\\xa4type\\xa4tool\\xa4name\\xa8multiply\\xa2id\\xd9$f2d98563-a89f-4d1a-82ae-ab43def97de5\\xactool_call_id\\xbdcall_rfstN0JTwv3ptVnAoqw0cNL2\\xa8artifact\\xc0\\xa6status\\xa7success\\xb3model_validate_json'),\n",
       "             ('1',\n",
       "              '',\n",
       "              'branch:to:ToolCallLLM',\n",
       "              '00000000000000000000000000000004.0.6844398261000385'): ('null',\n",
       "              b''),\n",
       "             ('1',\n",
       "              '',\n",
       "              'branch:to:tools',\n",
       "              '00000000000000000000000000000004.0.6844398261000385'): ('empty',\n",
       "              b''),\n",
       "             ('1',\n",
       "              '',\n",
       "              'messages',\n",
       "              '00000000000000000000000000000005.0.25958314462059207'): ('msgpack',\n",
       "              b'\\x95\\xc8\\x01\\n\\x05\\x94\\xbdlangchain_core.messages.human\\xacHumanMessage\\x87\\xa7content\\xd9VGive recent AI news along with the date the news was published. Then multiply 2 by 50.\\xb1additional_kwargs\\x80\\xb1response_metadata\\x80\\xa4type\\xa5human\\xa4name\\xc0\\xa2id\\xd9$ccac6cfe-5349-4e24-a3dd-1a5e4f61c200\\xa7example\\xc2\\xb3model_validate_json\\xc8\\x04\\xf4\\x05\\x94\\xbalangchain_core.messages.ai\\xa9AIMessage\\x8a\\xa7content\\xa0\\xb1additional_kwargs\\x82\\xaatool_calls\\x92\\x83\\xa2id\\xbdcall_hm7TjOPN8H9i8b0Hkd2koZws\\xa8function\\x82\\xa9arguments\\xd9^{\"query\": \"recent AI news\", \"topic\": \"news\", \"search_depth\": \"advanced\", \"time_range\": \"week\"}\\xa4name\\xadtavily_search\\xa4type\\xa8function\\x83\\xa2id\\xbdcall_rfstN0JTwv3ptVnAoqw0cNL2\\xa8function\\x82\\xa9arguments\\xb1{\"a\": 2, \"b\": 50}\\xa4name\\xa8multiply\\xa4type\\xa8function\\xa7refusal\\xc0\\xb1response_metadata\\x87\\xabtoken_usage\\x85\\xb1completion_tokensA\\xadprompt_tokens\\xcd\\x05.\\xactotal_tokens\\xcd\\x05o\\xb9completion_tokens_details\\x84\\xbaaccepted_prediction_tokens\\x00\\xacaudio_tokens\\x00\\xb0reasoning_tokens\\x00\\xbarejected_prediction_tokens\\x00\\xb5prompt_tokens_details\\x82\\xacaudio_tokens\\x00\\xadcached_tokens\\x00\\xaamodel_name\\xb1gpt-4o-2024-08-06\\xb2system_fingerprint\\xadfp_df0f7b956c\\xa2id\\xd9&chatcmpl-C61rjM44wVa70zstrQnv4N2cTwzAn\\xacservice_tier\\xa7default\\xadfinish_reason\\xaatool_calls\\xa8logprobs\\xc0\\xa4type\\xa2ai\\xa4name\\xc0\\xa2id\\xd9+run--78c81488-651c-4ccf-af62-ed851978dd20-0\\xa7example\\xc2\\xaatool_calls\\x92\\x84\\xa4name\\xadtavily_search\\xa4args\\x84\\xa5query\\xaerecent AI news\\xa5topic\\xa4news\\xacsearch_depth\\xa8advanced\\xaatime_range\\xa4week\\xa2id\\xbdcall_hm7TjOPN8H9i8b0Hkd2koZws\\xa4type\\xa9tool_call\\x84\\xa4name\\xa8multiply\\xa4args\\x82\\xa1a\\x02\\xa1b2\\xa2id\\xbdcall_rfstN0JTwv3ptVnAoqw0cNL2\\xa4type\\xa9tool_call\\xb2invalid_tool_calls\\x90\\xaeusage_metadata\\x85\\xacinput_tokens\\xcd\\x05.\\xadoutput_tokensA\\xactotal_tokens\\xcd\\x05o\\xb3input_token_details\\x82\\xa5audio\\x00\\xaacache_read\\x00\\xb4output_token_details\\x82\\xa5audio\\x00\\xa9reasoning\\x00\\xb3model_validate_json\\xc8\\x08\\x9e\\x05\\x94\\xbclangchain_core.messages.tool\\xabToolMessage\\x89\\xa7content\\xda\\x07\\xa4{\"query\": \"recent AI news\", \"follow_up_questions\": null, \"answer\": null, \"images\": [], \"results\": [{\"url\": \"https://www.livescience.com/technology/artificial-intelligence/meta-ai-takes-first-step-to-superintelligence-and-zuckerberg-will-no-longer-release-the-most-powerful-systems-to-the-public\", \"title\": \"Meta AI takes first step to superintelligence \\xe2\\x80\\x94 and Zuckerberg will no longer release the most powerful systems to the public - Live Science\", \"score\": 0.6133529, \"published_date\": \"Tue, 12 Aug 2025 11:00:00 GMT\", \"content\": \"Advertisement\\\\n\\\\nAdvertisement\\\\n\\\\nLATEST ARTICLES [...] Latest in News [...] Latest in Artificial Intelligence\", \"raw_content\": null}, {\"url\": \"https://www.ainvest.com/news/crypto-miners-pivot-ai-boosting-revenue-100-2508/\", \"title\": \"Crypto Miners Pivot to AI, Boosting Revenue 100% - AInvest\", \"score\": 0.568057, \"published_date\": \"Fri, 15 Aug 2025 10:01:29 GMT\", \"content\": \"06:11 ### Putin Seeks to Lure Trump to Russia Amid Diplomatic Win\\\\n\\\\n06:11 ### ai_9684xtpa twitted: Despite a recent sharp decline, their total profit has increased since the last update; they still earned over $14 million in one month.\\\\n\\\\n06:11 ### CoinMarketCap Posted: Ask CMC.AI\\\\n\\\\n06:10 ### Cryptobullmaker Posted: MDT bull candles; told soo many times; holding MAV; have the next one will post after 200 likes\\\\n\\\\n06:10 ### Infineon Technologies Secures New Order from Gapwaves. [...] Core Scientific was one of the first to make a significant move in this direction. In June 2024, it signed a 12-year, 35 billion dollar GPU infrastructure hosting agreement with AI cloud provider\\\\n\\\\nCoreWeave\\\\n\\\\nCRWV --\\\\n\\\\n. This deal provided \\\\n\\\\nCore Scientific\\\\n\\\\nCORZ --\\\\n\\\\n with a long-term revenue source that is nearly independent of \\\\n\\\\nBitcoin\\\\n\\\\nBTC --\\\\n\\\\n prices, sparking a quiet competition within the mining industry. \\\\n\\\\nRiot\\\\n\\\\nRIOT --\", \"raw_content\": null}], \"response_time\": 1.44, \"request_id\": \"31554f05-a7a1-4232-845a-5990ce01293b\"}\\xb1additional_kwargs\\x80\\xb1response_metadata\\x80\\xa4type\\xa4tool\\xa4name\\xadtavily_search\\xa2id\\xd9$b2c0c7a7-9fe2-4caa-a8b8-e51bb82d9aa9\\xactool_call_id\\xbdcall_hm7TjOPN8H9i8b0Hkd2koZws\\xa8artifact\\xc0\\xa6status\\xa7success\\xb3model_validate_json\\xc7\\xf6\\x05\\x94\\xbclangchain_core.messages.tool\\xabToolMessage\\x89\\xa7content\\xa3100\\xb1additional_kwargs\\x80\\xb1response_metadata\\x80\\xa4type\\xa4tool\\xa4name\\xa8multiply\\xa2id\\xd9$f2d98563-a89f-4d1a-82ae-ab43def97de5\\xactool_call_id\\xbdcall_rfstN0JTwv3ptVnAoqw0cNL2\\xa8artifact\\xc0\\xa6status\\xa7success\\xb3model_validate_json\\xc8\\x06\\xc4\\x05\\x94\\xbalangchain_core.messages.ai\\xa9AIMessage\\x8a\\xa7content\\xda\\x03\\xd0Here are some recent AI news articles:\\n\\n1. **Title**: [Meta AI takes first step to superintelligence \\xe2\\x80\\x94 and Zuckerberg will no longer release the most powerful systems to the public](https://www.livescience.com/technology/artificial-intelligence/meta-ai-takes-first-step-to-superintelligence-and-zuckerberg-will-no-longer-release-the-most-powerful-systems-to-the-public)  \\n   **Published Date**: August 12, 2025  \\n   **Summary**: The article discusses Meta\\'s advancement in AI, stepping closer to superintelligence, and Zuckerberg\\'s decision not to release the most advanced systems to the public.\\n\\n2. **Title**: [Crypto Miners Pivot to AI, Boosting Revenue 100%](https://www.ainvest.com/news/crypto-miners-pivot-ai-boosting-revenue-100-2508/)  \\n   **Published Date**: August 15, 2025  \\n   **Summary**: Crypto miners are shifting towards AI to boost their revenue significantly, indicating a strategic pivot in their business model.\\n\\nThe result of multiplying 2 by 50 is 100.\\xb1additional_kwargs\\x81\\xa7refusal\\xc0\\xb1response_metadata\\x87\\xabtoken_usage\\x85\\xb1completion_tokens\\xcc\\xea\\xadprompt_tokens\\xcd\\x07\\x96\\xactotal_tokens\\xcd\\x08\\x80\\xb9completion_tokens_details\\x84\\xbaaccepted_prediction_tokens\\x00\\xacaudio_tokens\\x00\\xb0reasoning_tokens\\x00\\xbarejected_prediction_tokens\\x00\\xb5prompt_tokens_details\\x82\\xacaudio_tokens\\x00\\xadcached_tokens\\xcd\\x05\\x00\\xaamodel_name\\xb1gpt-4o-2024-08-06\\xb2system_fingerprint\\xadfp_df0f7b956c\\xa2id\\xd9&chatcmpl-C61rnYlkJR1TdksxVb1SvjrkkRPvE\\xacservice_tier\\xa7default\\xadfinish_reason\\xa4stop\\xa8logprobs\\xc0\\xa4type\\xa2ai\\xa4name\\xc0\\xa2id\\xd9+run--13a1113a-e71e-4a85-95cf-a46d34f5d300-0\\xa7example\\xc2\\xaatool_calls\\x90\\xb2invalid_tool_calls\\x90\\xaeusage_metadata\\x85\\xacinput_tokens\\xcd\\x07\\x96\\xadoutput_tokens\\xcc\\xea\\xactotal_tokens\\xcd\\x08\\x80\\xb3input_token_details\\x82\\xa5audio\\x00\\xaacache_read\\xcd\\x05\\x00\\xb4output_token_details\\x82\\xa5audio\\x00\\xa9reasoning\\x00\\xb3model_validate_json'),\n",
       "             ('1',\n",
       "              '',\n",
       "              'branch:to:ToolCallLLM',\n",
       "              '00000000000000000000000000000005.0.25958314462059207'): ('empty',\n",
       "              b''),\n",
       "             ('1',\n",
       "              '',\n",
       "              '__start__',\n",
       "              '00000000000000000000000000000006.0.4053549791855229'): ('msgpack',\n",
       "              b'\\x81\\xa8messages\\xd9%What tasks did I give you previously?'),\n",
       "             ('1',\n",
       "              '',\n",
       "              '__start__',\n",
       "              '00000000000000000000000000000007.0.08222855277690533'): ('empty',\n",
       "              b''),\n",
       "             ('1',\n",
       "              '',\n",
       "              'messages',\n",
       "              '00000000000000000000000000000007.0.08222855277690533'): ('msgpack',\n",
       "              b'\\x96\\xc8\\x01\\n\\x05\\x94\\xbdlangchain_core.messages.human\\xacHumanMessage\\x87\\xa7content\\xd9VGive recent AI news along with the date the news was published. Then multiply 2 by 50.\\xb1additional_kwargs\\x80\\xb1response_metadata\\x80\\xa4type\\xa5human\\xa4name\\xc0\\xa2id\\xd9$ccac6cfe-5349-4e24-a3dd-1a5e4f61c200\\xa7example\\xc2\\xb3model_validate_json\\xc8\\x04\\xf4\\x05\\x94\\xbalangchain_core.messages.ai\\xa9AIMessage\\x8a\\xa7content\\xa0\\xb1additional_kwargs\\x82\\xaatool_calls\\x92\\x83\\xa2id\\xbdcall_hm7TjOPN8H9i8b0Hkd2koZws\\xa8function\\x82\\xa9arguments\\xd9^{\"query\": \"recent AI news\", \"topic\": \"news\", \"search_depth\": \"advanced\", \"time_range\": \"week\"}\\xa4name\\xadtavily_search\\xa4type\\xa8function\\x83\\xa2id\\xbdcall_rfstN0JTwv3ptVnAoqw0cNL2\\xa8function\\x82\\xa9arguments\\xb1{\"a\": 2, \"b\": 50}\\xa4name\\xa8multiply\\xa4type\\xa8function\\xa7refusal\\xc0\\xb1response_metadata\\x87\\xabtoken_usage\\x85\\xb1completion_tokensA\\xadprompt_tokens\\xcd\\x05.\\xactotal_tokens\\xcd\\x05o\\xb9completion_tokens_details\\x84\\xbaaccepted_prediction_tokens\\x00\\xacaudio_tokens\\x00\\xb0reasoning_tokens\\x00\\xbarejected_prediction_tokens\\x00\\xb5prompt_tokens_details\\x82\\xacaudio_tokens\\x00\\xadcached_tokens\\x00\\xaamodel_name\\xb1gpt-4o-2024-08-06\\xb2system_fingerprint\\xadfp_df0f7b956c\\xa2id\\xd9&chatcmpl-C61rjM44wVa70zstrQnv4N2cTwzAn\\xacservice_tier\\xa7default\\xadfinish_reason\\xaatool_calls\\xa8logprobs\\xc0\\xa4type\\xa2ai\\xa4name\\xc0\\xa2id\\xd9+run--78c81488-651c-4ccf-af62-ed851978dd20-0\\xa7example\\xc2\\xaatool_calls\\x92\\x84\\xa4name\\xadtavily_search\\xa4args\\x84\\xa5query\\xaerecent AI news\\xa5topic\\xa4news\\xacsearch_depth\\xa8advanced\\xaatime_range\\xa4week\\xa2id\\xbdcall_hm7TjOPN8H9i8b0Hkd2koZws\\xa4type\\xa9tool_call\\x84\\xa4name\\xa8multiply\\xa4args\\x82\\xa1a\\x02\\xa1b2\\xa2id\\xbdcall_rfstN0JTwv3ptVnAoqw0cNL2\\xa4type\\xa9tool_call\\xb2invalid_tool_calls\\x90\\xaeusage_metadata\\x85\\xacinput_tokens\\xcd\\x05.\\xadoutput_tokensA\\xactotal_tokens\\xcd\\x05o\\xb3input_token_details\\x82\\xa5audio\\x00\\xaacache_read\\x00\\xb4output_token_details\\x82\\xa5audio\\x00\\xa9reasoning\\x00\\xb3model_validate_json\\xc8\\x08\\x9e\\x05\\x94\\xbclangchain_core.messages.tool\\xabToolMessage\\x89\\xa7content\\xda\\x07\\xa4{\"query\": \"recent AI news\", \"follow_up_questions\": null, \"answer\": null, \"images\": [], \"results\": [{\"url\": \"https://www.livescience.com/technology/artificial-intelligence/meta-ai-takes-first-step-to-superintelligence-and-zuckerberg-will-no-longer-release-the-most-powerful-systems-to-the-public\", \"title\": \"Meta AI takes first step to superintelligence \\xe2\\x80\\x94 and Zuckerberg will no longer release the most powerful systems to the public - Live Science\", \"score\": 0.6133529, \"published_date\": \"Tue, 12 Aug 2025 11:00:00 GMT\", \"content\": \"Advertisement\\\\n\\\\nAdvertisement\\\\n\\\\nLATEST ARTICLES [...] Latest in News [...] Latest in Artificial Intelligence\", \"raw_content\": null}, {\"url\": \"https://www.ainvest.com/news/crypto-miners-pivot-ai-boosting-revenue-100-2508/\", \"title\": \"Crypto Miners Pivot to AI, Boosting Revenue 100% - AInvest\", \"score\": 0.568057, \"published_date\": \"Fri, 15 Aug 2025 10:01:29 GMT\", \"content\": \"06:11 ### Putin Seeks to Lure Trump to Russia Amid Diplomatic Win\\\\n\\\\n06:11 ### ai_9684xtpa twitted: Despite a recent sharp decline, their total profit has increased since the last update; they still earned over $14 million in one month.\\\\n\\\\n06:11 ### CoinMarketCap Posted: Ask CMC.AI\\\\n\\\\n06:10 ### Cryptobullmaker Posted: MDT bull candles; told soo many times; holding MAV; have the next one will post after 200 likes\\\\n\\\\n06:10 ### Infineon Technologies Secures New Order from Gapwaves. [...] Core Scientific was one of the first to make a significant move in this direction. In June 2024, it signed a 12-year, 35 billion dollar GPU infrastructure hosting agreement with AI cloud provider\\\\n\\\\nCoreWeave\\\\n\\\\nCRWV --\\\\n\\\\n. This deal provided \\\\n\\\\nCore Scientific\\\\n\\\\nCORZ --\\\\n\\\\n with a long-term revenue source that is nearly independent of \\\\n\\\\nBitcoin\\\\n\\\\nBTC --\\\\n\\\\n prices, sparking a quiet competition within the mining industry. \\\\n\\\\nRiot\\\\n\\\\nRIOT --\", \"raw_content\": null}], \"response_time\": 1.44, \"request_id\": \"31554f05-a7a1-4232-845a-5990ce01293b\"}\\xb1additional_kwargs\\x80\\xb1response_metadata\\x80\\xa4type\\xa4tool\\xa4name\\xadtavily_search\\xa2id\\xd9$b2c0c7a7-9fe2-4caa-a8b8-e51bb82d9aa9\\xactool_call_id\\xbdcall_hm7TjOPN8H9i8b0Hkd2koZws\\xa8artifact\\xc0\\xa6status\\xa7success\\xb3model_validate_json\\xc7\\xf6\\x05\\x94\\xbclangchain_core.messages.tool\\xabToolMessage\\x89\\xa7content\\xa3100\\xb1additional_kwargs\\x80\\xb1response_metadata\\x80\\xa4type\\xa4tool\\xa4name\\xa8multiply\\xa2id\\xd9$f2d98563-a89f-4d1a-82ae-ab43def97de5\\xactool_call_id\\xbdcall_rfstN0JTwv3ptVnAoqw0cNL2\\xa8artifact\\xc0\\xa6status\\xa7success\\xb3model_validate_json\\xc8\\x06\\xc4\\x05\\x94\\xbalangchain_core.messages.ai\\xa9AIMessage\\x8a\\xa7content\\xda\\x03\\xd0Here are some recent AI news articles:\\n\\n1. **Title**: [Meta AI takes first step to superintelligence \\xe2\\x80\\x94 and Zuckerberg will no longer release the most powerful systems to the public](https://www.livescience.com/technology/artificial-intelligence/meta-ai-takes-first-step-to-superintelligence-and-zuckerberg-will-no-longer-release-the-most-powerful-systems-to-the-public)  \\n   **Published Date**: August 12, 2025  \\n   **Summary**: The article discusses Meta\\'s advancement in AI, stepping closer to superintelligence, and Zuckerberg\\'s decision not to release the most advanced systems to the public.\\n\\n2. **Title**: [Crypto Miners Pivot to AI, Boosting Revenue 100%](https://www.ainvest.com/news/crypto-miners-pivot-ai-boosting-revenue-100-2508/)  \\n   **Published Date**: August 15, 2025  \\n   **Summary**: Crypto miners are shifting towards AI to boost their revenue significantly, indicating a strategic pivot in their business model.\\n\\nThe result of multiplying 2 by 50 is 100.\\xb1additional_kwargs\\x81\\xa7refusal\\xc0\\xb1response_metadata\\x87\\xabtoken_usage\\x85\\xb1completion_tokens\\xcc\\xea\\xadprompt_tokens\\xcd\\x07\\x96\\xactotal_tokens\\xcd\\x08\\x80\\xb9completion_tokens_details\\x84\\xbaaccepted_prediction_tokens\\x00\\xacaudio_tokens\\x00\\xb0reasoning_tokens\\x00\\xbarejected_prediction_tokens\\x00\\xb5prompt_tokens_details\\x82\\xacaudio_tokens\\x00\\xadcached_tokens\\xcd\\x05\\x00\\xaamodel_name\\xb1gpt-4o-2024-08-06\\xb2system_fingerprint\\xadfp_df0f7b956c\\xa2id\\xd9&chatcmpl-C61rnYlkJR1TdksxVb1SvjrkkRPvE\\xacservice_tier\\xa7default\\xadfinish_reason\\xa4stop\\xa8logprobs\\xc0\\xa4type\\xa2ai\\xa4name\\xc0\\xa2id\\xd9+run--13a1113a-e71e-4a85-95cf-a46d34f5d300-0\\xa7example\\xc2\\xaatool_calls\\x90\\xb2invalid_tool_calls\\x90\\xaeusage_metadata\\x85\\xacinput_tokens\\xcd\\x07\\x96\\xadoutput_tokens\\xcc\\xea\\xactotal_tokens\\xcd\\x08\\x80\\xb3input_token_details\\x82\\xa5audio\\x00\\xaacache_read\\xcd\\x05\\x00\\xb4output_token_details\\x82\\xa5audio\\x00\\xa9reasoning\\x00\\xb3model_validate_json\\xc7\\xd9\\x05\\x94\\xbdlangchain_core.messages.human\\xacHumanMessage\\x87\\xa7content\\xd9%What tasks did I give you previously?\\xb1additional_kwargs\\x80\\xb1response_metadata\\x80\\xa4type\\xa5human\\xa4name\\xc0\\xa2id\\xd9$626b22cf-497e-4692-b54e-4f87c61c5831\\xa7example\\xc2\\xb3model_validate_json'),\n",
       "             ('1',\n",
       "              '',\n",
       "              'branch:to:ToolCallLLM',\n",
       "              '00000000000000000000000000000007.0.08222855277690533'): ('null',\n",
       "              b''),\n",
       "             ('1',\n",
       "              '',\n",
       "              'messages',\n",
       "              '00000000000000000000000000000008.0.922867680694713'): ('msgpack',\n",
       "              b'\\x97\\xc8\\x01\\n\\x05\\x94\\xbdlangchain_core.messages.human\\xacHumanMessage\\x87\\xa7content\\xd9VGive recent AI news along with the date the news was published. Then multiply 2 by 50.\\xb1additional_kwargs\\x80\\xb1response_metadata\\x80\\xa4type\\xa5human\\xa4name\\xc0\\xa2id\\xd9$ccac6cfe-5349-4e24-a3dd-1a5e4f61c200\\xa7example\\xc2\\xb3model_validate_json\\xc8\\x04\\xf4\\x05\\x94\\xbalangchain_core.messages.ai\\xa9AIMessage\\x8a\\xa7content\\xa0\\xb1additional_kwargs\\x82\\xaatool_calls\\x92\\x83\\xa2id\\xbdcall_hm7TjOPN8H9i8b0Hkd2koZws\\xa8function\\x82\\xa9arguments\\xd9^{\"query\": \"recent AI news\", \"topic\": \"news\", \"search_depth\": \"advanced\", \"time_range\": \"week\"}\\xa4name\\xadtavily_search\\xa4type\\xa8function\\x83\\xa2id\\xbdcall_rfstN0JTwv3ptVnAoqw0cNL2\\xa8function\\x82\\xa9arguments\\xb1{\"a\": 2, \"b\": 50}\\xa4name\\xa8multiply\\xa4type\\xa8function\\xa7refusal\\xc0\\xb1response_metadata\\x87\\xabtoken_usage\\x85\\xb1completion_tokensA\\xadprompt_tokens\\xcd\\x05.\\xactotal_tokens\\xcd\\x05o\\xb9completion_tokens_details\\x84\\xbaaccepted_prediction_tokens\\x00\\xacaudio_tokens\\x00\\xb0reasoning_tokens\\x00\\xbarejected_prediction_tokens\\x00\\xb5prompt_tokens_details\\x82\\xacaudio_tokens\\x00\\xadcached_tokens\\x00\\xaamodel_name\\xb1gpt-4o-2024-08-06\\xb2system_fingerprint\\xadfp_df0f7b956c\\xa2id\\xd9&chatcmpl-C61rjM44wVa70zstrQnv4N2cTwzAn\\xacservice_tier\\xa7default\\xadfinish_reason\\xaatool_calls\\xa8logprobs\\xc0\\xa4type\\xa2ai\\xa4name\\xc0\\xa2id\\xd9+run--78c81488-651c-4ccf-af62-ed851978dd20-0\\xa7example\\xc2\\xaatool_calls\\x92\\x84\\xa4name\\xadtavily_search\\xa4args\\x84\\xa5query\\xaerecent AI news\\xa5topic\\xa4news\\xacsearch_depth\\xa8advanced\\xaatime_range\\xa4week\\xa2id\\xbdcall_hm7TjOPN8H9i8b0Hkd2koZws\\xa4type\\xa9tool_call\\x84\\xa4name\\xa8multiply\\xa4args\\x82\\xa1a\\x02\\xa1b2\\xa2id\\xbdcall_rfstN0JTwv3ptVnAoqw0cNL2\\xa4type\\xa9tool_call\\xb2invalid_tool_calls\\x90\\xaeusage_metadata\\x85\\xacinput_tokens\\xcd\\x05.\\xadoutput_tokensA\\xactotal_tokens\\xcd\\x05o\\xb3input_token_details\\x82\\xa5audio\\x00\\xaacache_read\\x00\\xb4output_token_details\\x82\\xa5audio\\x00\\xa9reasoning\\x00\\xb3model_validate_json\\xc8\\x08\\x9e\\x05\\x94\\xbclangchain_core.messages.tool\\xabToolMessage\\x89\\xa7content\\xda\\x07\\xa4{\"query\": \"recent AI news\", \"follow_up_questions\": null, \"answer\": null, \"images\": [], \"results\": [{\"url\": \"https://www.livescience.com/technology/artificial-intelligence/meta-ai-takes-first-step-to-superintelligence-and-zuckerberg-will-no-longer-release-the-most-powerful-systems-to-the-public\", \"title\": \"Meta AI takes first step to superintelligence \\xe2\\x80\\x94 and Zuckerberg will no longer release the most powerful systems to the public - Live Science\", \"score\": 0.6133529, \"published_date\": \"Tue, 12 Aug 2025 11:00:00 GMT\", \"content\": \"Advertisement\\\\n\\\\nAdvertisement\\\\n\\\\nLATEST ARTICLES [...] Latest in News [...] Latest in Artificial Intelligence\", \"raw_content\": null}, {\"url\": \"https://www.ainvest.com/news/crypto-miners-pivot-ai-boosting-revenue-100-2508/\", \"title\": \"Crypto Miners Pivot to AI, Boosting Revenue 100% - AInvest\", \"score\": 0.568057, \"published_date\": \"Fri, 15 Aug 2025 10:01:29 GMT\", \"content\": \"06:11 ### Putin Seeks to Lure Trump to Russia Amid Diplomatic Win\\\\n\\\\n06:11 ### ai_9684xtpa twitted: Despite a recent sharp decline, their total profit has increased since the last update; they still earned over $14 million in one month.\\\\n\\\\n06:11 ### CoinMarketCap Posted: Ask CMC.AI\\\\n\\\\n06:10 ### Cryptobullmaker Posted: MDT bull candles; told soo many times; holding MAV; have the next one will post after 200 likes\\\\n\\\\n06:10 ### Infineon Technologies Secures New Order from Gapwaves. [...] Core Scientific was one of the first to make a significant move in this direction. In June 2024, it signed a 12-year, 35 billion dollar GPU infrastructure hosting agreement with AI cloud provider\\\\n\\\\nCoreWeave\\\\n\\\\nCRWV --\\\\n\\\\n. This deal provided \\\\n\\\\nCore Scientific\\\\n\\\\nCORZ --\\\\n\\\\n with a long-term revenue source that is nearly independent of \\\\n\\\\nBitcoin\\\\n\\\\nBTC --\\\\n\\\\n prices, sparking a quiet competition within the mining industry. \\\\n\\\\nRiot\\\\n\\\\nRIOT --\", \"raw_content\": null}], \"response_time\": 1.44, \"request_id\": \"31554f05-a7a1-4232-845a-5990ce01293b\"}\\xb1additional_kwargs\\x80\\xb1response_metadata\\x80\\xa4type\\xa4tool\\xa4name\\xadtavily_search\\xa2id\\xd9$b2c0c7a7-9fe2-4caa-a8b8-e51bb82d9aa9\\xactool_call_id\\xbdcall_hm7TjOPN8H9i8b0Hkd2koZws\\xa8artifact\\xc0\\xa6status\\xa7success\\xb3model_validate_json\\xc7\\xf6\\x05\\x94\\xbclangchain_core.messages.tool\\xabToolMessage\\x89\\xa7content\\xa3100\\xb1additional_kwargs\\x80\\xb1response_metadata\\x80\\xa4type\\xa4tool\\xa4name\\xa8multiply\\xa2id\\xd9$f2d98563-a89f-4d1a-82ae-ab43def97de5\\xactool_call_id\\xbdcall_rfstN0JTwv3ptVnAoqw0cNL2\\xa8artifact\\xc0\\xa6status\\xa7success\\xb3model_validate_json\\xc8\\x06\\xc4\\x05\\x94\\xbalangchain_core.messages.ai\\xa9AIMessage\\x8a\\xa7content\\xda\\x03\\xd0Here are some recent AI news articles:\\n\\n1. **Title**: [Meta AI takes first step to superintelligence \\xe2\\x80\\x94 and Zuckerberg will no longer release the most powerful systems to the public](https://www.livescience.com/technology/artificial-intelligence/meta-ai-takes-first-step-to-superintelligence-and-zuckerberg-will-no-longer-release-the-most-powerful-systems-to-the-public)  \\n   **Published Date**: August 12, 2025  \\n   **Summary**: The article discusses Meta\\'s advancement in AI, stepping closer to superintelligence, and Zuckerberg\\'s decision not to release the most advanced systems to the public.\\n\\n2. **Title**: [Crypto Miners Pivot to AI, Boosting Revenue 100%](https://www.ainvest.com/news/crypto-miners-pivot-ai-boosting-revenue-100-2508/)  \\n   **Published Date**: August 15, 2025  \\n   **Summary**: Crypto miners are shifting towards AI to boost their revenue significantly, indicating a strategic pivot in their business model.\\n\\nThe result of multiplying 2 by 50 is 100.\\xb1additional_kwargs\\x81\\xa7refusal\\xc0\\xb1response_metadata\\x87\\xabtoken_usage\\x85\\xb1completion_tokens\\xcc\\xea\\xadprompt_tokens\\xcd\\x07\\x96\\xactotal_tokens\\xcd\\x08\\x80\\xb9completion_tokens_details\\x84\\xbaaccepted_prediction_tokens\\x00\\xacaudio_tokens\\x00\\xb0reasoning_tokens\\x00\\xbarejected_prediction_tokens\\x00\\xb5prompt_tokens_details\\x82\\xacaudio_tokens\\x00\\xadcached_tokens\\xcd\\x05\\x00\\xaamodel_name\\xb1gpt-4o-2024-08-06\\xb2system_fingerprint\\xadfp_df0f7b956c\\xa2id\\xd9&chatcmpl-C61rnYlkJR1TdksxVb1SvjrkkRPvE\\xacservice_tier\\xa7default\\xadfinish_reason\\xa4stop\\xa8logprobs\\xc0\\xa4type\\xa2ai\\xa4name\\xc0\\xa2id\\xd9+run--13a1113a-e71e-4a85-95cf-a46d34f5d300-0\\xa7example\\xc2\\xaatool_calls\\x90\\xb2invalid_tool_calls\\x90\\xaeusage_metadata\\x85\\xacinput_tokens\\xcd\\x07\\x96\\xadoutput_tokens\\xcc\\xea\\xactotal_tokens\\xcd\\x08\\x80\\xb3input_token_details\\x82\\xa5audio\\x00\\xaacache_read\\xcd\\x05\\x00\\xb4output_token_details\\x82\\xa5audio\\x00\\xa9reasoning\\x00\\xb3model_validate_json\\xc7\\xd9\\x05\\x94\\xbdlangchain_core.messages.human\\xacHumanMessage\\x87\\xa7content\\xd9%What tasks did I give you previously?\\xb1additional_kwargs\\x80\\xb1response_metadata\\x80\\xa4type\\xa5human\\xa4name\\xc0\\xa2id\\xd9$626b22cf-497e-4692-b54e-4f87c61c5831\\xa7example\\xc2\\xb3model_validate_json\\xc8\\x03Z\\x05\\x94\\xbalangchain_core.messages.ai\\xa9AIMessage\\x8a\\xa7content\\xd9mYou asked me to find recent AI news along with the date each news item was published and to multiply 2 by 50.\\xb1additional_kwargs\\x81\\xa7refusal\\xc0\\xb1response_metadata\\x87\\xabtoken_usage\\x85\\xb1completion_tokens\\x1b\\xadprompt_tokens\\xcd\\x08\\x8f\\xactotal_tokens\\xcd\\x08\\xaa\\xb9completion_tokens_details\\x84\\xbaaccepted_prediction_tokens\\x00\\xacaudio_tokens\\x00\\xb0reasoning_tokens\\x00\\xbarejected_prediction_tokens\\x00\\xb5prompt_tokens_details\\x82\\xacaudio_tokens\\x00\\xadcached_tokens\\x00\\xaamodel_name\\xb1gpt-4o-2024-08-06\\xb2system_fingerprint\\xadfp_df0f7b956c\\xa2id\\xd9&chatcmpl-C61uYuAe44U05X1aMKaAYfriqwB8I\\xacservice_tier\\xa7default\\xadfinish_reason\\xa4stop\\xa8logprobs\\xc0\\xa4type\\xa2ai\\xa4name\\xc0\\xa2id\\xd9+run--f8ecc70e-6cd1-45b1-911a-638827f7d304-0\\xa7example\\xc2\\xaatool_calls\\x90\\xb2invalid_tool_calls\\x90\\xaeusage_metadata\\x85\\xacinput_tokens\\xcd\\x08\\x8f\\xadoutput_tokens\\x1b\\xactotal_tokens\\xcd\\x08\\xaa\\xb3input_token_details\\x82\\xa5audio\\x00\\xaacache_read\\x00\\xb4output_token_details\\x82\\xa5audio\\x00\\xa9reasoning\\x00\\xb3model_validate_json'),\n",
       "             ('1',\n",
       "              '',\n",
       "              'branch:to:ToolCallLLM',\n",
       "              '00000000000000000000000000000008.0.922867680694713'): ('empty',\n",
       "              b'')})"
      ]
     },
     "execution_count": 49,
     "metadata": {},
     "output_type": "execute_result"
    }
   ],
   "source": [
    "## check how exactly the context is stored in the memory.\n",
    "memory.blobs"
   ]
  },
  {
   "cell_type": "markdown",
   "id": "37bf298c",
   "metadata": {},
   "source": [
    "### 1.5 Streaming in Langchain"
   ]
  },
  {
   "cell_type": "code",
   "execution_count": 50,
   "id": "b6c98edc",
   "metadata": {},
   "outputs": [],
   "source": [
    "streaming_memory = MemorySaver()"
   ]
  },
  {
   "cell_type": "code",
   "execution_count": 51,
   "id": "ab20ba79",
   "metadata": {},
   "outputs": [],
   "source": [
    "def superbot(state:State):\n",
    "    return {\"messages\": [llm_with_tools.invoke(state['messages'])]}"
   ]
  },
  {
   "cell_type": "code",
   "execution_count": 52,
   "id": "334a42f2",
   "metadata": {},
   "outputs": [],
   "source": [
    "streaming_graph = StateGraph(State)\n",
    "\n",
    "# node\n",
    "streaming_graph.add_node(\"SuperBot\", superbot)\n",
    "\n",
    "# edges\n",
    "streaming_graph.add_edge(START, \"SuperBot\")\n",
    "streaming_graph.add_edge(\"SuperBot\", END)\n",
    "\n",
    "compiled_streaming_graph = streaming_graph.compile(checkpointer=streaming_memory)"
   ]
  },
  {
   "cell_type": "code",
   "execution_count": 53,
   "id": "416748df",
   "metadata": {},
   "outputs": [
    {
     "data": {
      "image/png": "[encoded data removed]",
      "text/plain": [
       "<langgraph.graph.state.CompiledStateGraph object at 0x000001F366892FC0>"
      ]
     },
     "execution_count": 53,
     "metadata": {},
     "output_type": "execute_result"
    }
   ],
   "source": [
    "compiled_streaming_graph"
   ]
  },
  {
   "cell_type": "code",
   "execution_count": 54,
   "id": "9c9a1847",
   "metadata": {},
   "outputs": [],
   "source": [
    "# define config\n",
    "streaming_config = {\"configurable\": {\"thread_id\": \"1\"}}"
   ]
  },
  {
   "cell_type": "code",
   "execution_count": 56,
   "id": "3e9a5694",
   "metadata": {},
   "outputs": [
    {
     "data": {
      "text/plain": [
       "{'messages': [HumanMessage(content='Hi, My name is AJ and I am a GenAI Engineer.', additional_kwargs={}, response_metadata={}, id='838d0c78-cf02-4fa8-85ae-55b3b74089c4'),\n",
       "  AIMessage(content=\"Hi AJ! It's great to meet you. Being a GenAI Engineer sounds fascinating. How can I assist you today?\", additional_kwargs={'refusal': None}, response_metadata={'token_usage': {'completion_tokens': 25, 'prompt_tokens': 1319, 'total_tokens': 1344, 'completion_tokens_details': {'accepted_prediction_tokens': 0, 'audio_tokens': 0, 'reasoning_tokens': 0, 'rejected_prediction_tokens': 0}, 'prompt_tokens_details': {'audio_tokens': 0, 'cached_tokens': 0}}, 'model_name': 'gpt-4o-2024-08-06', 'system_fingerprint': 'fp_df0f7b956c', 'id': 'chatcmpl-C62ALmLbpAA27fnMitZXVyqoOrapA', 'service_tier': 'default', 'finish_reason': 'stop', 'logprobs': None}, id='run--1f665a97-77eb-458e-a3f9-1d6070c9b5b3-0', usage_metadata={'input_tokens': 1319, 'output_tokens': 25, 'total_tokens': 1344, 'input_token_details': {'audio': 0, 'cache_read': 0}, 'output_token_details': {'audio': 0, 'reasoning': 0}})]}"
      ]
     },
     "execution_count": 56,
     "metadata": {},
     "output_type": "execute_result"
    }
   ],
   "source": [
    "compiled_streaming_graph.invoke({\"messages\": \"Hi, My name is AJ and I am a GenAI Engineer.\"}, config=streaming_config)"
   ]
  },
  {
   "cell_type": "markdown",
   "id": "41a5a160",
   "metadata": {},
   "source": [
    "##### **Streaming Methods**\n",
    "Methods: .stream() and astream()\n",
    "\n",
    "- These methods are sync and async methods for streaming back results.\n",
    "\n",
    "Additional parameters in streaming modes for graph state\n",
    "\n",
    "- **values** : This streams the full state of the graph after each node is called.\n",
    "- **updates** : This streams updates to the state of the graph after each node is called."
   ]
  },
  {
   "cell_type": "code",
   "execution_count": 57,
   "id": "1c5d8238",
   "metadata": {},
   "outputs": [
    {
     "name": "stdout",
     "output_type": "stream",
     "text": [
      "{'SuperBot': {'messages': [AIMessage(content=\"Hello AJ! It's great to meet you. Being a GenAI Engineer sounds interesting and innovative. If there's anything specific you'd like to discuss or explore, feel free to let me know!\", additional_kwargs={'refusal': None}, response_metadata={'token_usage': {'completion_tokens': 38, 'prompt_tokens': 1319, 'total_tokens': 1357, 'completion_tokens_details': {'accepted_prediction_tokens': 0, 'audio_tokens': 0, 'reasoning_tokens': 0, 'rejected_prediction_tokens': 0}, 'prompt_tokens_details': {'audio_tokens': 0, 'cached_tokens': 0}}, 'model_name': 'gpt-4o-2024-08-06', 'system_fingerprint': 'fp_df0f7b956c', 'id': 'chatcmpl-C62N3jToO3P0GL3YVLBkzoTU8tKyM', 'service_tier': 'default', 'finish_reason': 'stop', 'logprobs': None}, id='run--405d4876-ec58-4c13-9338-820eb9ea1d94-0', usage_metadata={'input_tokens': 1319, 'output_tokens': 38, 'total_tokens': 1357, 'input_token_details': {'audio': 0, 'cache_read': 0}, 'output_token_details': {'audio': 0, 'reasoning': 0}})]}}\n"
     ]
    }
   ],
   "source": [
    "# define config\n",
    "streaming_config1 = {\"configurable\": {\"thread_id\": \"2\"}}\n",
    "\n",
    "for chunk in compiled_streaming_graph.stream({\"messages\": \"Hi, My name is AJ and I am a GenAI Engineer.\"}, config=streaming_config1, stream_mode=\"updates\"):\n",
    "    print(chunk)"
   ]
  },
  {
   "cell_type": "code",
   "execution_count": 58,
   "id": "cf5d2d40",
   "metadata": {},
   "outputs": [
    {
     "name": "stdout",
     "output_type": "stream",
     "text": [
      "{'messages': [HumanMessage(content='Hi, My name is AJ and I am a GenAI Engineer.', additional_kwargs={}, response_metadata={}, id='0e938283-6672-4d94-87ea-599ed1ec833d'), AIMessage(content=\"Hello AJ! It's great to meet you. Being a GenAI Engineer sounds interesting and innovative. If there's anything specific you'd like to discuss or explore, feel free to let me know!\", additional_kwargs={'refusal': None}, response_metadata={'token_usage': {'completion_tokens': 38, 'prompt_tokens': 1319, 'total_tokens': 1357, 'completion_tokens_details': {'accepted_prediction_tokens': 0, 'audio_tokens': 0, 'reasoning_tokens': 0, 'rejected_prediction_tokens': 0}, 'prompt_tokens_details': {'audio_tokens': 0, 'cached_tokens': 0}}, 'model_name': 'gpt-4o-2024-08-06', 'system_fingerprint': 'fp_df0f7b956c', 'id': 'chatcmpl-C62N3jToO3P0GL3YVLBkzoTU8tKyM', 'service_tier': 'default', 'finish_reason': 'stop', 'logprobs': None}, id='run--405d4876-ec58-4c13-9338-820eb9ea1d94-0', usage_metadata={'input_tokens': 1319, 'output_tokens': 38, 'total_tokens': 1357, 'input_token_details': {'audio': 0, 'cache_read': 0}, 'output_token_details': {'audio': 0, 'reasoning': 0}}), HumanMessage(content='Hi, My name is AJ and I am a GenAI Engineer.', additional_kwargs={}, response_metadata={}, id='53b6e1e5-448c-4202-8458-2c67d9bf7f88')]}\n",
      "{'messages': [HumanMessage(content='Hi, My name is AJ and I am a GenAI Engineer.', additional_kwargs={}, response_metadata={}, id='0e938283-6672-4d94-87ea-599ed1ec833d'), AIMessage(content=\"Hello AJ! It's great to meet you. Being a GenAI Engineer sounds interesting and innovative. If there's anything specific you'd like to discuss or explore, feel free to let me know!\", additional_kwargs={'refusal': None}, response_metadata={'token_usage': {'completion_tokens': 38, 'prompt_tokens': 1319, 'total_tokens': 1357, 'completion_tokens_details': {'accepted_prediction_tokens': 0, 'audio_tokens': 0, 'reasoning_tokens': 0, 'rejected_prediction_tokens': 0}, 'prompt_tokens_details': {'audio_tokens': 0, 'cached_tokens': 0}}, 'model_name': 'gpt-4o-2024-08-06', 'system_fingerprint': 'fp_df0f7b956c', 'id': 'chatcmpl-C62N3jToO3P0GL3YVLBkzoTU8tKyM', 'service_tier': 'default', 'finish_reason': 'stop', 'logprobs': None}, id='run--405d4876-ec58-4c13-9338-820eb9ea1d94-0', usage_metadata={'input_tokens': 1319, 'output_tokens': 38, 'total_tokens': 1357, 'input_token_details': {'audio': 0, 'cache_read': 0}, 'output_token_details': {'audio': 0, 'reasoning': 0}}), HumanMessage(content='Hi, My name is AJ and I am a GenAI Engineer.', additional_kwargs={}, response_metadata={}, id='53b6e1e5-448c-4202-8458-2c67d9bf7f88'), AIMessage(content=\"Hello AJ! It's great to meet you again. How can I assist you today in your role as a GenAI Engineer?\", additional_kwargs={'refusal': None}, response_metadata={'token_usage': {'completion_tokens': 26, 'prompt_tokens': 1378, 'total_tokens': 1404, 'completion_tokens_details': {'accepted_prediction_tokens': 0, 'audio_tokens': 0, 'reasoning_tokens': 0, 'rejected_prediction_tokens': 0}, 'prompt_tokens_details': {'audio_tokens': 0, 'cached_tokens': 0}}, 'model_name': 'gpt-4o-2024-08-06', 'system_fingerprint': 'fp_df0f7b956c', 'id': 'chatcmpl-C62Nn8xhaATYx733PAGWHXklat3bC', 'service_tier': 'default', 'finish_reason': 'stop', 'logprobs': None}, id='run--f39e56f5-131f-48a5-8282-02c478cd30b5-0', usage_metadata={'input_tokens': 1378, 'output_tokens': 26, 'total_tokens': 1404, 'input_token_details': {'audio': 0, 'cache_read': 0}, 'output_token_details': {'audio': 0, 'reasoning': 0}})]}\n"
     ]
    }
   ],
   "source": [
    "for chunk in compiled_streaming_graph.stream({\"messages\": \"Hi, My name is AJ and I am a GenAI Engineer.\"}, config=streaming_config1, stream_mode=\"values\"):\n",
    "    print(chunk)"
   ]
  },
  {
   "cell_type": "code",
   "execution_count": 60,
   "id": "69a506aa",
   "metadata": {},
   "outputs": [
    {
     "name": "stdout",
     "output_type": "stream",
     "text": [
      "{'SuperBot': {'messages': [AIMessage(content=\"Hi AJ! It's great to meet you. Being a GenAI Engineer sounds fascinating. If there's anything specific you'd like to discuss or explore, feel free to let me know!\", additional_kwargs={'refusal': None}, response_metadata={'token_usage': {'completion_tokens': 36, 'prompt_tokens': 1319, 'total_tokens': 1355, 'completion_tokens_details': {'accepted_prediction_tokens': 0, 'audio_tokens': 0, 'reasoning_tokens': 0, 'rejected_prediction_tokens': 0}, 'prompt_tokens_details': {'audio_tokens': 0, 'cached_tokens': 1280}}, 'model_name': 'gpt-4o-2024-08-06', 'system_fingerprint': 'fp_df0f7b956c', 'id': 'chatcmpl-C62QtPTn4ifWVu6cAyiyYhKDR1elu', 'service_tier': 'default', 'finish_reason': 'stop', 'logprobs': None}, id='run--2388dfd9-e911-4456-8944-ffef1c75e0b2-0', usage_metadata={'input_tokens': 1319, 'output_tokens': 36, 'total_tokens': 1355, 'input_token_details': {'audio': 0, 'cache_read': 1280}, 'output_token_details': {'audio': 0, 'reasoning': 0}})]}}\n"
     ]
    }
   ],
   "source": [
    "# define config\n",
    "streaming_config2 = {\"configurable\": {\"thread_id\": \"4\"}}\n",
    "\n",
    "for chunk in compiled_streaming_graph.stream({\"messages\": \"Hi, My name is AJ and I am a GenAI Engineer.\"}, config=streaming_config2, stream_mode=\"updates\"):\n",
    "    print(chunk)"
   ]
  },
  {
   "cell_type": "code",
   "execution_count": 61,
   "id": "02325834",
   "metadata": {},
   "outputs": [
    {
     "name": "stdout",
     "output_type": "stream",
     "text": [
      "{'messages': [HumanMessage(content='Hi, My name is AJ and I am a GenAI Engineer.', additional_kwargs={}, response_metadata={}, id='c8f31534-20a9-408b-9bbb-8a4d4e1999f3'), AIMessage(content=\"Hi AJ! It's great to meet you. Being a GenAI Engineer sounds fascinating. If there's anything specific you'd like to discuss or explore, feel free to let me know!\", additional_kwargs={'refusal': None}, response_metadata={'token_usage': {'completion_tokens': 36, 'prompt_tokens': 1319, 'total_tokens': 1355, 'completion_tokens_details': {'accepted_prediction_tokens': 0, 'audio_tokens': 0, 'reasoning_tokens': 0, 'rejected_prediction_tokens': 0}, 'prompt_tokens_details': {'audio_tokens': 0, 'cached_tokens': 1280}}, 'model_name': 'gpt-4o-2024-08-06', 'system_fingerprint': 'fp_df0f7b956c', 'id': 'chatcmpl-C62QtPTn4ifWVu6cAyiyYhKDR1elu', 'service_tier': 'default', 'finish_reason': 'stop', 'logprobs': None}, id='run--2388dfd9-e911-4456-8944-ffef1c75e0b2-0', usage_metadata={'input_tokens': 1319, 'output_tokens': 36, 'total_tokens': 1355, 'input_token_details': {'audio': 0, 'cache_read': 1280}, 'output_token_details': {'audio': 0, 'reasoning': 0}}), HumanMessage(content='I also like Indian Classical Music.', additional_kwargs={}, response_metadata={}, id='fcc34002-7976-45c0-ba52-ec725dffc444')]}\n",
      "{'messages': [HumanMessage(content='Hi, My name is AJ and I am a GenAI Engineer.', additional_kwargs={}, response_metadata={}, id='c8f31534-20a9-408b-9bbb-8a4d4e1999f3'), AIMessage(content=\"Hi AJ! It's great to meet you. Being a GenAI Engineer sounds fascinating. If there's anything specific you'd like to discuss or explore, feel free to let me know!\", additional_kwargs={'refusal': None}, response_metadata={'token_usage': {'completion_tokens': 36, 'prompt_tokens': 1319, 'total_tokens': 1355, 'completion_tokens_details': {'accepted_prediction_tokens': 0, 'audio_tokens': 0, 'reasoning_tokens': 0, 'rejected_prediction_tokens': 0}, 'prompt_tokens_details': {'audio_tokens': 0, 'cached_tokens': 1280}}, 'model_name': 'gpt-4o-2024-08-06', 'system_fingerprint': 'fp_df0f7b956c', 'id': 'chatcmpl-C62QtPTn4ifWVu6cAyiyYhKDR1elu', 'service_tier': 'default', 'finish_reason': 'stop', 'logprobs': None}, id='run--2388dfd9-e911-4456-8944-ffef1c75e0b2-0', usage_metadata={'input_tokens': 1319, 'output_tokens': 36, 'total_tokens': 1355, 'input_token_details': {'audio': 0, 'cache_read': 1280}, 'output_token_details': {'audio': 0, 'reasoning': 0}}), HumanMessage(content='I also like Indian Classical Music.', additional_kwargs={}, response_metadata={}, id='fcc34002-7976-45c0-ba52-ec725dffc444'), AIMessage(content=\"That's wonderful! Indian Classical Music is rich in tradition and offers a deep and intricate art form. Do you have a favorite raga or artist, or is there something specific about Indian Classical Music that you enjoy the most?\", additional_kwargs={'refusal': None}, response_metadata={'token_usage': {'completion_tokens': 45, 'prompt_tokens': 1369, 'total_tokens': 1414, 'completion_tokens_details': {'accepted_prediction_tokens': 0, 'audio_tokens': 0, 'reasoning_tokens': 0, 'rejected_prediction_tokens': 0}, 'prompt_tokens_details': {'audio_tokens': 0, 'cached_tokens': 1280}}, 'model_name': 'gpt-4o-2024-08-06', 'system_fingerprint': 'fp_df0f7b956c', 'id': 'chatcmpl-C62Qu0YJvTMRrLdhfpqE5Y3ZCvZ6f', 'service_tier': 'default', 'finish_reason': 'stop', 'logprobs': None}, id='run--3164fa15-d0fe-4d50-a1d0-238ff8e4ec59-0', usage_metadata={'input_tokens': 1369, 'output_tokens': 45, 'total_tokens': 1414, 'input_token_details': {'audio': 0, 'cache_read': 1280}, 'output_token_details': {'audio': 0, 'reasoning': 0}})]}\n"
     ]
    }
   ],
   "source": [
    "\n",
    "for chunk in compiled_streaming_graph.stream({\"messages\": \"I also like Indian Classical Music.\"}, config=streaming_config2, stream_mode=\"values\"):\n",
    "    print(chunk)"
   ]
  },
  {
   "cell_type": "code",
   "execution_count": 63,
   "id": "65703a1f",
   "metadata": {},
   "outputs": [
    {
     "name": "stdout",
     "output_type": "stream",
     "text": [
      "{'event': 'on_chain_start', 'run_id': '9eee15f2-133f-4083-880c-40301520a63a', 'name': 'LangGraph', 'tags': [], 'metadata': {'thread_id': '5'}, 'data': {'input': {'messages': 'Hi, My name is AJ and I am a GenAI Engineer.'}}, 'parent_ids': []}\n",
      "{'event': 'on_chain_start', 'name': 'SuperBot', 'run_id': 'a327cee2-ed7c-4237-b2ca-6dd17d2920a2', 'tags': ['graph:step:1'], 'metadata': {'thread_id': '5', 'langgraph_step': 1, 'langgraph_node': 'SuperBot', 'langgraph_triggers': ('branch:to:SuperBot',), 'langgraph_path': ('__pregel_pull', 'SuperBot'), 'langgraph_checkpoint_ns': 'SuperBot:3a916149-a168-c979-ee3c-1811c87213d5'}, 'data': {'input': {'messages': [HumanMessage(content='Hi, My name is AJ and I am a GenAI Engineer.', additional_kwargs={}, response_metadata={}, id='8f2a0df9-c3f6-44d4-a447-588e393c48f1')]}}, 'parent_ids': []}\n",
      "{'event': 'on_chat_model_start', 'name': 'ChatOpenAI', 'run_id': '297d99a7-594d-45ff-a6bb-84e9b99fcd2e', 'tags': ['seq:step:1'], 'metadata': {'thread_id': '5', 'langgraph_step': 1, 'langgraph_node': 'SuperBot', 'langgraph_triggers': ('branch:to:SuperBot',), 'langgraph_path': ('__pregel_pull', 'SuperBot'), 'langgraph_checkpoint_ns': 'SuperBot:3a916149-a168-c979-ee3c-1811c87213d5', 'checkpoint_ns': 'SuperBot:3a916149-a168-c979-ee3c-1811c87213d5', 'ls_provider': 'openai', 'ls_model_name': 'gpt-4o', 'ls_model_type': 'chat', 'ls_temperature': None}, 'data': {'input': {'messages': [[HumanMessage(content='Hi, My name is AJ and I am a GenAI Engineer.', additional_kwargs={}, response_metadata={}, id='8f2a0df9-c3f6-44d4-a447-588e393c48f1')]]}}, 'parent_ids': []}\n",
      "{'event': 'on_chat_model_stream', 'name': 'ChatOpenAI', 'run_id': '297d99a7-594d-45ff-a6bb-84e9b99fcd2e', 'tags': ['seq:step:1'], 'metadata': {'thread_id': '5', 'langgraph_step': 1, 'langgraph_node': 'SuperBot', 'langgraph_triggers': ('branch:to:SuperBot',), 'langgraph_path': ('__pregel_pull', 'SuperBot'), 'langgraph_checkpoint_ns': 'SuperBot:3a916149-a168-c979-ee3c-1811c87213d5', 'checkpoint_ns': 'SuperBot:3a916149-a168-c979-ee3c-1811c87213d5', 'ls_provider': 'openai', 'ls_model_name': 'gpt-4o', 'ls_model_type': 'chat', 'ls_temperature': None}, 'data': {'chunk': AIMessageChunk(content='', additional_kwargs={}, response_metadata={}, id='run--297d99a7-594d-45ff-a6bb-84e9b99fcd2e')}, 'parent_ids': []}\n",
      "{'event': 'on_chat_model_stream', 'name': 'ChatOpenAI', 'run_id': '297d99a7-594d-45ff-a6bb-84e9b99fcd2e', 'tags': ['seq:step:1'], 'metadata': {'thread_id': '5', 'langgraph_step': 1, 'langgraph_node': 'SuperBot', 'langgraph_triggers': ('branch:to:SuperBot',), 'langgraph_path': ('__pregel_pull', 'SuperBot'), 'langgraph_checkpoint_ns': 'SuperBot:3a916149-a168-c979-ee3c-1811c87213d5', 'checkpoint_ns': 'SuperBot:3a916149-a168-c979-ee3c-1811c87213d5', 'ls_provider': 'openai', 'ls_model_name': 'gpt-4o', 'ls_model_type': 'chat', 'ls_temperature': None}, 'data': {'chunk': AIMessageChunk(content='Hi', additional_kwargs={}, response_metadata={}, id='run--297d99a7-594d-45ff-a6bb-84e9b99fcd2e')}, 'parent_ids': []}\n",
      "{'event': 'on_chat_model_stream', 'name': 'ChatOpenAI', 'run_id': '297d99a7-594d-45ff-a6bb-84e9b99fcd2e', 'tags': ['seq:step:1'], 'metadata': {'thread_id': '5', 'langgraph_step': 1, 'langgraph_node': 'SuperBot', 'langgraph_triggers': ('branch:to:SuperBot',), 'langgraph_path': ('__pregel_pull', 'SuperBot'), 'langgraph_checkpoint_ns': 'SuperBot:3a916149-a168-c979-ee3c-1811c87213d5', 'checkpoint_ns': 'SuperBot:3a916149-a168-c979-ee3c-1811c87213d5', 'ls_provider': 'openai', 'ls_model_name': 'gpt-4o', 'ls_model_type': 'chat', 'ls_temperature': None}, 'data': {'chunk': AIMessageChunk(content=' AJ', additional_kwargs={}, response_metadata={}, id='run--297d99a7-594d-45ff-a6bb-84e9b99fcd2e')}, 'parent_ids': []}\n",
      "{'event': 'on_chat_model_stream', 'name': 'ChatOpenAI', 'run_id': '297d99a7-594d-45ff-a6bb-84e9b99fcd2e', 'tags': ['seq:step:1'], 'metadata': {'thread_id': '5', 'langgraph_step': 1, 'langgraph_node': 'SuperBot', 'langgraph_triggers': ('branch:to:SuperBot',), 'langgraph_path': ('__pregel_pull', 'SuperBot'), 'langgraph_checkpoint_ns': 'SuperBot:3a916149-a168-c979-ee3c-1811c87213d5', 'checkpoint_ns': 'SuperBot:3a916149-a168-c979-ee3c-1811c87213d5', 'ls_provider': 'openai', 'ls_model_name': 'gpt-4o', 'ls_model_type': 'chat', 'ls_temperature': None}, 'data': {'chunk': AIMessageChunk(content='!', additional_kwargs={}, response_metadata={}, id='run--297d99a7-594d-45ff-a6bb-84e9b99fcd2e')}, 'parent_ids': []}\n",
      "{'event': 'on_chat_model_stream', 'name': 'ChatOpenAI', 'run_id': '297d99a7-594d-45ff-a6bb-84e9b99fcd2e', 'tags': ['seq:step:1'], 'metadata': {'thread_id': '5', 'langgraph_step': 1, 'langgraph_node': 'SuperBot', 'langgraph_triggers': ('branch:to:SuperBot',), 'langgraph_path': ('__pregel_pull', 'SuperBot'), 'langgraph_checkpoint_ns': 'SuperBot:3a916149-a168-c979-ee3c-1811c87213d5', 'checkpoint_ns': 'SuperBot:3a916149-a168-c979-ee3c-1811c87213d5', 'ls_provider': 'openai', 'ls_model_name': 'gpt-4o', 'ls_model_type': 'chat', 'ls_temperature': None}, 'data': {'chunk': AIMessageChunk(content=\" It's\", additional_kwargs={}, response_metadata={}, id='run--297d99a7-594d-45ff-a6bb-84e9b99fcd2e')}, 'parent_ids': []}\n",
      "{'event': 'on_chat_model_stream', 'name': 'ChatOpenAI', 'run_id': '297d99a7-594d-45ff-a6bb-84e9b99fcd2e', 'tags': ['seq:step:1'], 'metadata': {'thread_id': '5', 'langgraph_step': 1, 'langgraph_node': 'SuperBot', 'langgraph_triggers': ('branch:to:SuperBot',), 'langgraph_path': ('__pregel_pull', 'SuperBot'), 'langgraph_checkpoint_ns': 'SuperBot:3a916149-a168-c979-ee3c-1811c87213d5', 'checkpoint_ns': 'SuperBot:3a916149-a168-c979-ee3c-1811c87213d5', 'ls_provider': 'openai', 'ls_model_name': 'gpt-4o', 'ls_model_type': 'chat', 'ls_temperature': None}, 'data': {'chunk': AIMessageChunk(content=' great', additional_kwargs={}, response_metadata={}, id='run--297d99a7-594d-45ff-a6bb-84e9b99fcd2e')}, 'parent_ids': []}\n",
      "{'event': 'on_chat_model_stream', 'name': 'ChatOpenAI', 'run_id': '297d99a7-594d-45ff-a6bb-84e9b99fcd2e', 'tags': ['seq:step:1'], 'metadata': {'thread_id': '5', 'langgraph_step': 1, 'langgraph_node': 'SuperBot', 'langgraph_triggers': ('branch:to:SuperBot',), 'langgraph_path': ('__pregel_pull', 'SuperBot'), 'langgraph_checkpoint_ns': 'SuperBot:3a916149-a168-c979-ee3c-1811c87213d5', 'checkpoint_ns': 'SuperBot:3a916149-a168-c979-ee3c-1811c87213d5', 'ls_provider': 'openai', 'ls_model_name': 'gpt-4o', 'ls_model_type': 'chat', 'ls_temperature': None}, 'data': {'chunk': AIMessageChunk(content=' to', additional_kwargs={}, response_metadata={}, id='run--297d99a7-594d-45ff-a6bb-84e9b99fcd2e')}, 'parent_ids': []}\n",
      "{'event': 'on_chat_model_stream', 'name': 'ChatOpenAI', 'run_id': '297d99a7-594d-45ff-a6bb-84e9b99fcd2e', 'tags': ['seq:step:1'], 'metadata': {'thread_id': '5', 'langgraph_step': 1, 'langgraph_node': 'SuperBot', 'langgraph_triggers': ('branch:to:SuperBot',), 'langgraph_path': ('__pregel_pull', 'SuperBot'), 'langgraph_checkpoint_ns': 'SuperBot:3a916149-a168-c979-ee3c-1811c87213d5', 'checkpoint_ns': 'SuperBot:3a916149-a168-c979-ee3c-1811c87213d5', 'ls_provider': 'openai', 'ls_model_name': 'gpt-4o', 'ls_model_type': 'chat', 'ls_temperature': None}, 'data': {'chunk': AIMessageChunk(content=' meet', additional_kwargs={}, response_metadata={}, id='run--297d99a7-594d-45ff-a6bb-84e9b99fcd2e')}, 'parent_ids': []}\n",
      "{'event': 'on_chat_model_stream', 'name': 'ChatOpenAI', 'run_id': '297d99a7-594d-45ff-a6bb-84e9b99fcd2e', 'tags': ['seq:step:1'], 'metadata': {'thread_id': '5', 'langgraph_step': 1, 'langgraph_node': 'SuperBot', 'langgraph_triggers': ('branch:to:SuperBot',), 'langgraph_path': ('__pregel_pull', 'SuperBot'), 'langgraph_checkpoint_ns': 'SuperBot:3a916149-a168-c979-ee3c-1811c87213d5', 'checkpoint_ns': 'SuperBot:3a916149-a168-c979-ee3c-1811c87213d5', 'ls_provider': 'openai', 'ls_model_name': 'gpt-4o', 'ls_model_type': 'chat', 'ls_temperature': None}, 'data': {'chunk': AIMessageChunk(content=' a', additional_kwargs={}, response_metadata={}, id='run--297d99a7-594d-45ff-a6bb-84e9b99fcd2e')}, 'parent_ids': []}\n",
      "{'event': 'on_chat_model_stream', 'name': 'ChatOpenAI', 'run_id': '297d99a7-594d-45ff-a6bb-84e9b99fcd2e', 'tags': ['seq:step:1'], 'metadata': {'thread_id': '5', 'langgraph_step': 1, 'langgraph_node': 'SuperBot', 'langgraph_triggers': ('branch:to:SuperBot',), 'langgraph_path': ('__pregel_pull', 'SuperBot'), 'langgraph_checkpoint_ns': 'SuperBot:3a916149-a168-c979-ee3c-1811c87213d5', 'checkpoint_ns': 'SuperBot:3a916149-a168-c979-ee3c-1811c87213d5', 'ls_provider': 'openai', 'ls_model_name': 'gpt-4o', 'ls_model_type': 'chat', 'ls_temperature': None}, 'data': {'chunk': AIMessageChunk(content=' Gen', additional_kwargs={}, response_metadata={}, id='run--297d99a7-594d-45ff-a6bb-84e9b99fcd2e')}, 'parent_ids': []}\n",
      "{'event': 'on_chat_model_stream', 'name': 'ChatOpenAI', 'run_id': '297d99a7-594d-45ff-a6bb-84e9b99fcd2e', 'tags': ['seq:step:1'], 'metadata': {'thread_id': '5', 'langgraph_step': 1, 'langgraph_node': 'SuperBot', 'langgraph_triggers': ('branch:to:SuperBot',), 'langgraph_path': ('__pregel_pull', 'SuperBot'), 'langgraph_checkpoint_ns': 'SuperBot:3a916149-a168-c979-ee3c-1811c87213d5', 'checkpoint_ns': 'SuperBot:3a916149-a168-c979-ee3c-1811c87213d5', 'ls_provider': 'openai', 'ls_model_name': 'gpt-4o', 'ls_model_type': 'chat', 'ls_temperature': None}, 'data': {'chunk': AIMessageChunk(content='AI', additional_kwargs={}, response_metadata={}, id='run--297d99a7-594d-45ff-a6bb-84e9b99fcd2e')}, 'parent_ids': []}\n",
      "{'event': 'on_chat_model_stream', 'name': 'ChatOpenAI', 'run_id': '297d99a7-594d-45ff-a6bb-84e9b99fcd2e', 'tags': ['seq:step:1'], 'metadata': {'thread_id': '5', 'langgraph_step': 1, 'langgraph_node': 'SuperBot', 'langgraph_triggers': ('branch:to:SuperBot',), 'langgraph_path': ('__pregel_pull', 'SuperBot'), 'langgraph_checkpoint_ns': 'SuperBot:3a916149-a168-c979-ee3c-1811c87213d5', 'checkpoint_ns': 'SuperBot:3a916149-a168-c979-ee3c-1811c87213d5', 'ls_provider': 'openai', 'ls_model_name': 'gpt-4o', 'ls_model_type': 'chat', 'ls_temperature': None}, 'data': {'chunk': AIMessageChunk(content=' Engineer', additional_kwargs={}, response_metadata={}, id='run--297d99a7-594d-45ff-a6bb-84e9b99fcd2e')}, 'parent_ids': []}\n",
      "{'event': 'on_chat_model_stream', 'name': 'ChatOpenAI', 'run_id': '297d99a7-594d-45ff-a6bb-84e9b99fcd2e', 'tags': ['seq:step:1'], 'metadata': {'thread_id': '5', 'langgraph_step': 1, 'langgraph_node': 'SuperBot', 'langgraph_triggers': ('branch:to:SuperBot',), 'langgraph_path': ('__pregel_pull', 'SuperBot'), 'langgraph_checkpoint_ns': 'SuperBot:3a916149-a168-c979-ee3c-1811c87213d5', 'checkpoint_ns': 'SuperBot:3a916149-a168-c979-ee3c-1811c87213d5', 'ls_provider': 'openai', 'ls_model_name': 'gpt-4o', 'ls_model_type': 'chat', 'ls_temperature': None}, 'data': {'chunk': AIMessageChunk(content='.', additional_kwargs={}, response_metadata={}, id='run--297d99a7-594d-45ff-a6bb-84e9b99fcd2e')}, 'parent_ids': []}\n",
      "{'event': 'on_chat_model_stream', 'name': 'ChatOpenAI', 'run_id': '297d99a7-594d-45ff-a6bb-84e9b99fcd2e', 'tags': ['seq:step:1'], 'metadata': {'thread_id': '5', 'langgraph_step': 1, 'langgraph_node': 'SuperBot', 'langgraph_triggers': ('branch:to:SuperBot',), 'langgraph_path': ('__pregel_pull', 'SuperBot'), 'langgraph_checkpoint_ns': 'SuperBot:3a916149-a168-c979-ee3c-1811c87213d5', 'checkpoint_ns': 'SuperBot:3a916149-a168-c979-ee3c-1811c87213d5', 'ls_provider': 'openai', 'ls_model_name': 'gpt-4o', 'ls_model_type': 'chat', 'ls_temperature': None}, 'data': {'chunk': AIMessageChunk(content=' How', additional_kwargs={}, response_metadata={}, id='run--297d99a7-594d-45ff-a6bb-84e9b99fcd2e')}, 'parent_ids': []}\n",
      "{'event': 'on_chat_model_stream', 'name': 'ChatOpenAI', 'run_id': '297d99a7-594d-45ff-a6bb-84e9b99fcd2e', 'tags': ['seq:step:1'], 'metadata': {'thread_id': '5', 'langgraph_step': 1, 'langgraph_node': 'SuperBot', 'langgraph_triggers': ('branch:to:SuperBot',), 'langgraph_path': ('__pregel_pull', 'SuperBot'), 'langgraph_checkpoint_ns': 'SuperBot:3a916149-a168-c979-ee3c-1811c87213d5', 'checkpoint_ns': 'SuperBot:3a916149-a168-c979-ee3c-1811c87213d5', 'ls_provider': 'openai', 'ls_model_name': 'gpt-4o', 'ls_model_type': 'chat', 'ls_temperature': None}, 'data': {'chunk': AIMessageChunk(content=' can', additional_kwargs={}, response_metadata={}, id='run--297d99a7-594d-45ff-a6bb-84e9b99fcd2e')}, 'parent_ids': []}\n",
      "{'event': 'on_chat_model_stream', 'name': 'ChatOpenAI', 'run_id': '297d99a7-594d-45ff-a6bb-84e9b99fcd2e', 'tags': ['seq:step:1'], 'metadata': {'thread_id': '5', 'langgraph_step': 1, 'langgraph_node': 'SuperBot', 'langgraph_triggers': ('branch:to:SuperBot',), 'langgraph_path': ('__pregel_pull', 'SuperBot'), 'langgraph_checkpoint_ns': 'SuperBot:3a916149-a168-c979-ee3c-1811c87213d5', 'checkpoint_ns': 'SuperBot:3a916149-a168-c979-ee3c-1811c87213d5', 'ls_provider': 'openai', 'ls_model_name': 'gpt-4o', 'ls_model_type': 'chat', 'ls_temperature': None}, 'data': {'chunk': AIMessageChunk(content=' I', additional_kwargs={}, response_metadata={}, id='run--297d99a7-594d-45ff-a6bb-84e9b99fcd2e')}, 'parent_ids': []}\n",
      "{'event': 'on_chat_model_stream', 'name': 'ChatOpenAI', 'run_id': '297d99a7-594d-45ff-a6bb-84e9b99fcd2e', 'tags': ['seq:step:1'], 'metadata': {'thread_id': '5', 'langgraph_step': 1, 'langgraph_node': 'SuperBot', 'langgraph_triggers': ('branch:to:SuperBot',), 'langgraph_path': ('__pregel_pull', 'SuperBot'), 'langgraph_checkpoint_ns': 'SuperBot:3a916149-a168-c979-ee3c-1811c87213d5', 'checkpoint_ns': 'SuperBot:3a916149-a168-c979-ee3c-1811c87213d5', 'ls_provider': 'openai', 'ls_model_name': 'gpt-4o', 'ls_model_type': 'chat', 'ls_temperature': None}, 'data': {'chunk': AIMessageChunk(content=' assist', additional_kwargs={}, response_metadata={}, id='run--297d99a7-594d-45ff-a6bb-84e9b99fcd2e')}, 'parent_ids': []}\n",
      "{'event': 'on_chat_model_stream', 'name': 'ChatOpenAI', 'run_id': '297d99a7-594d-45ff-a6bb-84e9b99fcd2e', 'tags': ['seq:step:1'], 'metadata': {'thread_id': '5', 'langgraph_step': 1, 'langgraph_node': 'SuperBot', 'langgraph_triggers': ('branch:to:SuperBot',), 'langgraph_path': ('__pregel_pull', 'SuperBot'), 'langgraph_checkpoint_ns': 'SuperBot:3a916149-a168-c979-ee3c-1811c87213d5', 'checkpoint_ns': 'SuperBot:3a916149-a168-c979-ee3c-1811c87213d5', 'ls_provider': 'openai', 'ls_model_name': 'gpt-4o', 'ls_model_type': 'chat', 'ls_temperature': None}, 'data': {'chunk': AIMessageChunk(content=' you', additional_kwargs={}, response_metadata={}, id='run--297d99a7-594d-45ff-a6bb-84e9b99fcd2e')}, 'parent_ids': []}\n",
      "{'event': 'on_chat_model_stream', 'name': 'ChatOpenAI', 'run_id': '297d99a7-594d-45ff-a6bb-84e9b99fcd2e', 'tags': ['seq:step:1'], 'metadata': {'thread_id': '5', 'langgraph_step': 1, 'langgraph_node': 'SuperBot', 'langgraph_triggers': ('branch:to:SuperBot',), 'langgraph_path': ('__pregel_pull', 'SuperBot'), 'langgraph_checkpoint_ns': 'SuperBot:3a916149-a168-c979-ee3c-1811c87213d5', 'checkpoint_ns': 'SuperBot:3a916149-a168-c979-ee3c-1811c87213d5', 'ls_provider': 'openai', 'ls_model_name': 'gpt-4o', 'ls_model_type': 'chat', 'ls_temperature': None}, 'data': {'chunk': AIMessageChunk(content=' today', additional_kwargs={}, response_metadata={}, id='run--297d99a7-594d-45ff-a6bb-84e9b99fcd2e')}, 'parent_ids': []}\n",
      "{'event': 'on_chat_model_stream', 'name': 'ChatOpenAI', 'run_id': '297d99a7-594d-45ff-a6bb-84e9b99fcd2e', 'tags': ['seq:step:1'], 'metadata': {'thread_id': '5', 'langgraph_step': 1, 'langgraph_node': 'SuperBot', 'langgraph_triggers': ('branch:to:SuperBot',), 'langgraph_path': ('__pregel_pull', 'SuperBot'), 'langgraph_checkpoint_ns': 'SuperBot:3a916149-a168-c979-ee3c-1811c87213d5', 'checkpoint_ns': 'SuperBot:3a916149-a168-c979-ee3c-1811c87213d5', 'ls_provider': 'openai', 'ls_model_name': 'gpt-4o', 'ls_model_type': 'chat', 'ls_temperature': None}, 'data': {'chunk': AIMessageChunk(content='?', additional_kwargs={}, response_metadata={}, id='run--297d99a7-594d-45ff-a6bb-84e9b99fcd2e')}, 'parent_ids': []}\n",
      "{'event': 'on_chat_model_stream', 'name': 'ChatOpenAI', 'run_id': '297d99a7-594d-45ff-a6bb-84e9b99fcd2e', 'tags': ['seq:step:1'], 'metadata': {'thread_id': '5', 'langgraph_step': 1, 'langgraph_node': 'SuperBot', 'langgraph_triggers': ('branch:to:SuperBot',), 'langgraph_path': ('__pregel_pull', 'SuperBot'), 'langgraph_checkpoint_ns': 'SuperBot:3a916149-a168-c979-ee3c-1811c87213d5', 'checkpoint_ns': 'SuperBot:3a916149-a168-c979-ee3c-1811c87213d5', 'ls_provider': 'openai', 'ls_model_name': 'gpt-4o', 'ls_model_type': 'chat', 'ls_temperature': None}, 'data': {'chunk': AIMessageChunk(content='', additional_kwargs={}, response_metadata={'finish_reason': 'stop', 'model_name': 'gpt-4o-2024-08-06', 'system_fingerprint': 'fp_df0f7b956c', 'service_tier': 'default'}, id='run--297d99a7-594d-45ff-a6bb-84e9b99fcd2e')}, 'parent_ids': []}\n",
      "{'event': 'on_chat_model_end', 'name': 'ChatOpenAI', 'run_id': '297d99a7-594d-45ff-a6bb-84e9b99fcd2e', 'tags': ['seq:step:1'], 'metadata': {'thread_id': '5', 'langgraph_step': 1, 'langgraph_node': 'SuperBot', 'langgraph_triggers': ('branch:to:SuperBot',), 'langgraph_path': ('__pregel_pull', 'SuperBot'), 'langgraph_checkpoint_ns': 'SuperBot:3a916149-a168-c979-ee3c-1811c87213d5', 'checkpoint_ns': 'SuperBot:3a916149-a168-c979-ee3c-1811c87213d5', 'ls_provider': 'openai', 'ls_model_name': 'gpt-4o', 'ls_model_type': 'chat', 'ls_temperature': None}, 'data': {'input': {'messages': [[HumanMessage(content='Hi, My name is AJ and I am a GenAI Engineer.', additional_kwargs={}, response_metadata={}, id='8f2a0df9-c3f6-44d4-a447-588e393c48f1')]]}, 'output': {'generations': [[{'text': \"Hi AJ! It's great to meet a GenAI Engineer. How can I assist you today?\", 'generation_info': {'finish_reason': 'stop', 'model_name': 'gpt-4o-2024-08-06', 'system_fingerprint': 'fp_df0f7b956c', 'service_tier': 'default'}, 'type': 'ChatGeneration', 'message': AIMessage(content=\"Hi AJ! It's great to meet a GenAI Engineer. How can I assist you today?\", additional_kwargs={}, response_metadata={'finish_reason': 'stop', 'model_name': 'gpt-4o-2024-08-06', 'system_fingerprint': 'fp_df0f7b956c', 'service_tier': 'default'}, id='run--297d99a7-594d-45ff-a6bb-84e9b99fcd2e')}]], 'llm_output': None, 'run': None, 'type': 'LLMResult'}}, 'parent_ids': []}\n",
      "{'event': 'on_chain_stream', 'name': 'SuperBot', 'run_id': 'a327cee2-ed7c-4237-b2ca-6dd17d2920a2', 'tags': ['graph:step:1'], 'metadata': {'thread_id': '5', 'langgraph_step': 1, 'langgraph_node': 'SuperBot', 'langgraph_triggers': ('branch:to:SuperBot',), 'langgraph_path': ('__pregel_pull', 'SuperBot'), 'langgraph_checkpoint_ns': 'SuperBot:3a916149-a168-c979-ee3c-1811c87213d5'}, 'data': {'chunk': {'messages': [AIMessage(content=\"Hi AJ! It's great to meet a GenAI Engineer. How can I assist you today?\", additional_kwargs={}, response_metadata={'finish_reason': 'stop', 'model_name': 'gpt-4o-2024-08-06', 'system_fingerprint': 'fp_df0f7b956c', 'service_tier': 'default'}, id='run--297d99a7-594d-45ff-a6bb-84e9b99fcd2e')]}}, 'parent_ids': []}\n",
      "{'event': 'on_chain_end', 'name': 'SuperBot', 'run_id': 'a327cee2-ed7c-4237-b2ca-6dd17d2920a2', 'tags': ['graph:step:1'], 'metadata': {'thread_id': '5', 'langgraph_step': 1, 'langgraph_node': 'SuperBot', 'langgraph_triggers': ('branch:to:SuperBot',), 'langgraph_path': ('__pregel_pull', 'SuperBot'), 'langgraph_checkpoint_ns': 'SuperBot:3a916149-a168-c979-ee3c-1811c87213d5'}, 'data': {'input': {'messages': [HumanMessage(content='Hi, My name is AJ and I am a GenAI Engineer.', additional_kwargs={}, response_metadata={}, id='8f2a0df9-c3f6-44d4-a447-588e393c48f1')]}, 'output': {'messages': [AIMessage(content=\"Hi AJ! It's great to meet a GenAI Engineer. How can I assist you today?\", additional_kwargs={}, response_metadata={'finish_reason': 'stop', 'model_name': 'gpt-4o-2024-08-06', 'system_fingerprint': 'fp_df0f7b956c', 'service_tier': 'default'}, id='run--297d99a7-594d-45ff-a6bb-84e9b99fcd2e')]}}, 'parent_ids': []}\n",
      "{'event': 'on_chain_stream', 'run_id': '9eee15f2-133f-4083-880c-40301520a63a', 'tags': [], 'metadata': {'thread_id': '5'}, 'name': 'LangGraph', 'data': {'chunk': {'SuperBot': {'messages': [AIMessage(content=\"Hi AJ! It's great to meet a GenAI Engineer. How can I assist you today?\", additional_kwargs={}, response_metadata={'finish_reason': 'stop', 'model_name': 'gpt-4o-2024-08-06', 'system_fingerprint': 'fp_df0f7b956c', 'service_tier': 'default'}, id='run--297d99a7-594d-45ff-a6bb-84e9b99fcd2e')]}}}, 'parent_ids': []}\n",
      "{'event': 'on_chain_end', 'name': 'LangGraph', 'run_id': '9eee15f2-133f-4083-880c-40301520a63a', 'tags': [], 'metadata': {'thread_id': '5'}, 'data': {'output': {'SuperBot': {'messages': [AIMessage(content=\"Hi AJ! It's great to meet a GenAI Engineer. How can I assist you today?\", additional_kwargs={}, response_metadata={'finish_reason': 'stop', 'model_name': 'gpt-4o-2024-08-06', 'system_fingerprint': 'fp_df0f7b956c', 'service_tier': 'default'}, id='run--297d99a7-594d-45ff-a6bb-84e9b99fcd2e')]}}}, 'parent_ids': []}\n"
     ]
    }
   ],
   "source": [
    "# define config\n",
    "streaming_config3 = {\"configurable\": {\"thread_id\": \"5\"}}\n",
    "\n",
    "async for chunk in compiled_streaming_graph.astream_events({\"messages\": \"Hi, My name is AJ and I am a GenAI Engineer.\"}, config=streaming_config3, version=\"v1\"):\n",
    "    print(chunk)"
   ]
  },
  {
   "cell_type": "markdown",
   "id": "3ea25693",
   "metadata": {},
   "source": [
    "================================================= END ================================================="
   ]
  }
 ],
 "metadata": {
  "kernelspec": {
   "display_name": "ai-playground",
   "language": "python",
   "name": "python3"
  },
  "language_info": {
   "codemirror_mode": {
    "name": "ipython",
    "version": 3
   },
   "file_extension": ".py",
   "mimetype": "text/x-python",
   "name": "python",
   "nbconvert_exporter": "python",
   "pygments_lexer": "ipython3",
   "version": "3.12.4"
  }
 },
 "nbformat": 4,
 "nbformat_minor": 5
}
