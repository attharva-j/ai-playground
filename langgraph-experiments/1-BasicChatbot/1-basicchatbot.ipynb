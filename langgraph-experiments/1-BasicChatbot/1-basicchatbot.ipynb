{
 "cells": [
  {
   "cell_type": "markdown",
   "id": "089e02f4",
   "metadata": {},
   "source": [
    "## Summary\n",
    "\n",
    "This notebook demonstrates how to build advanced chatbots using LangGraph and LangChain, integrating OpenAI's GPT models and external tools. It covers:\n",
    "\n",
    "- **Basic Chatbot Construction:** Using LangGraph's StateGraph to create a simple conversational agent.\n",
    "- **Tool Integration:** Enhancing the chatbot with external tools like TavilySearch and custom functions (e.g., multiplication).\n",
    "- **Multi-step Reasoning (ReAct):** Implementing recursive flows to handle complex, multi-part user queries.\n",
    "- **Memory Management:** Adding conversational memory to enable context-aware responses and follow-up questions.\n",
    "- **Streaming Responses:** Utilizing LangChain's streaming capabilities for real-time interaction.\n",
    "\n",
    "The notebook provides practical code examples for each concept, making it a comprehensive guide for building intelligent, tool-augmented chatbots.\n",
    "\n",
    "**Reference:**  \n",
    "Inspired by Krish Naik's YouTube video: [LangGraph - Build Advanced Chatbots with OpenAI, LangChain & Tools](https://www.youtube.com/watch?v=dIb-DujRNEo)\n"
   ]
  },
  {
   "cell_type": "markdown",
   "id": "a19397ca",
   "metadata": {},
   "source": [
    "### 1.1 Building a basic chatbot with Langgraph (Graph API)"
   ]
  },
  {
   "cell_type": "code",
   "execution_count": 108,
   "id": "1da4e72c",
   "metadata": {},
   "outputs": [],
   "source": [
    "from typing import Annotated\n",
    "from typing_extensions import TypedDict\n",
    "from langgraph.graph import StateGraph, START, END\n",
    "from langgraph.graph.message import add_messages # add_messages is a reducer\n",
    "import os\n",
    "from dotenv import load_dotenv\n",
    "from langchain_openai import ChatOpenAI\n",
    "from langchain.chat_models import init_chat_model\n",
    "\n",
    "from langchain_tavily import TavilySearch\n",
    "from langgraph.prebuilt import ToolNode, tools_condition\n",
    "from langgraph.checkpoint.memory import MemorySaver\n",
    "\n",
    "load_dotenv()\n",
    "memory = MemorySaver()"
   ]
  },
  {
   "cell_type": "code",
   "execution_count": 109,
   "id": "5f5c6bad",
   "metadata": {},
   "outputs": [],
   "source": [
    "class State(TypedDict):\n",
    "    # Messages have the type \"list\". The `add_messages`function\n",
    "    # in the annotation defines how this state key should be updated\n",
    "    # (in this case, it appends messages to the list, rather than overwriting them)\n",
    "    messages:Annotated[list, add_messages]"
   ]
  },
  {
   "cell_type": "code",
   "execution_count": 110,
   "id": "3be4e625",
   "metadata": {},
   "outputs": [],
   "source": [
    "llm = ChatOpenAI(model=\"gpt-4o\")"
   ]
  },
  {
   "cell_type": "code",
   "execution_count": 111,
   "id": "9200a923",
   "metadata": {},
   "outputs": [],
   "source": [
    "# Node functionality\n",
    "def chatbot(state:State):\n",
    "    return {'messages': [llm.invoke(state['messages'])]}"
   ]
  },
  {
   "cell_type": "code",
   "execution_count": 112,
   "id": "70cb9c21",
   "metadata": {},
   "outputs": [],
   "source": [
    "graph_builder = StateGraph(State)\n",
    "\n",
    "# Create a node\n",
    "graph_builder.add_node(\"LLMChatbot\", chatbot)\n",
    "\n",
    "# Establish edges\n",
    "graph_builder.add_edge(START, \"LLMChatbot\")\n",
    "graph_builder.add_edge(\"LLMChatbot\", END)\n",
    "\n",
    "# Complie graph\n",
    "graph = graph_builder.compile()"
   ]
  },
  {
   "cell_type": "code",
   "execution_count": 113,
   "id": "31c774ad",
   "metadata": {},
   "outputs": [
    {
     "data": {
      "image/png": "[encoded data removed]",
      "text/plain": [
       "<langgraph.graph.state.CompiledStateGraph object at 0x000001F366610B00>"
      ]
     },
     "execution_count": 113,
     "metadata": {},
     "output_type": "execute_result"
    }
   ],
   "source": [
    "graph"
   ]
  },
  {
   "cell_type": "code",
   "execution_count": 114,
   "id": "01a5fa90",
   "metadata": {},
   "outputs": [],
   "source": [
    "response = graph.invoke({\"messages\":\"Hi\"})"
   ]
  },
  {
   "cell_type": "code",
   "execution_count": 115,
   "id": "0ad199d9",
   "metadata": {},
   "outputs": [
    {
     "data": {
      "text/plain": [
       "{'messages': [HumanMessage(content='Hi', additional_kwargs={}, response_metadata={}, id='15c38bc1-bab6-4480-9764-52180d777409'),\n",
       "  AIMessage(content='Hello! How can I assist you today?', additional_kwargs={'refusal': None}, response_metadata={'token_usage': {'completion_tokens': 9, 'prompt_tokens': 8, 'total_tokens': 17, 'completion_tokens_details': {'accepted_prediction_tokens': 0, 'audio_tokens': 0, 'reasoning_tokens': 0, 'rejected_prediction_tokens': 0}, 'prompt_tokens_details': {'audio_tokens': 0, 'cached_tokens': 0}}, 'model_name': 'gpt-4o-2024-08-06', 'system_fingerprint': 'fp_07871e2ad8', 'id': 'chatcmpl-C64GG1EiqqYSjSRWjUkubaqL2k5Ih', 'service_tier': 'default', 'finish_reason': 'stop', 'logprobs': None}, id='run--bbaa0189-e568-479a-af06-6c4810a09d6e-0', usage_metadata={'input_tokens': 8, 'output_tokens': 9, 'total_tokens': 17, 'input_token_details': {'audio': 0, 'cache_read': 0}, 'output_token_details': {'audio': 0, 'reasoning': 0}})]}"
      ]
     },
     "execution_count": 115,
     "metadata": {},
     "output_type": "execute_result"
    }
   ],
   "source": [
    "response"
   ]
  },
  {
   "cell_type": "code",
   "execution_count": 116,
   "id": "86d7d30b",
   "metadata": {},
   "outputs": [
    {
     "data": {
      "text/plain": [
       "'Hello! How can I assist you today?'"
      ]
     },
     "execution_count": 116,
     "metadata": {},
     "output_type": "execute_result"
    }
   ],
   "source": [
    "response['messages'][-1].content"
   ]
  },
  {
   "cell_type": "code",
   "execution_count": 117,
   "id": "d7bd3a7a",
   "metadata": {},
   "outputs": [
    {
     "name": "stdout",
     "output_type": "stream",
     "text": [
      "Hello! I'm just a program, so I don't have feelings, but I'm here and ready to help you. How can I assist you today?\n"
     ]
    }
   ],
   "source": [
    "for event in graph.stream({\"messages\": \"Hi, how are you?\"}):\n",
    "    for value in event.values():\n",
    "        print(value['messages'][-1].content)\n"
   ]
  },
  {
   "cell_type": "code",
   "execution_count": 118,
   "id": "4bb3aa1a",
   "metadata": {},
   "outputs": [
    {
     "name": "stdout",
     "output_type": "stream",
     "text": [
      "Sure! Here are a few recent AI-related news items, but please note that this information is only accurate as of October 2023:\n",
      "\n",
      "1. **Google’s Gemini AI Challenges OpenAI's GPT**  \n",
      "   *Published: October 2023*  \n",
      "   Google's AI division announced the launch of Gemini, a new AI model designed to compete directly with OpenAI's GPT series. With enhanced language understanding and generation capabilities, Gemini aims to power a range of Google services and products.\n",
      "\n",
      "2. **Meta Unveils SeamlessM4T, A New Multimodal AI Model**  \n",
      "   *Published: October 2023*  \n",
      "   Meta Platforms introduced SeamlessM4T, an advanced AI model capable of translating and transcribing multiple languages and dialects in real-time. This innovation aims to improve global communication by breaking down language barriers.\n",
      "\n",
      "3. **NVIDIA Expands AI GPU Offerings**  \n",
      "   *Published: September 2023*  \n",
      "   NVIDIA announced an expansion of its line of GPUs specifically optimized for AI workloads, emphasizing improvements in energy efficiency and computational power to support growing demands in AI research and industry applications.\n",
      "\n",
      "4. **OpenAI Opens ChatGPT Up for More Customization**  \n",
      "   *Published: September 2023*  \n",
      "   OpenAI revealed plans to allow users more control over the behavior and personality of ChatGPT, including the ability to tweak its responses to better suit specific use cases, enhancing user experience across different domains.\n",
      "\n",
      "5. **Microsoft Integrates AI Deeper into Office Suite**  \n",
      "   *Published: September 2023*  \n",
      "   Microsoft has integrated more AI features into its Office Suite, including AI-powered suggestions and content generation in Word, Excel, and PowerPoint, aiming to boost productivity and creativity for users.\n",
      "\n",
      "These headlines reflect the dynamic developments in the AI sector. Be sure to verify these updates from reliable news sources for the latest information.\n"
     ]
    }
   ],
   "source": [
    "for event in graph.stream({\"messages\": \"Can you give me some recent AI related news along with the date the news was published?\"}):\n",
    "    for value in event.values():\n",
    "        print(value['messages'][-1].content)\n"
   ]
  },
  {
   "cell_type": "markdown",
   "id": "c1581f4a",
   "metadata": {},
   "source": [
    "### 1.2 Chatbot with tools"
   ]
  },
  {
   "cell_type": "code",
   "execution_count": 119,
   "id": "dd805d39",
   "metadata": {},
   "outputs": [
    {
     "data": {
      "text/plain": [
       "{'query': 'What is langgraph?',\n",
       " 'follow_up_questions': None,\n",
       " 'answer': None,\n",
       " 'images': [],\n",
       " 'results': [{'url': 'https://www.ibm.com/think/topics/langgraph',\n",
       "   'title': 'What is LangGraph? - IBM',\n",
       "   'content': 'LangGraph, created by LangChain, is an open source AI agent framework designed to build, deploy and manage complex generative AI agent workflows. At its core, LangGraph uses the power of graph-based architectures to model and manage the intricate relationships between various components of an AI agent workflow. LangGraph illuminates the processes within an AI workflow, allowing full transparency of the agent’s state. By combining these technologies with a set of APIs and tools, LangGraph provides users with a versatile platform for developing AI solutions and workflows including chatbots, state graphs and other agent-based systems. Nodes: In LangGraph, nodes represent individual components or agents within an AI workflow. LangGraph uses enhanced decision-making by modeling complex relationships between nodes, which means it uses AI agents to analyze their past actions and feedback.',\n",
       "   'score': 0.98553,\n",
       "   'raw_content': None},\n",
       "  {'url': 'https://www.langchain.com/langgraph',\n",
       "   'title': 'LangGraph - LangChain',\n",
       "   'content': \"Design agent-driven user experiences with LangGraph Platform's APIs. Quickly deploy and scale your application with infrastructure built for agents. LangGraph sets the foundation for how we can build and scale AI workloads — from conversational agents, complex task automation, to custom LLM-backed experiences that 'just work'. The next chapter in building complex production-ready features with LLMs is agentic, and with LangGraph and LangSmith, LangChain delivers an out-of-the-box solution to iterate quickly, debug immediately, and scale effortlessly.” LangGraph sets the foundation for how we can build and scale AI workloads — from conversational agents, complex task automation, to custom LLM-backed experiences that 'just work'. LangGraph Platform is a service for deploying and scaling LangGraph applications, with an opinionated API for building agent UXs, plus an integrated developer studio.\",\n",
       "   'score': 0.98197,\n",
       "   'raw_content': None}],\n",
       " 'response_time': 1.18,\n",
       " 'request_id': '981880aa-c676-45ba-b2b3-2c595028eaa1'}"
      ]
     },
     "execution_count": 119,
     "metadata": {},
     "output_type": "execute_result"
    }
   ],
   "source": [
    "searchtool = TavilySearch(max_results=2)\n",
    "searchtool.invoke(\"What is langgraph?\")"
   ]
  },
  {
   "cell_type": "code",
   "execution_count": 120,
   "id": "4cec1d17",
   "metadata": {},
   "outputs": [],
   "source": [
    "def multiply(a:int, b:int)->int:\n",
    "    \"\"\"\n",
    "    Multiple a with b.\n",
    "\n",
    "    a (int): First integer\n",
    "    b (int): Second integer\n",
    "\n",
    "    Returns:\n",
    "        int: output integer product\n",
    "    \"\"\"\n",
    "    return int(a*b)"
   ]
  },
  {
   "cell_type": "code",
   "execution_count": 121,
   "id": "bd8cc17d",
   "metadata": {},
   "outputs": [],
   "source": [
    "tools=[searchtool, multiply]\n",
    "llm_with_tools=llm.bind_tools(tools)"
   ]
  },
  {
   "cell_type": "code",
   "execution_count": 122,
   "id": "225bd072",
   "metadata": {},
   "outputs": [],
   "source": [
    "def tools_calling_llm(state:State):\n",
    "    return {\"messages\": llm_with_tools.invoke(state['messages'])}\n",
    "\n",
    "### New StateGraph\n",
    "builder = StateGraph(State)\n",
    "\n",
    "## Add Nodes\n",
    "builder.add_node(\"ToolCallLLM\", tools_calling_llm)\n",
    "builder.add_node(\"tools\", ToolNode(tools))\n",
    "\n",
    "## Add Edges\n",
    "builder.add_edge(START, \"ToolCallLLM\")\n",
    "# If the lastest message from the assistant is a tool call, tools_condition routes to \"Tools\"\n",
    "# If the lastest message from the assistant is not a tool call, tools_condition routes to \"END\"\n",
    "builder.add_conditional_edges(\"ToolCallLLM\", tools_condition)\n",
    "builder.add_edge(\"tools\", END)\n",
    "\n",
    "# Compile graph\n",
    "new_graph = builder.compile()"
   ]
  },
  {
   "cell_type": "code",
   "execution_count": 123,
   "id": "a9d66b2d",
   "metadata": {},
   "outputs": [
    {
     "data": {
      "image/png": "[encoded data removed]",
      "text/plain": [
       "<langgraph.graph.state.CompiledStateGraph object at 0x000001F3668A1CA0>"
      ]
     },
     "execution_count": 123,
     "metadata": {},
     "output_type": "execute_result"
    }
   ],
   "source": [
    "new_graph"
   ]
  },
  {
   "cell_type": "code",
   "execution_count": 124,
   "id": "ddcbb600",
   "metadata": {},
   "outputs": [],
   "source": [
    "new_response = new_graph.invoke({\"messages\": \"Give recent AI news along with the date the news was published.\"})"
   ]
  },
  {
   "cell_type": "code",
   "execution_count": 125,
   "id": "f0a5d8c1",
   "metadata": {},
   "outputs": [
    {
     "data": {
      "text/plain": [
       "'{\"query\": \"recent AI news\", \"follow_up_questions\": null, \"answer\": null, \"images\": [], \"results\": [{\"url\": \"https://www.nature.com/collections/dbjajiahhh?utm_source=flipboard&utm_content=topic/technology\", \"title\": \"Advances in technologies and AI for improving and monitoring animal health, behaviour and welfare - Nature\", \"score\": 0.808491587638855, \"published_date\": \"Wed, 13 Aug 2025 20:14:57 GMT\", \"content\": \"Advances in technologies and AI for improving and monitoring animal health, behaviour and welfare 1.   nature Advances in technologies and AI for improving and monitoring animal health, behaviour and welfare Recent advances in technologies and artificial intelligence (AI) present vast potential to improve animal health and welfare by enabling novel methods for monitoring, detection, treatment and prevention of disease or stress. AI can assist in the analysis of complex datasets to develop machine learning algorithms for early detection and prediction of diseases, ultimately improving animal health and welfare. We invite submissions of original research articles on the development, implementation and application of novel technologies and AI for improving and monitoring the health and welfare of animals.\", \"raw_content\": null}, {\"url\": \"https://www.forbes.com/sites/traversmark/2025/08/12/4-ways-ai-anxiety-can-hurt-your-sense-of-self-by-a-psychologist/\", \"title\": \"4 Ways ‘AI Anxiety’ Can Hurt Your Sense Of Self, By A Psychologist - Forbes\", \"score\": 0.8042263984680176, \"published_date\": \"Tue, 12 Aug 2025 21:30:48 GMT\", \"content\": \"*   Forbes 400  *   AI  *   More From Forbes  More From Forbes  *   Forbes 101  *   Advertise with Forbes More From Forbes  Image 1: Opportunity to lose job for AI, reducing number of human workers in organization or company, impact of technology for employment concept, Businessman scrambling office chair with AI. The Prompt: Get the week’s biggest AI news on the buzziest companies and boldest breakthroughs, in your inbox. By signing up, you agree to receive this newsletter, other updates about Forbes and its affiliates’ offerings, our Terms of Service (including resolving disputes on an individual basis via arbitration), and you acknowledge our Privacy Statement. Finish creating a Forbes account to manage your contact settings and preferences.\", \"raw_content\": null}], \"response_time\": 4.06, \"request_id\": \"36d51125-d4cc-423c-ae20-6bba08c99b8a\"}'"
      ]
     },
     "execution_count": 125,
     "metadata": {},
     "output_type": "execute_result"
    }
   ],
   "source": [
    "new_response['messages'][-1].content"
   ]
  },
  {
   "cell_type": "code",
   "execution_count": 126,
   "id": "ad4f85c9",
   "metadata": {},
   "outputs": [
    {
     "data": {
      "text/plain": [
       "[{'url': 'https://www.nature.com/collections/dbjajiahhh?utm_source=flipboard&utm_content=topic/technology',\n",
       "  'title': 'Advances in technologies and AI for improving and monitoring animal health, behaviour and welfare - Nature',\n",
       "  'score': 0.808491587638855,\n",
       "  'published_date': 'Wed, 13 Aug 2025 20:14:57 GMT',\n",
       "  'content': 'Advances in technologies and AI for improving and monitoring animal health, behaviour and welfare 1.   nature Advances in technologies and AI for improving and monitoring animal health, behaviour and welfare Recent advances in technologies and artificial intelligence (AI) present vast potential to improve animal health and welfare by enabling novel methods for monitoring, detection, treatment and prevention of disease or stress. AI can assist in the analysis of complex datasets to develop machine learning algorithms for early detection and prediction of diseases, ultimately improving animal health and welfare. We invite submissions of original research articles on the development, implementation and application of novel technologies and AI for improving and monitoring the health and welfare of animals.',\n",
       "  'raw_content': None},\n",
       " {'url': 'https://www.forbes.com/sites/traversmark/2025/08/12/4-ways-ai-anxiety-can-hurt-your-sense-of-self-by-a-psychologist/',\n",
       "  'title': '4 Ways ‘AI Anxiety’ Can Hurt Your Sense Of Self, By A Psychologist - Forbes',\n",
       "  'score': 0.8042263984680176,\n",
       "  'published_date': 'Tue, 12 Aug 2025 21:30:48 GMT',\n",
       "  'content': '*   Forbes 400  *   AI  *   More From Forbes  More From Forbes  *   Forbes 101  *   Advertise with Forbes More From Forbes  Image 1: Opportunity to lose job for AI, reducing number of human workers in organization or company, impact of technology for employment concept, Businessman scrambling office chair with AI. The Prompt: Get the week’s biggest AI news on the buzziest companies and boldest breakthroughs, in your inbox. By signing up, you agree to receive this newsletter, other updates about Forbes and its affiliates’ offerings, our Terms of Service (including resolving disputes on an individual basis via arbitration), and you acknowledge our Privacy Statement. Finish creating a Forbes account to manage your contact settings and preferences.',\n",
       "  'raw_content': None}]"
      ]
     },
     "execution_count": 126,
     "metadata": {},
     "output_type": "execute_result"
    }
   ],
   "source": [
    "import json\n",
    "json.loads(new_response['messages'][-1].content)['results']"
   ]
  },
  {
   "cell_type": "code",
   "execution_count": 127,
   "id": "73fa97dc",
   "metadata": {},
   "outputs": [
    {
     "name": "stdout",
     "output_type": "stream",
     "text": [
      "================================\u001b[1m Human Message \u001b[0m=================================\n",
      "\n",
      "Give recent AI news along with the date the news was published.\n",
      "==================================\u001b[1m Ai Message \u001b[0m==================================\n",
      "Tool Calls:\n",
      "  tavily_search (call_aUmu7HA7OVRNNGUxtuLcqhqB)\n",
      " Call ID: call_aUmu7HA7OVRNNGUxtuLcqhqB\n",
      "  Args:\n",
      "    query: recent AI news\n",
      "    time_range: week\n",
      "    topic: news\n",
      "    search_depth: advanced\n",
      "=================================\u001b[1m Tool Message \u001b[0m=================================\n",
      "Name: tavily_search\n",
      "\n",
      "{\"query\": \"recent AI news\", \"follow_up_questions\": null, \"answer\": null, \"images\": [], \"results\": [{\"url\": \"https://www.nature.com/collections/dbjajiahhh?utm_source=flipboard&utm_content=topic/technology\", \"title\": \"Advances in technologies and AI for improving and monitoring animal health, behaviour and welfare - Nature\", \"score\": 0.808491587638855, \"published_date\": \"Wed, 13 Aug 2025 20:14:57 GMT\", \"content\": \"Advances in technologies and AI for improving and monitoring animal health, behaviour and welfare 1.   nature Advances in technologies and AI for improving and monitoring animal health, behaviour and welfare Recent advances in technologies and artificial intelligence (AI) present vast potential to improve animal health and welfare by enabling novel methods for monitoring, detection, treatment and prevention of disease or stress. AI can assist in the analysis of complex datasets to develop machine learning algorithms for early detection and prediction of diseases, ultimately improving animal health and welfare. We invite submissions of original research articles on the development, implementation and application of novel technologies and AI for improving and monitoring the health and welfare of animals.\", \"raw_content\": null}, {\"url\": \"https://www.forbes.com/sites/traversmark/2025/08/12/4-ways-ai-anxiety-can-hurt-your-sense-of-self-by-a-psychologist/\", \"title\": \"4 Ways ‘AI Anxiety’ Can Hurt Your Sense Of Self, By A Psychologist - Forbes\", \"score\": 0.8042263984680176, \"published_date\": \"Tue, 12 Aug 2025 21:30:48 GMT\", \"content\": \"*   Forbes 400  *   AI  *   More From Forbes  More From Forbes  *   Forbes 101  *   Advertise with Forbes More From Forbes  Image 1: Opportunity to lose job for AI, reducing number of human workers in organization or company, impact of technology for employment concept, Businessman scrambling office chair with AI. The Prompt: Get the week’s biggest AI news on the buzziest companies and boldest breakthroughs, in your inbox. By signing up, you agree to receive this newsletter, other updates about Forbes and its affiliates’ offerings, our Terms of Service (including resolving disputes on an individual basis via arbitration), and you acknowledge our Privacy Statement. Finish creating a Forbes account to manage your contact settings and preferences.\", \"raw_content\": null}], \"response_time\": 4.06, \"request_id\": \"36d51125-d4cc-423c-ae20-6bba08c99b8a\"}\n"
     ]
    }
   ],
   "source": [
    "for m in new_response['messages']:\n",
    "    m.pretty_print()"
   ]
  },
  {
   "cell_type": "code",
   "execution_count": 128,
   "id": "da8a9496",
   "metadata": {},
   "outputs": [],
   "source": [
    "multiply_response = new_graph.invoke({\"messages\": \"What is 2 multipled by 10?\"})"
   ]
  },
  {
   "cell_type": "code",
   "execution_count": 129,
   "id": "57630254",
   "metadata": {},
   "outputs": [
    {
     "name": "stdout",
     "output_type": "stream",
     "text": [
      "================================\u001b[1m Human Message \u001b[0m=================================\n",
      "\n",
      "What is 2 multipled by 10?\n",
      "==================================\u001b[1m Ai Message \u001b[0m==================================\n",
      "Tool Calls:\n",
      "  multiply (call_nF949goiz52PEcphXNIHTzFG)\n",
      " Call ID: call_nF949goiz52PEcphXNIHTzFG\n",
      "  Args:\n",
      "    a: 2\n",
      "    b: 10\n",
      "=================================\u001b[1m Tool Message \u001b[0m=================================\n",
      "Name: multiply\n",
      "\n",
      "20\n"
     ]
    }
   ],
   "source": [
    "for m1 in multiply_response['messages']:\n",
    "    m1.pretty_print()"
   ]
  },
  {
   "cell_type": "markdown",
   "id": "0bd877f2",
   "metadata": {},
   "source": [
    "#### 1.2.1 What's missing in above scenario?\n",
    "\n",
    "If the bot is asked a complex query like `Give recent AI news along with the date the news was published. Then multiply 2 by 10.`, it will fail to do both the jobs. It will mostly complete the job given first in seqeuence i.e., the AI news part. Since the current graph flow directly ends after performing one task. Ideally, there should be some kind of recursive flow which allows for recursive calls to the `ToolsNode` until all the tasks in the given user query are served/completed.\n",
    "\n",
    "Enter ReAct Agent"
   ]
  },
  {
   "cell_type": "markdown",
   "id": "f9390605",
   "metadata": {},
   "source": [
    "### 1.3 ReAct Architecture"
   ]
  },
  {
   "cell_type": "code",
   "execution_count": 130,
   "id": "25e10aa3",
   "metadata": {},
   "outputs": [],
   "source": [
    "### New StateGraph\n",
    "new_builder = StateGraph(State)\n",
    "\n",
    "## Add Nodes\n",
    "new_builder.add_node(\"ToolCallLLM\", tools_calling_llm)\n",
    "new_builder.add_node(\"tools\", ToolNode(tools))\n",
    "\n",
    "## Add Edges\n",
    "new_builder.add_edge(START, \"ToolCallLLM\")\n",
    "# If the lastest message from the assistant is a tool call, tools_condition routes to \"Tools\"\n",
    "# If the lastest message from the assistant is not a tool call, tools_condition routes to \"END\"\n",
    "new_builder.add_conditional_edges(\"ToolCallLLM\", tools_condition)\n",
    "new_builder.add_edge(\"tools\", \"ToolCallLLM\")\n",
    "\n",
    "# Compile graph\n",
    "react_graph = new_builder.compile()"
   ]
  },
  {
   "cell_type": "code",
   "execution_count": 131,
   "id": "10ac64a0",
   "metadata": {},
   "outputs": [
    {
     "data": {
      "image/png": "[encoded data removed]",
      "text/plain": [
       "<langgraph.graph.state.CompiledStateGraph object at 0x000001F366847B30>"
      ]
     },
     "execution_count": 131,
     "metadata": {},
     "output_type": "execute_result"
    }
   ],
   "source": [
    "react_graph"
   ]
  },
  {
   "cell_type": "code",
   "execution_count": 132,
   "id": "77aca3f4",
   "metadata": {},
   "outputs": [],
   "source": [
    "react_response = react_graph.invoke({\"messages\": \"Give recent AI news along with the date the news was published. Then multiply 2 by 50.\"})"
   ]
  },
  {
   "cell_type": "code",
   "execution_count": 133,
   "id": "561047de",
   "metadata": {},
   "outputs": [
    {
     "name": "stdout",
     "output_type": "stream",
     "text": [
      "================================\u001b[1m Human Message \u001b[0m=================================\n",
      "\n",
      "Give recent AI news along with the date the news was published. Then multiply 2 by 50.\n",
      "==================================\u001b[1m Ai Message \u001b[0m==================================\n",
      "Tool Calls:\n",
      "  tavily_search (call_lJIv8hl2tjKLDz8t3BjmexFX)\n",
      " Call ID: call_lJIv8hl2tjKLDz8t3BjmexFX\n",
      "  Args:\n",
      "    query: recent AI news\n",
      "    topic: news\n",
      "    time_range: week\n",
      "  multiply (call_Tac65A3qSR6rgd99mLONNI80)\n",
      " Call ID: call_Tac65A3qSR6rgd99mLONNI80\n",
      "  Args:\n",
      "    a: 2\n",
      "    b: 50\n",
      "=================================\u001b[1m Tool Message \u001b[0m=================================\n",
      "Name: tavily_search\n",
      "\n",
      "{\"query\": \"recent AI news\", \"follow_up_questions\": null, \"answer\": null, \"images\": [], \"results\": [{\"url\": \"https://www.telecoms.com/digital-ecosystem/ai?page=29\", \"title\": \"AI recent news | page 29 of 29 | Telecoms - Telecoms.com\", \"score\": 0.72768575, \"published_date\": \"Wed, 13 Aug 2025 11:27:25 GMT\", \"content\": \"AI recent news | page 29 of 29 | Telecoms Image 1 TechTarget and Informa Tech’s Digital Business Combine. Image 3: Telecoms thumbnailImage 5Wireless Networking thumbnailImage 6Digital Ecosystem thumbnailImage 7AI #### Recent inFixed Networks thumbnailImage 8AI thumbnailImage 9Fibre thumbnailImage 11Network Software thumbnailImage 12AI thumbnailImage 14Digital Ecosystem thumbnailImage 16Telecoms Infrastructure thumbnailImage 19Fibre Image 22 Image 23 Minority of telcos think networks are ‘very ready’ for AI Minority of telcos think networks are ‘very ready’ for AI Image 25 Image 26 Image 27 Image 28 Image 29 Image 31 Image 32 Network Software Image 34: Telecoms Image 35: Informa This website is owned and operated by Informa TechTarget, part of a global network that informs, influences and connects the world’s technology buyers and sellers.\", \"raw_content\": null}, {\"url\": \"https://gizmodo.com/darpa-is-taking-its-ai-fighter-jet-program-to-the-next-level-2000643747\", \"title\": \"DARPA Is Taking Its AI Fighter Jet Program to the Next Level - Gizmodo\", \"score\": 0.6415577, \"published_date\": \"Fri, 15 Aug 2025 18:40:01 GMT\", \"content\": \"*   Image 6: A computer showing OpenAI's logoTech News Artificial Intelligence After a Summer of Chaos, OpenAI Strikes Back -------------------------------------------- After losing top talent to Meta and fumbling key deals, the ChatGPT maker just dropped two massive announcements in a single week, a powerful counter-attack in the brutal war for AI supremacy. The Mystery Star of ‘Weapons’ Talks About Its Most Unforgettable Scene 8/15/2025, 3:45 pm Image 18: Weapons Kid RunningNotorious Boar’s Head Plant to Reopen a Year After Listeria Outbreak That Killed 10 8/15/2025, 3:40 pm Image 19: Boar's Head meats are displayed at a Safeway store on July 31, 2024 in San Rafael, California.SpaceX Has Likely Skirted Federal Income Taxes for Decades, Investigation Reveals 8/15/2025, 3:25 pm Image 20: Elon Musk attends a Cabinet meeting at the White House on April 30, 2025 in Washington, DC.Feast Your Eyes on the Lavish Backdrops of ‘Ne Zha II’ 8/15/2025, 2:45 pm Image 21: Ne Zha\", \"raw_content\": null}], \"response_time\": 0.42, \"request_id\": \"4adc6f38-cb50-41f3-9161-26a32ca8c5c8\"}\n",
      "=================================\u001b[1m Tool Message \u001b[0m=================================\n",
      "Name: multiply\n",
      "\n",
      "100\n",
      "==================================\u001b[1m Ai Message \u001b[0m==================================\n",
      "\n",
      "### Recent AI News\n",
      "\n",
      "1. **Title:** [AI recent news | page 29 of 29 | Telecoms - Telecoms.com](https://www.telecoms.com/digital-ecosystem/ai?page=29)\n",
      "   - **Published Date:** Wed, 13 Aug 2025\n",
      "   - **Summary:** Highlights various aspects of AI developments within the telecom sector, focusing on readiness and infrastructure aspects.\n",
      "\n",
      "2. **Title:** [DARPA Is Taking Its AI Fighter Jet Program to the Next Level - Gizmodo](https://gizmodo.com/darpa-is-taking-its-ai-fighter-jet-program-to-the-next-level-2000643747)\n",
      "   - **Published Date:** Fri, 15 Aug 2025\n",
      "   - **Summary:** Discusses DARPA's advancements in AI for military applications, particularly focusing on AI-driven fighter jet programs.\n",
      "\n",
      "### Multiplication Result\n",
      "The result of multiplying 2 by 50 is **100**.\n"
     ]
    }
   ],
   "source": [
    "for m in react_response['messages']:\n",
    "    m.pretty_print()"
   ]
  },
  {
   "cell_type": "markdown",
   "id": "2be10799",
   "metadata": {},
   "source": [
    "### 1.4 Memory In Langchain.\n",
    "Until the previous architecture, follow-up questions or queries may not be answered correctly because the LLM might not be able to remember the information from previous conversations. To enable this feature\n",
    "\n",
    "_add to imports the following command_<break>\n",
    "`from langchain.checkpoint.memory import MemorySaver`\n",
    "`memory = MemorySaver()`"
   ]
  },
  {
   "cell_type": "code",
   "execution_count": 134,
   "id": "5865a069",
   "metadata": {},
   "outputs": [],
   "source": [
    "### New StateGraph\n",
    "mem_enabled_react_builder = StateGraph(State)\n",
    "\n",
    "## Add Nodes\n",
    "mem_enabled_react_builder.add_node(\"ToolCallLLM\", tools_calling_llm)\n",
    "mem_enabled_react_builder.add_node(\"tools\", ToolNode(tools))\n",
    "\n",
    "## Add Edges\n",
    "mem_enabled_react_builder.add_edge(START, \"ToolCallLLM\")\n",
    "# If the lastest message from the assistant is a tool call, tools_condition routes to \"Tools\"\n",
    "# If the lastest message from the assistant is not a tool call, tools_condition routes to \"END\"\n",
    "mem_enabled_react_builder.add_conditional_edges(\"ToolCallLLM\", tools_condition)\n",
    "mem_enabled_react_builder.add_edge(\"tools\", \"ToolCallLLM\")\n",
    "\n",
    "# Compile graph\n",
    "mem_enabled_react_graph = mem_enabled_react_builder.compile(checkpointer=memory)"
   ]
  },
  {
   "cell_type": "code",
   "execution_count": 135,
   "id": "cc15cb84",
   "metadata": {},
   "outputs": [
    {
     "data": {
      "image/png": "[encoded data removed]",
      "text/plain": [
       "<langgraph.graph.state.CompiledStateGraph object at 0x000001F3666F82C0>"
      ]
     },
     "execution_count": 135,
     "metadata": {},
     "output_type": "execute_result"
    }
   ],
   "source": [
    "mem_enabled_react_graph"
   ]
  },
  {
   "cell_type": "code",
   "execution_count": 136,
   "id": "3000b0f8",
   "metadata": {},
   "outputs": [],
   "source": [
    "config = {\"configurable\": {\"thread_id\":\"1\"}}"
   ]
  },
  {
   "cell_type": "code",
   "execution_count": 137,
   "id": "5bbdeb54",
   "metadata": {},
   "outputs": [],
   "source": [
    "mem_enabled_react_response = mem_enabled_react_graph.invoke({\"messages\": \"Give recent AI news along with the date the news was published. Then multiply 2 by 50.\"}, config=config)"
   ]
  },
  {
   "cell_type": "code",
   "execution_count": 138,
   "id": "8fc2925a",
   "metadata": {},
   "outputs": [
    {
     "name": "stdout",
     "output_type": "stream",
     "text": [
      "================================\u001b[1m Human Message \u001b[0m=================================\n",
      "\n",
      "Give recent AI news along with the date the news was published. Then multiply 2 by 50.\n",
      "==================================\u001b[1m Ai Message \u001b[0m==================================\n",
      "Tool Calls:\n",
      "  tavily_search (call_DoZ0HGHgeubornTgKIksILfX)\n",
      " Call ID: call_DoZ0HGHgeubornTgKIksILfX\n",
      "  Args:\n",
      "    query: recent AI news\n",
      "    search_depth: basic\n",
      "    topic: news\n",
      "    include_favicon: False\n",
      "  multiply (call_lQlxaGa5hYZWdKHgafQDFl5v)\n",
      " Call ID: call_lQlxaGa5hYZWdKHgafQDFl5v\n",
      "  Args:\n",
      "    a: 2\n",
      "    b: 50\n",
      "=================================\u001b[1m Tool Message \u001b[0m=================================\n",
      "Name: tavily_search\n",
      "\n",
      "{\"query\": \"recent AI news\", \"follow_up_questions\": null, \"answer\": null, \"images\": [], \"results\": [{\"url\": \"https://www.telecoms.com/digital-ecosystem/ai?page=29\", \"title\": \"AI recent news | page 29 of 29 | Telecoms - Telecoms.com\", \"score\": 0.72768575, \"published_date\": \"Wed, 13 Aug 2025 11:27:25 GMT\", \"content\": \"AI recent news | page 29 of 29 | Telecoms Image 1 TechTarget and Informa Tech’s Digital Business Combine. Image 3: Telecoms thumbnailImage 5Wireless Networking thumbnailImage 6Digital Ecosystem thumbnailImage 7AI #### Recent inFixed Networks thumbnailImage 8AI thumbnailImage 9Fibre thumbnailImage 11Network Software thumbnailImage 12AI thumbnailImage 14Digital Ecosystem thumbnailImage 16Telecoms Infrastructure thumbnailImage 19Fibre Image 22 Image 23 Minority of telcos think networks are ‘very ready’ for AI Minority of telcos think networks are ‘very ready’ for AI Image 25 Image 26 Image 27 Image 28 Image 29 Image 31 Image 32 Network Software Image 34: Telecoms Image 35: Informa This website is owned and operated by Informa TechTarget, part of a global network that informs, influences and connects the world’s technology buyers and sellers.\", \"raw_content\": null}, {\"url\": \"https://gizmodo.com/darpa-is-taking-its-ai-fighter-jet-program-to-the-next-level-2000643747\", \"title\": \"DARPA Is Taking Its AI Fighter Jet Program to the Next Level - Gizmodo\", \"score\": 0.6415577, \"published_date\": \"Fri, 15 Aug 2025 18:40:01 GMT\", \"content\": \"*   Image 6: A computer showing OpenAI's logoTech News Artificial Intelligence After a Summer of Chaos, OpenAI Strikes Back -------------------------------------------- After losing top talent to Meta and fumbling key deals, the ChatGPT maker just dropped two massive announcements in a single week, a powerful counter-attack in the brutal war for AI supremacy. The Mystery Star of ‘Weapons’ Talks About Its Most Unforgettable Scene 8/15/2025, 3:45 pm Image 18: Weapons Kid RunningNotorious Boar’s Head Plant to Reopen a Year After Listeria Outbreak That Killed 10 8/15/2025, 3:40 pm Image 19: Boar's Head meats are displayed at a Safeway store on July 31, 2024 in San Rafael, California.SpaceX Has Likely Skirted Federal Income Taxes for Decades, Investigation Reveals 8/15/2025, 3:25 pm Image 20: Elon Musk attends a Cabinet meeting at the White House on April 30, 2025 in Washington, DC.Feast Your Eyes on the Lavish Backdrops of ‘Ne Zha II’ 8/15/2025, 2:45 pm Image 21: Ne Zha\", \"raw_content\": null}], \"response_time\": 0.28, \"request_id\": \"7416fa22-c20d-48e2-9aa3-43d66e2f4a2c\"}\n",
      "=================================\u001b[1m Tool Message \u001b[0m=================================\n",
      "Name: multiply\n",
      "\n",
      "100\n",
      "==================================\u001b[1m Ai Message \u001b[0m==================================\n",
      "\n",
      "Here are some recent news updates on AI:\n",
      "\n",
      "1. **DARPA's AI Fighter Jet Program**  \n",
      "   - *Published Date:* August 15, 2025  \n",
      "   - *Summary:* DARPA is advancing its AI fighter jet program significantly. This move comes in the wake of OpenAI's strategic responses after facing challenges such as losing top talent to Meta and mismanaging key deals.  \n",
      "   - *Source:* [Gizmodo](https://gizmodo.com/darpa-is-taking-its-ai-fighter-jet-program-to-the-next-level-2000643747)\n",
      "\n",
      "2. **Telecoms and AI Readiness**  \n",
      "   - *Published Date:* August 13, 2025  \n",
      "   - *Summary:* A report from Telecoms.com highlights that a minority of telecom companies believe they are \"very ready\" for AI integration in their networks.  \n",
      "   - *Source:* [Telecoms](https://www.telecoms.com/digital-ecosystem/ai?page=29)\n",
      "\n",
      "For the multiplication result, 2 multiplied by 50 equals **100**.\n"
     ]
    }
   ],
   "source": [
    "for m in mem_enabled_react_response['messages']:\n",
    "    m.pretty_print()"
   ]
  },
  {
   "cell_type": "code",
   "execution_count": 139,
   "id": "327ec888",
   "metadata": {},
   "outputs": [
    {
     "name": "stdout",
     "output_type": "stream",
     "text": [
      "================================\u001b[1m Human Message \u001b[0m=================================\n",
      "\n",
      "Give recent AI news along with the date the news was published. Then multiply 2 by 50.\n",
      "==================================\u001b[1m Ai Message \u001b[0m==================================\n",
      "Tool Calls:\n",
      "  tavily_search (call_DoZ0HGHgeubornTgKIksILfX)\n",
      " Call ID: call_DoZ0HGHgeubornTgKIksILfX\n",
      "  Args:\n",
      "    query: recent AI news\n",
      "    search_depth: basic\n",
      "    topic: news\n",
      "    include_favicon: False\n",
      "  multiply (call_lQlxaGa5hYZWdKHgafQDFl5v)\n",
      " Call ID: call_lQlxaGa5hYZWdKHgafQDFl5v\n",
      "  Args:\n",
      "    a: 2\n",
      "    b: 50\n",
      "=================================\u001b[1m Tool Message \u001b[0m=================================\n",
      "Name: tavily_search\n",
      "\n",
      "{\"query\": \"recent AI news\", \"follow_up_questions\": null, \"answer\": null, \"images\": [], \"results\": [{\"url\": \"https://www.telecoms.com/digital-ecosystem/ai?page=29\", \"title\": \"AI recent news | page 29 of 29 | Telecoms - Telecoms.com\", \"score\": 0.72768575, \"published_date\": \"Wed, 13 Aug 2025 11:27:25 GMT\", \"content\": \"AI recent news | page 29 of 29 | Telecoms Image 1 TechTarget and Informa Tech’s Digital Business Combine. Image 3: Telecoms thumbnailImage 5Wireless Networking thumbnailImage 6Digital Ecosystem thumbnailImage 7AI #### Recent inFixed Networks thumbnailImage 8AI thumbnailImage 9Fibre thumbnailImage 11Network Software thumbnailImage 12AI thumbnailImage 14Digital Ecosystem thumbnailImage 16Telecoms Infrastructure thumbnailImage 19Fibre Image 22 Image 23 Minority of telcos think networks are ‘very ready’ for AI Minority of telcos think networks are ‘very ready’ for AI Image 25 Image 26 Image 27 Image 28 Image 29 Image 31 Image 32 Network Software Image 34: Telecoms Image 35: Informa This website is owned and operated by Informa TechTarget, part of a global network that informs, influences and connects the world’s technology buyers and sellers.\", \"raw_content\": null}, {\"url\": \"https://gizmodo.com/darpa-is-taking-its-ai-fighter-jet-program-to-the-next-level-2000643747\", \"title\": \"DARPA Is Taking Its AI Fighter Jet Program to the Next Level - Gizmodo\", \"score\": 0.6415577, \"published_date\": \"Fri, 15 Aug 2025 18:40:01 GMT\", \"content\": \"*   Image 6: A computer showing OpenAI's logoTech News Artificial Intelligence After a Summer of Chaos, OpenAI Strikes Back -------------------------------------------- After losing top talent to Meta and fumbling key deals, the ChatGPT maker just dropped two massive announcements in a single week, a powerful counter-attack in the brutal war for AI supremacy. The Mystery Star of ‘Weapons’ Talks About Its Most Unforgettable Scene 8/15/2025, 3:45 pm Image 18: Weapons Kid RunningNotorious Boar’s Head Plant to Reopen a Year After Listeria Outbreak That Killed 10 8/15/2025, 3:40 pm Image 19: Boar's Head meats are displayed at a Safeway store on July 31, 2024 in San Rafael, California.SpaceX Has Likely Skirted Federal Income Taxes for Decades, Investigation Reveals 8/15/2025, 3:25 pm Image 20: Elon Musk attends a Cabinet meeting at the White House on April 30, 2025 in Washington, DC.Feast Your Eyes on the Lavish Backdrops of ‘Ne Zha II’ 8/15/2025, 2:45 pm Image 21: Ne Zha\", \"raw_content\": null}], \"response_time\": 0.28, \"request_id\": \"7416fa22-c20d-48e2-9aa3-43d66e2f4a2c\"}\n",
      "=================================\u001b[1m Tool Message \u001b[0m=================================\n",
      "Name: multiply\n",
      "\n",
      "100\n",
      "==================================\u001b[1m Ai Message \u001b[0m==================================\n",
      "\n",
      "Here are some recent news updates on AI:\n",
      "\n",
      "1. **DARPA's AI Fighter Jet Program**  \n",
      "   - *Published Date:* August 15, 2025  \n",
      "   - *Summary:* DARPA is advancing its AI fighter jet program significantly. This move comes in the wake of OpenAI's strategic responses after facing challenges such as losing top talent to Meta and mismanaging key deals.  \n",
      "   - *Source:* [Gizmodo](https://gizmodo.com/darpa-is-taking-its-ai-fighter-jet-program-to-the-next-level-2000643747)\n",
      "\n",
      "2. **Telecoms and AI Readiness**  \n",
      "   - *Published Date:* August 13, 2025  \n",
      "   - *Summary:* A report from Telecoms.com highlights that a minority of telecom companies believe they are \"very ready\" for AI integration in their networks.  \n",
      "   - *Source:* [Telecoms](https://www.telecoms.com/digital-ecosystem/ai?page=29)\n",
      "\n",
      "For the multiplication result, 2 multiplied by 50 equals **100**.\n",
      "================================\u001b[1m Human Message \u001b[0m=================================\n",
      "\n",
      "What tasks did I give you previously?\n",
      "==================================\u001b[1m Ai Message \u001b[0m==================================\n",
      "\n",
      "You asked me to provide recent AI news along with the publication dates and to multiply 2 by 50.\n"
     ]
    }
   ],
   "source": [
    "mem_enabled_react_response1 = mem_enabled_react_graph.invoke({\"messages\": \"What tasks did I give you previously?\"}, config=config)\n",
    "for m in mem_enabled_react_response1['messages']:\n",
    "    m.pretty_print()"
   ]
  },
  {
   "cell_type": "code",
   "execution_count": 140,
   "id": "9e571eca",
   "metadata": {},
   "outputs": [
    {
     "data": {
      "text/plain": [
       "defaultdict(None,\n",
       "            {('1',\n",
       "              '',\n",
       "              '__start__',\n",
       "              '00000000000000000000000000000001.0.7126665556347728'): ('msgpack',\n",
       "              b'\\x81\\xa8messages\\xd9VGive recent AI news along with the date the news was published. Then multiply 2 by 50.'),\n",
       "             ('1',\n",
       "              '',\n",
       "              '__start__',\n",
       "              '00000000000000000000000000000002.0.9641733704944351'): ('empty',\n",
       "              b''),\n",
       "             ('1',\n",
       "              '',\n",
       "              'messages',\n",
       "              '00000000000000000000000000000002.0.9641733704944351'): ('msgpack',\n",
       "              b'\\x91\\xc8\\x01\\n\\x05\\x94\\xbdlangchain_core.messages.human\\xacHumanMessage\\x87\\xa7content\\xd9VGive recent AI news along with the date the news was published. Then multiply 2 by 50.\\xb1additional_kwargs\\x80\\xb1response_metadata\\x80\\xa4type\\xa5human\\xa4name\\xc0\\xa2id\\xd9$db08c7bc-4411-442c-8bd2-0be511743143\\xa7example\\xc2\\xb3model_validate_json'),\n",
       "             ('1',\n",
       "              '',\n",
       "              'branch:to:ToolCallLLM',\n",
       "              '00000000000000000000000000000002.0.9641733704944351'): ('null',\n",
       "              b''),\n",
       "             ('1',\n",
       "              '',\n",
       "              'messages',\n",
       "              '00000000000000000000000000000003.0.5339123436708486'): ('msgpack',\n",
       "              b'\\x92\\xc8\\x01\\n\\x05\\x94\\xbdlangchain_core.messages.human\\xacHumanMessage\\x87\\xa7content\\xd9VGive recent AI news along with the date the news was published. Then multiply 2 by 50.\\xb1additional_kwargs\\x80\\xb1response_metadata\\x80\\xa4type\\xa5human\\xa4name\\xc0\\xa2id\\xd9$db08c7bc-4411-442c-8bd2-0be511743143\\xa7example\\xc2\\xb3model_validate_json\\xc8\\x04\\xf3\\x05\\x94\\xbalangchain_core.messages.ai\\xa9AIMessage\\x8a\\xa7content\\xa0\\xb1additional_kwargs\\x82\\xaatool_calls\\x92\\x83\\xa2id\\xbdcall_DoZ0HGHgeubornTgKIksILfX\\xa8function\\x82\\xa9arguments\\xd9_{\"query\": \"recent AI news\", \"search_depth\": \"basic\", \"topic\": \"news\", \"include_favicon\": false}\\xa4name\\xadtavily_search\\xa4type\\xa8function\\x83\\xa2id\\xbdcall_lQlxaGa5hYZWdKHgafQDFl5v\\xa8function\\x82\\xa9arguments\\xb1{\"a\": 2, \"b\": 50}\\xa4name\\xa8multiply\\xa4type\\xa8function\\xa7refusal\\xc0\\xb1response_metadata\\x87\\xabtoken_usage\\x85\\xb1completion_tokensB\\xadprompt_tokens\\xcd\\x05.\\xactotal_tokens\\xcd\\x05p\\xb9completion_tokens_details\\x84\\xbaaccepted_prediction_tokens\\x00\\xacaudio_tokens\\x00\\xb0reasoning_tokens\\x00\\xbarejected_prediction_tokens\\x00\\xb5prompt_tokens_details\\x82\\xacaudio_tokens\\x00\\xadcached_tokens\\x00\\xaamodel_name\\xb1gpt-4o-2024-08-06\\xb2system_fingerprint\\xadfp_df0f7b956c\\xa2id\\xd9&chatcmpl-C64GfPFCl9QzlVoiZI0CRBcYQB3wr\\xacservice_tier\\xa7default\\xadfinish_reason\\xaatool_calls\\xa8logprobs\\xc0\\xa4type\\xa2ai\\xa4name\\xc0\\xa2id\\xd9+run--a066b79a-89dd-4424-ac71-46feeed52472-0\\xa7example\\xc2\\xaatool_calls\\x92\\x84\\xa4name\\xadtavily_search\\xa4args\\x84\\xa5query\\xaerecent AI news\\xacsearch_depth\\xa5basic\\xa5topic\\xa4news\\xafinclude_favicon\\xc2\\xa2id\\xbdcall_DoZ0HGHgeubornTgKIksILfX\\xa4type\\xa9tool_call\\x84\\xa4name\\xa8multiply\\xa4args\\x82\\xa1a\\x02\\xa1b2\\xa2id\\xbdcall_lQlxaGa5hYZWdKHgafQDFl5v\\xa4type\\xa9tool_call\\xb2invalid_tool_calls\\x90\\xaeusage_metadata\\x85\\xacinput_tokens\\xcd\\x05.\\xadoutput_tokensB\\xactotal_tokens\\xcd\\x05p\\xb3input_token_details\\x82\\xa5audio\\x00\\xaacache_read\\x00\\xb4output_token_details\\x82\\xa5audio\\x00\\xa9reasoning\\x00\\xb3model_validate_json'),\n",
       "             ('1',\n",
       "              '',\n",
       "              'branch:to:ToolCallLLM',\n",
       "              '00000000000000000000000000000003.0.5339123436708486'): ('empty',\n",
       "              b''),\n",
       "             ('1',\n",
       "              '',\n",
       "              'branch:to:tools',\n",
       "              '00000000000000000000000000000003.0.5339123436708486'): ('null',\n",
       "              b''),\n",
       "             ('1',\n",
       "              '',\n",
       "              'messages',\n",
       "              '00000000000000000000000000000004.0.6044874519205157'): ('msgpack',\n",
       "              b'\\x94\\xc8\\x01\\n\\x05\\x94\\xbdlangchain_core.messages.human\\xacHumanMessage\\x87\\xa7content\\xd9VGive recent AI news along with the date the news was published. Then multiply 2 by 50.\\xb1additional_kwargs\\x80\\xb1response_metadata\\x80\\xa4type\\xa5human\\xa4name\\xc0\\xa2id\\xd9$db08c7bc-4411-442c-8bd2-0be511743143\\xa7example\\xc2\\xb3model_validate_json\\xc8\\x04\\xf3\\x05\\x94\\xbalangchain_core.messages.ai\\xa9AIMessage\\x8a\\xa7content\\xa0\\xb1additional_kwargs\\x82\\xaatool_calls\\x92\\x83\\xa2id\\xbdcall_DoZ0HGHgeubornTgKIksILfX\\xa8function\\x82\\xa9arguments\\xd9_{\"query\": \"recent AI news\", \"search_depth\": \"basic\", \"topic\": \"news\", \"include_favicon\": false}\\xa4name\\xadtavily_search\\xa4type\\xa8function\\x83\\xa2id\\xbdcall_lQlxaGa5hYZWdKHgafQDFl5v\\xa8function\\x82\\xa9arguments\\xb1{\"a\": 2, \"b\": 50}\\xa4name\\xa8multiply\\xa4type\\xa8function\\xa7refusal\\xc0\\xb1response_metadata\\x87\\xabtoken_usage\\x85\\xb1completion_tokensB\\xadprompt_tokens\\xcd\\x05.\\xactotal_tokens\\xcd\\x05p\\xb9completion_tokens_details\\x84\\xbaaccepted_prediction_tokens\\x00\\xacaudio_tokens\\x00\\xb0reasoning_tokens\\x00\\xbarejected_prediction_tokens\\x00\\xb5prompt_tokens_details\\x82\\xacaudio_tokens\\x00\\xadcached_tokens\\x00\\xaamodel_name\\xb1gpt-4o-2024-08-06\\xb2system_fingerprint\\xadfp_df0f7b956c\\xa2id\\xd9&chatcmpl-C64GfPFCl9QzlVoiZI0CRBcYQB3wr\\xacservice_tier\\xa7default\\xadfinish_reason\\xaatool_calls\\xa8logprobs\\xc0\\xa4type\\xa2ai\\xa4name\\xc0\\xa2id\\xd9+run--a066b79a-89dd-4424-ac71-46feeed52472-0\\xa7example\\xc2\\xaatool_calls\\x92\\x84\\xa4name\\xadtavily_search\\xa4args\\x84\\xa5query\\xaerecent AI news\\xacsearch_depth\\xa5basic\\xa5topic\\xa4news\\xafinclude_favicon\\xc2\\xa2id\\xbdcall_DoZ0HGHgeubornTgKIksILfX\\xa4type\\xa9tool_call\\x84\\xa4name\\xa8multiply\\xa4args\\x82\\xa1a\\x02\\xa1b2\\xa2id\\xbdcall_lQlxaGa5hYZWdKHgafQDFl5v\\xa4type\\xa9tool_call\\xb2invalid_tool_calls\\x90\\xaeusage_metadata\\x85\\xacinput_tokens\\xcd\\x05.\\xadoutput_tokensB\\xactotal_tokens\\xcd\\x05p\\xb3input_token_details\\x82\\xa5audio\\x00\\xaacache_read\\x00\\xb4output_token_details\\x82\\xa5audio\\x00\\xa9reasoning\\x00\\xb3model_validate_json\\xc8\\n\\xff\\x05\\x94\\xbclangchain_core.messages.tool\\xabToolMessage\\x89\\xa7content\\xda\\n\\x05{\"query\": \"recent AI news\", \"follow_up_questions\": null, \"answer\": null, \"images\": [], \"results\": [{\"url\": \"https://www.telecoms.com/digital-ecosystem/ai?page=29\", \"title\": \"AI recent news | page 29 of 29 | Telecoms - Telecoms.com\", \"score\": 0.72768575, \"published_date\": \"Wed, 13 Aug 2025 11:27:25 GMT\", \"content\": \"AI recent news | page 29 of 29 | Telecoms Image 1 TechTarget and Informa Tech\\xe2\\x80\\x99s Digital Business Combine. Image 3: Telecoms thumbnailImage 5Wireless Networking thumbnailImage 6Digital Ecosystem thumbnailImage 7AI #### Recent inFixed Networks thumbnailImage 8AI thumbnailImage 9Fibre thumbnailImage 11Network Software thumbnailImage 12AI thumbnailImage 14Digital Ecosystem thumbnailImage 16Telecoms Infrastructure thumbnailImage 19Fibre Image 22 Image 23 Minority of telcos think networks are \\xe2\\x80\\x98very ready\\xe2\\x80\\x99 for AI Minority of telcos think networks are \\xe2\\x80\\x98very ready\\xe2\\x80\\x99 for AI Image 25 Image 26 Image 27 Image 28 Image 29 Image 31 Image 32 Network Software Image 34: Telecoms Image 35: Informa This website is owned and operated by Informa TechTarget, part of a global network that informs, influences and connects the world\\xe2\\x80\\x99s technology buyers and sellers.\", \"raw_content\": null}, {\"url\": \"https://gizmodo.com/darpa-is-taking-its-ai-fighter-jet-program-to-the-next-level-2000643747\", \"title\": \"DARPA Is Taking Its AI Fighter Jet Program to the Next Level - Gizmodo\", \"score\": 0.6415577, \"published_date\": \"Fri, 15 Aug 2025 18:40:01 GMT\", \"content\": \"*   Image 6: A computer showing OpenAI\\'s logoTech News Artificial Intelligence After a Summer of Chaos, OpenAI Strikes Back -------------------------------------------- After losing top talent to Meta and fumbling key deals, the ChatGPT maker just dropped two massive announcements in a single week, a powerful counter-attack in the brutal war for AI supremacy. The Mystery Star of \\xe2\\x80\\x98Weapons\\xe2\\x80\\x99 Talks About Its Most Unforgettable Scene 8/15/2025, 3:45 pm Image 18: Weapons Kid RunningNotorious Boar\\xe2\\x80\\x99s Head Plant to Reopen a Year After Listeria Outbreak That Killed 10 8/15/2025, 3:40 pm Image 19: Boar\\'s Head meats are displayed at a Safeway store on July 31, 2024 in San Rafael, California.SpaceX Has Likely Skirted Federal Income Taxes for Decades, Investigation Reveals 8/15/2025, 3:25 pm Image 20: Elon Musk attends a Cabinet meeting at the White House on April 30, 2025 in Washington, DC.Feast Your Eyes on the Lavish Backdrops of \\xe2\\x80\\x98Ne Zha II\\xe2\\x80\\x99 8/15/2025, 2:45 pm Image 21: Ne Zha\", \"raw_content\": null}], \"response_time\": 0.28, \"request_id\": \"7416fa22-c20d-48e2-9aa3-43d66e2f4a2c\"}\\xb1additional_kwargs\\x80\\xb1response_metadata\\x80\\xa4type\\xa4tool\\xa4name\\xadtavily_search\\xa2id\\xd9$3b738b30-5d32-4407-943f-7ec3ad44bdd4\\xactool_call_id\\xbdcall_DoZ0HGHgeubornTgKIksILfX\\xa8artifact\\xc0\\xa6status\\xa7success\\xb3model_validate_json\\xc7\\xf6\\x05\\x94\\xbclangchain_core.messages.tool\\xabToolMessage\\x89\\xa7content\\xa3100\\xb1additional_kwargs\\x80\\xb1response_metadata\\x80\\xa4type\\xa4tool\\xa4name\\xa8multiply\\xa2id\\xd9$d189ba8c-d737-4b4f-8af4-53d7ad027c4c\\xactool_call_id\\xbdcall_lQlxaGa5hYZWdKHgafQDFl5v\\xa8artifact\\xc0\\xa6status\\xa7success\\xb3model_validate_json'),\n",
       "             ('1',\n",
       "              '',\n",
       "              'branch:to:ToolCallLLM',\n",
       "              '00000000000000000000000000000004.0.6044874519205157'): ('null',\n",
       "              b''),\n",
       "             ('1',\n",
       "              '',\n",
       "              'branch:to:tools',\n",
       "              '00000000000000000000000000000004.0.6044874519205157'): ('empty',\n",
       "              b''),\n",
       "             ('1',\n",
       "              '',\n",
       "              'messages',\n",
       "              '00000000000000000000000000000005.0.16707920695249012'): ('msgpack',\n",
       "              b'\\x95\\xc8\\x01\\n\\x05\\x94\\xbdlangchain_core.messages.human\\xacHumanMessage\\x87\\xa7content\\xd9VGive recent AI news along with the date the news was published. Then multiply 2 by 50.\\xb1additional_kwargs\\x80\\xb1response_metadata\\x80\\xa4type\\xa5human\\xa4name\\xc0\\xa2id\\xd9$db08c7bc-4411-442c-8bd2-0be511743143\\xa7example\\xc2\\xb3model_validate_json\\xc8\\x04\\xf3\\x05\\x94\\xbalangchain_core.messages.ai\\xa9AIMessage\\x8a\\xa7content\\xa0\\xb1additional_kwargs\\x82\\xaatool_calls\\x92\\x83\\xa2id\\xbdcall_DoZ0HGHgeubornTgKIksILfX\\xa8function\\x82\\xa9arguments\\xd9_{\"query\": \"recent AI news\", \"search_depth\": \"basic\", \"topic\": \"news\", \"include_favicon\": false}\\xa4name\\xadtavily_search\\xa4type\\xa8function\\x83\\xa2id\\xbdcall_lQlxaGa5hYZWdKHgafQDFl5v\\xa8function\\x82\\xa9arguments\\xb1{\"a\": 2, \"b\": 50}\\xa4name\\xa8multiply\\xa4type\\xa8function\\xa7refusal\\xc0\\xb1response_metadata\\x87\\xabtoken_usage\\x85\\xb1completion_tokensB\\xadprompt_tokens\\xcd\\x05.\\xactotal_tokens\\xcd\\x05p\\xb9completion_tokens_details\\x84\\xbaaccepted_prediction_tokens\\x00\\xacaudio_tokens\\x00\\xb0reasoning_tokens\\x00\\xbarejected_prediction_tokens\\x00\\xb5prompt_tokens_details\\x82\\xacaudio_tokens\\x00\\xadcached_tokens\\x00\\xaamodel_name\\xb1gpt-4o-2024-08-06\\xb2system_fingerprint\\xadfp_df0f7b956c\\xa2id\\xd9&chatcmpl-C64GfPFCl9QzlVoiZI0CRBcYQB3wr\\xacservice_tier\\xa7default\\xadfinish_reason\\xaatool_calls\\xa8logprobs\\xc0\\xa4type\\xa2ai\\xa4name\\xc0\\xa2id\\xd9+run--a066b79a-89dd-4424-ac71-46feeed52472-0\\xa7example\\xc2\\xaatool_calls\\x92\\x84\\xa4name\\xadtavily_search\\xa4args\\x84\\xa5query\\xaerecent AI news\\xacsearch_depth\\xa5basic\\xa5topic\\xa4news\\xafinclude_favicon\\xc2\\xa2id\\xbdcall_DoZ0HGHgeubornTgKIksILfX\\xa4type\\xa9tool_call\\x84\\xa4name\\xa8multiply\\xa4args\\x82\\xa1a\\x02\\xa1b2\\xa2id\\xbdcall_lQlxaGa5hYZWdKHgafQDFl5v\\xa4type\\xa9tool_call\\xb2invalid_tool_calls\\x90\\xaeusage_metadata\\x85\\xacinput_tokens\\xcd\\x05.\\xadoutput_tokensB\\xactotal_tokens\\xcd\\x05p\\xb3input_token_details\\x82\\xa5audio\\x00\\xaacache_read\\x00\\xb4output_token_details\\x82\\xa5audio\\x00\\xa9reasoning\\x00\\xb3model_validate_json\\xc8\\n\\xff\\x05\\x94\\xbclangchain_core.messages.tool\\xabToolMessage\\x89\\xa7content\\xda\\n\\x05{\"query\": \"recent AI news\", \"follow_up_questions\": null, \"answer\": null, \"images\": [], \"results\": [{\"url\": \"https://www.telecoms.com/digital-ecosystem/ai?page=29\", \"title\": \"AI recent news | page 29 of 29 | Telecoms - Telecoms.com\", \"score\": 0.72768575, \"published_date\": \"Wed, 13 Aug 2025 11:27:25 GMT\", \"content\": \"AI recent news | page 29 of 29 | Telecoms Image 1 TechTarget and Informa Tech\\xe2\\x80\\x99s Digital Business Combine. Image 3: Telecoms thumbnailImage 5Wireless Networking thumbnailImage 6Digital Ecosystem thumbnailImage 7AI #### Recent inFixed Networks thumbnailImage 8AI thumbnailImage 9Fibre thumbnailImage 11Network Software thumbnailImage 12AI thumbnailImage 14Digital Ecosystem thumbnailImage 16Telecoms Infrastructure thumbnailImage 19Fibre Image 22 Image 23 Minority of telcos think networks are \\xe2\\x80\\x98very ready\\xe2\\x80\\x99 for AI Minority of telcos think networks are \\xe2\\x80\\x98very ready\\xe2\\x80\\x99 for AI Image 25 Image 26 Image 27 Image 28 Image 29 Image 31 Image 32 Network Software Image 34: Telecoms Image 35: Informa This website is owned and operated by Informa TechTarget, part of a global network that informs, influences and connects the world\\xe2\\x80\\x99s technology buyers and sellers.\", \"raw_content\": null}, {\"url\": \"https://gizmodo.com/darpa-is-taking-its-ai-fighter-jet-program-to-the-next-level-2000643747\", \"title\": \"DARPA Is Taking Its AI Fighter Jet Program to the Next Level - Gizmodo\", \"score\": 0.6415577, \"published_date\": \"Fri, 15 Aug 2025 18:40:01 GMT\", \"content\": \"*   Image 6: A computer showing OpenAI\\'s logoTech News Artificial Intelligence After a Summer of Chaos, OpenAI Strikes Back -------------------------------------------- After losing top talent to Meta and fumbling key deals, the ChatGPT maker just dropped two massive announcements in a single week, a powerful counter-attack in the brutal war for AI supremacy. The Mystery Star of \\xe2\\x80\\x98Weapons\\xe2\\x80\\x99 Talks About Its Most Unforgettable Scene 8/15/2025, 3:45 pm Image 18: Weapons Kid RunningNotorious Boar\\xe2\\x80\\x99s Head Plant to Reopen a Year After Listeria Outbreak That Killed 10 8/15/2025, 3:40 pm Image 19: Boar\\'s Head meats are displayed at a Safeway store on July 31, 2024 in San Rafael, California.SpaceX Has Likely Skirted Federal Income Taxes for Decades, Investigation Reveals 8/15/2025, 3:25 pm Image 20: Elon Musk attends a Cabinet meeting at the White House on April 30, 2025 in Washington, DC.Feast Your Eyes on the Lavish Backdrops of \\xe2\\x80\\x98Ne Zha II\\xe2\\x80\\x99 8/15/2025, 2:45 pm Image 21: Ne Zha\", \"raw_content\": null}], \"response_time\": 0.28, \"request_id\": \"7416fa22-c20d-48e2-9aa3-43d66e2f4a2c\"}\\xb1additional_kwargs\\x80\\xb1response_metadata\\x80\\xa4type\\xa4tool\\xa4name\\xadtavily_search\\xa2id\\xd9$3b738b30-5d32-4407-943f-7ec3ad44bdd4\\xactool_call_id\\xbdcall_DoZ0HGHgeubornTgKIksILfX\\xa8artifact\\xc0\\xa6status\\xa7success\\xb3model_validate_json\\xc7\\xf6\\x05\\x94\\xbclangchain_core.messages.tool\\xabToolMessage\\x89\\xa7content\\xa3100\\xb1additional_kwargs\\x80\\xb1response_metadata\\x80\\xa4type\\xa4tool\\xa4name\\xa8multiply\\xa2id\\xd9$d189ba8c-d737-4b4f-8af4-53d7ad027c4c\\xactool_call_id\\xbdcall_lQlxaGa5hYZWdKHgafQDFl5v\\xa8artifact\\xc0\\xa6status\\xa7success\\xb3model_validate_json\\xc8\\x06F\\x05\\x94\\xbalangchain_core.messages.ai\\xa9AIMessage\\x8a\\xa7content\\xda\\x03RHere are some recent news updates on AI:\\n\\n1. **DARPA\\'s AI Fighter Jet Program**  \\n   - *Published Date:* August 15, 2025  \\n   - *Summary:* DARPA is advancing its AI fighter jet program significantly. This move comes in the wake of OpenAI\\'s strategic responses after facing challenges such as losing top talent to Meta and mismanaging key deals.  \\n   - *Source:* [Gizmodo](https://gizmodo.com/darpa-is-taking-its-ai-fighter-jet-program-to-the-next-level-2000643747)\\n\\n2. **Telecoms and AI Readiness**  \\n   - *Published Date:* August 13, 2025  \\n   - *Summary:* A report from Telecoms.com highlights that a minority of telecom companies believe they are \"very ready\" for AI integration in their networks.  \\n   - *Source:* [Telecoms](https://www.telecoms.com/digital-ecosystem/ai?page=29)\\n\\nFor the multiplication result, 2 multiplied by 50 equals **100**.\\xb1additional_kwargs\\x81\\xa7refusal\\xc0\\xb1response_metadata\\x87\\xabtoken_usage\\x85\\xb1completion_tokens\\xcc\\xdf\\xadprompt_tokens\\xcd\\x08]\\xactotal_tokens\\xcd\\t<\\xb9completion_tokens_details\\x84\\xbaaccepted_prediction_tokens\\x00\\xacaudio_tokens\\x00\\xb0reasoning_tokens\\x00\\xbarejected_prediction_tokens\\x00\\xb5prompt_tokens_details\\x82\\xacaudio_tokens\\x00\\xadcached_tokens\\xcd\\x05\\x00\\xaamodel_name\\xb1gpt-4o-2024-08-06\\xb2system_fingerprint\\xadfp_df0f7b956c\\xa2id\\xd9&chatcmpl-C64GhWECrZpp67Hmnurbs9PPJxanE\\xacservice_tier\\xa7default\\xadfinish_reason\\xa4stop\\xa8logprobs\\xc0\\xa4type\\xa2ai\\xa4name\\xc0\\xa2id\\xd9+run--1dd34072-0839-4c3a-b143-ef72c4d50c4c-0\\xa7example\\xc2\\xaatool_calls\\x90\\xb2invalid_tool_calls\\x90\\xaeusage_metadata\\x85\\xacinput_tokens\\xcd\\x08]\\xadoutput_tokens\\xcc\\xdf\\xactotal_tokens\\xcd\\t<\\xb3input_token_details\\x82\\xa5audio\\x00\\xaacache_read\\xcd\\x05\\x00\\xb4output_token_details\\x82\\xa5audio\\x00\\xa9reasoning\\x00\\xb3model_validate_json'),\n",
       "             ('1',\n",
       "              '',\n",
       "              'branch:to:ToolCallLLM',\n",
       "              '00000000000000000000000000000005.0.16707920695249012'): ('empty',\n",
       "              b''),\n",
       "             ('1',\n",
       "              '',\n",
       "              '__start__',\n",
       "              '00000000000000000000000000000006.0.4669441817226092'): ('msgpack',\n",
       "              b'\\x81\\xa8messages\\xd9%What tasks did I give you previously?'),\n",
       "             ('1',\n",
       "              '',\n",
       "              '__start__',\n",
       "              '00000000000000000000000000000007.0.7494475284989583'): ('empty',\n",
       "              b''),\n",
       "             ('1',\n",
       "              '',\n",
       "              'messages',\n",
       "              '00000000000000000000000000000007.0.7494475284989583'): ('msgpack',\n",
       "              b'\\x96\\xc8\\x01\\n\\x05\\x94\\xbdlangchain_core.messages.human\\xacHumanMessage\\x87\\xa7content\\xd9VGive recent AI news along with the date the news was published. Then multiply 2 by 50.\\xb1additional_kwargs\\x80\\xb1response_metadata\\x80\\xa4type\\xa5human\\xa4name\\xc0\\xa2id\\xd9$db08c7bc-4411-442c-8bd2-0be511743143\\xa7example\\xc2\\xb3model_validate_json\\xc8\\x04\\xf3\\x05\\x94\\xbalangchain_core.messages.ai\\xa9AIMessage\\x8a\\xa7content\\xa0\\xb1additional_kwargs\\x82\\xaatool_calls\\x92\\x83\\xa2id\\xbdcall_DoZ0HGHgeubornTgKIksILfX\\xa8function\\x82\\xa9arguments\\xd9_{\"query\": \"recent AI news\", \"search_depth\": \"basic\", \"topic\": \"news\", \"include_favicon\": false}\\xa4name\\xadtavily_search\\xa4type\\xa8function\\x83\\xa2id\\xbdcall_lQlxaGa5hYZWdKHgafQDFl5v\\xa8function\\x82\\xa9arguments\\xb1{\"a\": 2, \"b\": 50}\\xa4name\\xa8multiply\\xa4type\\xa8function\\xa7refusal\\xc0\\xb1response_metadata\\x87\\xabtoken_usage\\x85\\xb1completion_tokensB\\xadprompt_tokens\\xcd\\x05.\\xactotal_tokens\\xcd\\x05p\\xb9completion_tokens_details\\x84\\xbaaccepted_prediction_tokens\\x00\\xacaudio_tokens\\x00\\xb0reasoning_tokens\\x00\\xbarejected_prediction_tokens\\x00\\xb5prompt_tokens_details\\x82\\xacaudio_tokens\\x00\\xadcached_tokens\\x00\\xaamodel_name\\xb1gpt-4o-2024-08-06\\xb2system_fingerprint\\xadfp_df0f7b956c\\xa2id\\xd9&chatcmpl-C64GfPFCl9QzlVoiZI0CRBcYQB3wr\\xacservice_tier\\xa7default\\xadfinish_reason\\xaatool_calls\\xa8logprobs\\xc0\\xa4type\\xa2ai\\xa4name\\xc0\\xa2id\\xd9+run--a066b79a-89dd-4424-ac71-46feeed52472-0\\xa7example\\xc2\\xaatool_calls\\x92\\x84\\xa4name\\xadtavily_search\\xa4args\\x84\\xa5query\\xaerecent AI news\\xacsearch_depth\\xa5basic\\xa5topic\\xa4news\\xafinclude_favicon\\xc2\\xa2id\\xbdcall_DoZ0HGHgeubornTgKIksILfX\\xa4type\\xa9tool_call\\x84\\xa4name\\xa8multiply\\xa4args\\x82\\xa1a\\x02\\xa1b2\\xa2id\\xbdcall_lQlxaGa5hYZWdKHgafQDFl5v\\xa4type\\xa9tool_call\\xb2invalid_tool_calls\\x90\\xaeusage_metadata\\x85\\xacinput_tokens\\xcd\\x05.\\xadoutput_tokensB\\xactotal_tokens\\xcd\\x05p\\xb3input_token_details\\x82\\xa5audio\\x00\\xaacache_read\\x00\\xb4output_token_details\\x82\\xa5audio\\x00\\xa9reasoning\\x00\\xb3model_validate_json\\xc8\\n\\xff\\x05\\x94\\xbclangchain_core.messages.tool\\xabToolMessage\\x89\\xa7content\\xda\\n\\x05{\"query\": \"recent AI news\", \"follow_up_questions\": null, \"answer\": null, \"images\": [], \"results\": [{\"url\": \"https://www.telecoms.com/digital-ecosystem/ai?page=29\", \"title\": \"AI recent news | page 29 of 29 | Telecoms - Telecoms.com\", \"score\": 0.72768575, \"published_date\": \"Wed, 13 Aug 2025 11:27:25 GMT\", \"content\": \"AI recent news | page 29 of 29 | Telecoms Image 1 TechTarget and Informa Tech\\xe2\\x80\\x99s Digital Business Combine. Image 3: Telecoms thumbnailImage 5Wireless Networking thumbnailImage 6Digital Ecosystem thumbnailImage 7AI #### Recent inFixed Networks thumbnailImage 8AI thumbnailImage 9Fibre thumbnailImage 11Network Software thumbnailImage 12AI thumbnailImage 14Digital Ecosystem thumbnailImage 16Telecoms Infrastructure thumbnailImage 19Fibre Image 22 Image 23 Minority of telcos think networks are \\xe2\\x80\\x98very ready\\xe2\\x80\\x99 for AI Minority of telcos think networks are \\xe2\\x80\\x98very ready\\xe2\\x80\\x99 for AI Image 25 Image 26 Image 27 Image 28 Image 29 Image 31 Image 32 Network Software Image 34: Telecoms Image 35: Informa This website is owned and operated by Informa TechTarget, part of a global network that informs, influences and connects the world\\xe2\\x80\\x99s technology buyers and sellers.\", \"raw_content\": null}, {\"url\": \"https://gizmodo.com/darpa-is-taking-its-ai-fighter-jet-program-to-the-next-level-2000643747\", \"title\": \"DARPA Is Taking Its AI Fighter Jet Program to the Next Level - Gizmodo\", \"score\": 0.6415577, \"published_date\": \"Fri, 15 Aug 2025 18:40:01 GMT\", \"content\": \"*   Image 6: A computer showing OpenAI\\'s logoTech News Artificial Intelligence After a Summer of Chaos, OpenAI Strikes Back -------------------------------------------- After losing top talent to Meta and fumbling key deals, the ChatGPT maker just dropped two massive announcements in a single week, a powerful counter-attack in the brutal war for AI supremacy. The Mystery Star of \\xe2\\x80\\x98Weapons\\xe2\\x80\\x99 Talks About Its Most Unforgettable Scene 8/15/2025, 3:45 pm Image 18: Weapons Kid RunningNotorious Boar\\xe2\\x80\\x99s Head Plant to Reopen a Year After Listeria Outbreak That Killed 10 8/15/2025, 3:40 pm Image 19: Boar\\'s Head meats are displayed at a Safeway store on July 31, 2024 in San Rafael, California.SpaceX Has Likely Skirted Federal Income Taxes for Decades, Investigation Reveals 8/15/2025, 3:25 pm Image 20: Elon Musk attends a Cabinet meeting at the White House on April 30, 2025 in Washington, DC.Feast Your Eyes on the Lavish Backdrops of \\xe2\\x80\\x98Ne Zha II\\xe2\\x80\\x99 8/15/2025, 2:45 pm Image 21: Ne Zha\", \"raw_content\": null}], \"response_time\": 0.28, \"request_id\": \"7416fa22-c20d-48e2-9aa3-43d66e2f4a2c\"}\\xb1additional_kwargs\\x80\\xb1response_metadata\\x80\\xa4type\\xa4tool\\xa4name\\xadtavily_search\\xa2id\\xd9$3b738b30-5d32-4407-943f-7ec3ad44bdd4\\xactool_call_id\\xbdcall_DoZ0HGHgeubornTgKIksILfX\\xa8artifact\\xc0\\xa6status\\xa7success\\xb3model_validate_json\\xc7\\xf6\\x05\\x94\\xbclangchain_core.messages.tool\\xabToolMessage\\x89\\xa7content\\xa3100\\xb1additional_kwargs\\x80\\xb1response_metadata\\x80\\xa4type\\xa4tool\\xa4name\\xa8multiply\\xa2id\\xd9$d189ba8c-d737-4b4f-8af4-53d7ad027c4c\\xactool_call_id\\xbdcall_lQlxaGa5hYZWdKHgafQDFl5v\\xa8artifact\\xc0\\xa6status\\xa7success\\xb3model_validate_json\\xc8\\x06F\\x05\\x94\\xbalangchain_core.messages.ai\\xa9AIMessage\\x8a\\xa7content\\xda\\x03RHere are some recent news updates on AI:\\n\\n1. **DARPA\\'s AI Fighter Jet Program**  \\n   - *Published Date:* August 15, 2025  \\n   - *Summary:* DARPA is advancing its AI fighter jet program significantly. This move comes in the wake of OpenAI\\'s strategic responses after facing challenges such as losing top talent to Meta and mismanaging key deals.  \\n   - *Source:* [Gizmodo](https://gizmodo.com/darpa-is-taking-its-ai-fighter-jet-program-to-the-next-level-2000643747)\\n\\n2. **Telecoms and AI Readiness**  \\n   - *Published Date:* August 13, 2025  \\n   - *Summary:* A report from Telecoms.com highlights that a minority of telecom companies believe they are \"very ready\" for AI integration in their networks.  \\n   - *Source:* [Telecoms](https://www.telecoms.com/digital-ecosystem/ai?page=29)\\n\\nFor the multiplication result, 2 multiplied by 50 equals **100**.\\xb1additional_kwargs\\x81\\xa7refusal\\xc0\\xb1response_metadata\\x87\\xabtoken_usage\\x85\\xb1completion_tokens\\xcc\\xdf\\xadprompt_tokens\\xcd\\x08]\\xactotal_tokens\\xcd\\t<\\xb9completion_tokens_details\\x84\\xbaaccepted_prediction_tokens\\x00\\xacaudio_tokens\\x00\\xb0reasoning_tokens\\x00\\xbarejected_prediction_tokens\\x00\\xb5prompt_tokens_details\\x82\\xacaudio_tokens\\x00\\xadcached_tokens\\xcd\\x05\\x00\\xaamodel_name\\xb1gpt-4o-2024-08-06\\xb2system_fingerprint\\xadfp_df0f7b956c\\xa2id\\xd9&chatcmpl-C64GhWECrZpp67Hmnurbs9PPJxanE\\xacservice_tier\\xa7default\\xadfinish_reason\\xa4stop\\xa8logprobs\\xc0\\xa4type\\xa2ai\\xa4name\\xc0\\xa2id\\xd9+run--1dd34072-0839-4c3a-b143-ef72c4d50c4c-0\\xa7example\\xc2\\xaatool_calls\\x90\\xb2invalid_tool_calls\\x90\\xaeusage_metadata\\x85\\xacinput_tokens\\xcd\\x08]\\xadoutput_tokens\\xcc\\xdf\\xactotal_tokens\\xcd\\t<\\xb3input_token_details\\x82\\xa5audio\\x00\\xaacache_read\\xcd\\x05\\x00\\xb4output_token_details\\x82\\xa5audio\\x00\\xa9reasoning\\x00\\xb3model_validate_json\\xc7\\xd9\\x05\\x94\\xbdlangchain_core.messages.human\\xacHumanMessage\\x87\\xa7content\\xd9%What tasks did I give you previously?\\xb1additional_kwargs\\x80\\xb1response_metadata\\x80\\xa4type\\xa5human\\xa4name\\xc0\\xa2id\\xd9$ed50b19f-4e24-49ef-abdd-8a0d52a812e3\\xa7example\\xc2\\xb3model_validate_json'),\n",
       "             ('1',\n",
       "              '',\n",
       "              'branch:to:ToolCallLLM',\n",
       "              '00000000000000000000000000000007.0.7494475284989583'): ('null',\n",
       "              b''),\n",
       "             ('1',\n",
       "              '',\n",
       "              'messages',\n",
       "              '00000000000000000000000000000008.0.5436791082094784'): ('msgpack',\n",
       "              b'\\x97\\xc8\\x01\\n\\x05\\x94\\xbdlangchain_core.messages.human\\xacHumanMessage\\x87\\xa7content\\xd9VGive recent AI news along with the date the news was published. Then multiply 2 by 50.\\xb1additional_kwargs\\x80\\xb1response_metadata\\x80\\xa4type\\xa5human\\xa4name\\xc0\\xa2id\\xd9$db08c7bc-4411-442c-8bd2-0be511743143\\xa7example\\xc2\\xb3model_validate_json\\xc8\\x04\\xf3\\x05\\x94\\xbalangchain_core.messages.ai\\xa9AIMessage\\x8a\\xa7content\\xa0\\xb1additional_kwargs\\x82\\xaatool_calls\\x92\\x83\\xa2id\\xbdcall_DoZ0HGHgeubornTgKIksILfX\\xa8function\\x82\\xa9arguments\\xd9_{\"query\": \"recent AI news\", \"search_depth\": \"basic\", \"topic\": \"news\", \"include_favicon\": false}\\xa4name\\xadtavily_search\\xa4type\\xa8function\\x83\\xa2id\\xbdcall_lQlxaGa5hYZWdKHgafQDFl5v\\xa8function\\x82\\xa9arguments\\xb1{\"a\": 2, \"b\": 50}\\xa4name\\xa8multiply\\xa4type\\xa8function\\xa7refusal\\xc0\\xb1response_metadata\\x87\\xabtoken_usage\\x85\\xb1completion_tokensB\\xadprompt_tokens\\xcd\\x05.\\xactotal_tokens\\xcd\\x05p\\xb9completion_tokens_details\\x84\\xbaaccepted_prediction_tokens\\x00\\xacaudio_tokens\\x00\\xb0reasoning_tokens\\x00\\xbarejected_prediction_tokens\\x00\\xb5prompt_tokens_details\\x82\\xacaudio_tokens\\x00\\xadcached_tokens\\x00\\xaamodel_name\\xb1gpt-4o-2024-08-06\\xb2system_fingerprint\\xadfp_df0f7b956c\\xa2id\\xd9&chatcmpl-C64GfPFCl9QzlVoiZI0CRBcYQB3wr\\xacservice_tier\\xa7default\\xadfinish_reason\\xaatool_calls\\xa8logprobs\\xc0\\xa4type\\xa2ai\\xa4name\\xc0\\xa2id\\xd9+run--a066b79a-89dd-4424-ac71-46feeed52472-0\\xa7example\\xc2\\xaatool_calls\\x92\\x84\\xa4name\\xadtavily_search\\xa4args\\x84\\xa5query\\xaerecent AI news\\xacsearch_depth\\xa5basic\\xa5topic\\xa4news\\xafinclude_favicon\\xc2\\xa2id\\xbdcall_DoZ0HGHgeubornTgKIksILfX\\xa4type\\xa9tool_call\\x84\\xa4name\\xa8multiply\\xa4args\\x82\\xa1a\\x02\\xa1b2\\xa2id\\xbdcall_lQlxaGa5hYZWdKHgafQDFl5v\\xa4type\\xa9tool_call\\xb2invalid_tool_calls\\x90\\xaeusage_metadata\\x85\\xacinput_tokens\\xcd\\x05.\\xadoutput_tokensB\\xactotal_tokens\\xcd\\x05p\\xb3input_token_details\\x82\\xa5audio\\x00\\xaacache_read\\x00\\xb4output_token_details\\x82\\xa5audio\\x00\\xa9reasoning\\x00\\xb3model_validate_json\\xc8\\n\\xff\\x05\\x94\\xbclangchain_core.messages.tool\\xabToolMessage\\x89\\xa7content\\xda\\n\\x05{\"query\": \"recent AI news\", \"follow_up_questions\": null, \"answer\": null, \"images\": [], \"results\": [{\"url\": \"https://www.telecoms.com/digital-ecosystem/ai?page=29\", \"title\": \"AI recent news | page 29 of 29 | Telecoms - Telecoms.com\", \"score\": 0.72768575, \"published_date\": \"Wed, 13 Aug 2025 11:27:25 GMT\", \"content\": \"AI recent news | page 29 of 29 | Telecoms Image 1 TechTarget and Informa Tech\\xe2\\x80\\x99s Digital Business Combine. Image 3: Telecoms thumbnailImage 5Wireless Networking thumbnailImage 6Digital Ecosystem thumbnailImage 7AI #### Recent inFixed Networks thumbnailImage 8AI thumbnailImage 9Fibre thumbnailImage 11Network Software thumbnailImage 12AI thumbnailImage 14Digital Ecosystem thumbnailImage 16Telecoms Infrastructure thumbnailImage 19Fibre Image 22 Image 23 Minority of telcos think networks are \\xe2\\x80\\x98very ready\\xe2\\x80\\x99 for AI Minority of telcos think networks are \\xe2\\x80\\x98very ready\\xe2\\x80\\x99 for AI Image 25 Image 26 Image 27 Image 28 Image 29 Image 31 Image 32 Network Software Image 34: Telecoms Image 35: Informa This website is owned and operated by Informa TechTarget, part of a global network that informs, influences and connects the world\\xe2\\x80\\x99s technology buyers and sellers.\", \"raw_content\": null}, {\"url\": \"https://gizmodo.com/darpa-is-taking-its-ai-fighter-jet-program-to-the-next-level-2000643747\", \"title\": \"DARPA Is Taking Its AI Fighter Jet Program to the Next Level - Gizmodo\", \"score\": 0.6415577, \"published_date\": \"Fri, 15 Aug 2025 18:40:01 GMT\", \"content\": \"*   Image 6: A computer showing OpenAI\\'s logoTech News Artificial Intelligence After a Summer of Chaos, OpenAI Strikes Back -------------------------------------------- After losing top talent to Meta and fumbling key deals, the ChatGPT maker just dropped two massive announcements in a single week, a powerful counter-attack in the brutal war for AI supremacy. The Mystery Star of \\xe2\\x80\\x98Weapons\\xe2\\x80\\x99 Talks About Its Most Unforgettable Scene 8/15/2025, 3:45 pm Image 18: Weapons Kid RunningNotorious Boar\\xe2\\x80\\x99s Head Plant to Reopen a Year After Listeria Outbreak That Killed 10 8/15/2025, 3:40 pm Image 19: Boar\\'s Head meats are displayed at a Safeway store on July 31, 2024 in San Rafael, California.SpaceX Has Likely Skirted Federal Income Taxes for Decades, Investigation Reveals 8/15/2025, 3:25 pm Image 20: Elon Musk attends a Cabinet meeting at the White House on April 30, 2025 in Washington, DC.Feast Your Eyes on the Lavish Backdrops of \\xe2\\x80\\x98Ne Zha II\\xe2\\x80\\x99 8/15/2025, 2:45 pm Image 21: Ne Zha\", \"raw_content\": null}], \"response_time\": 0.28, \"request_id\": \"7416fa22-c20d-48e2-9aa3-43d66e2f4a2c\"}\\xb1additional_kwargs\\x80\\xb1response_metadata\\x80\\xa4type\\xa4tool\\xa4name\\xadtavily_search\\xa2id\\xd9$3b738b30-5d32-4407-943f-7ec3ad44bdd4\\xactool_call_id\\xbdcall_DoZ0HGHgeubornTgKIksILfX\\xa8artifact\\xc0\\xa6status\\xa7success\\xb3model_validate_json\\xc7\\xf6\\x05\\x94\\xbclangchain_core.messages.tool\\xabToolMessage\\x89\\xa7content\\xa3100\\xb1additional_kwargs\\x80\\xb1response_metadata\\x80\\xa4type\\xa4tool\\xa4name\\xa8multiply\\xa2id\\xd9$d189ba8c-d737-4b4f-8af4-53d7ad027c4c\\xactool_call_id\\xbdcall_lQlxaGa5hYZWdKHgafQDFl5v\\xa8artifact\\xc0\\xa6status\\xa7success\\xb3model_validate_json\\xc8\\x06F\\x05\\x94\\xbalangchain_core.messages.ai\\xa9AIMessage\\x8a\\xa7content\\xda\\x03RHere are some recent news updates on AI:\\n\\n1. **DARPA\\'s AI Fighter Jet Program**  \\n   - *Published Date:* August 15, 2025  \\n   - *Summary:* DARPA is advancing its AI fighter jet program significantly. This move comes in the wake of OpenAI\\'s strategic responses after facing challenges such as losing top talent to Meta and mismanaging key deals.  \\n   - *Source:* [Gizmodo](https://gizmodo.com/darpa-is-taking-its-ai-fighter-jet-program-to-the-next-level-2000643747)\\n\\n2. **Telecoms and AI Readiness**  \\n   - *Published Date:* August 13, 2025  \\n   - *Summary:* A report from Telecoms.com highlights that a minority of telecom companies believe they are \"very ready\" for AI integration in their networks.  \\n   - *Source:* [Telecoms](https://www.telecoms.com/digital-ecosystem/ai?page=29)\\n\\nFor the multiplication result, 2 multiplied by 50 equals **100**.\\xb1additional_kwargs\\x81\\xa7refusal\\xc0\\xb1response_metadata\\x87\\xabtoken_usage\\x85\\xb1completion_tokens\\xcc\\xdf\\xadprompt_tokens\\xcd\\x08]\\xactotal_tokens\\xcd\\t<\\xb9completion_tokens_details\\x84\\xbaaccepted_prediction_tokens\\x00\\xacaudio_tokens\\x00\\xb0reasoning_tokens\\x00\\xbarejected_prediction_tokens\\x00\\xb5prompt_tokens_details\\x82\\xacaudio_tokens\\x00\\xadcached_tokens\\xcd\\x05\\x00\\xaamodel_name\\xb1gpt-4o-2024-08-06\\xb2system_fingerprint\\xadfp_df0f7b956c\\xa2id\\xd9&chatcmpl-C64GhWECrZpp67Hmnurbs9PPJxanE\\xacservice_tier\\xa7default\\xadfinish_reason\\xa4stop\\xa8logprobs\\xc0\\xa4type\\xa2ai\\xa4name\\xc0\\xa2id\\xd9+run--1dd34072-0839-4c3a-b143-ef72c4d50c4c-0\\xa7example\\xc2\\xaatool_calls\\x90\\xb2invalid_tool_calls\\x90\\xaeusage_metadata\\x85\\xacinput_tokens\\xcd\\x08]\\xadoutput_tokens\\xcc\\xdf\\xactotal_tokens\\xcd\\t<\\xb3input_token_details\\x82\\xa5audio\\x00\\xaacache_read\\xcd\\x05\\x00\\xb4output_token_details\\x82\\xa5audio\\x00\\xa9reasoning\\x00\\xb3model_validate_json\\xc7\\xd9\\x05\\x94\\xbdlangchain_core.messages.human\\xacHumanMessage\\x87\\xa7content\\xd9%What tasks did I give you previously?\\xb1additional_kwargs\\x80\\xb1response_metadata\\x80\\xa4type\\xa5human\\xa4name\\xc0\\xa2id\\xd9$ed50b19f-4e24-49ef-abdd-8a0d52a812e3\\xa7example\\xc2\\xb3model_validate_json\\xc8\\x03Q\\x05\\x94\\xbalangchain_core.messages.ai\\xa9AIMessage\\x8a\\xa7content\\xd9`You asked me to provide recent AI news along with the publication dates and to multiply 2 by 50.\\xb1additional_kwargs\\x81\\xa7refusal\\xc0\\xb1response_metadata\\x87\\xabtoken_usage\\x85\\xb1completion_tokens\\x17\\xadprompt_tokens\\xcd\\tK\\xactotal_tokens\\xcd\\tb\\xb9completion_tokens_details\\x84\\xbaaccepted_prediction_tokens\\x00\\xacaudio_tokens\\x00\\xb0reasoning_tokens\\x00\\xbarejected_prediction_tokens\\x00\\xb5prompt_tokens_details\\x82\\xacaudio_tokens\\x00\\xadcached_tokens\\xcd\\t\\x00\\xaamodel_name\\xb1gpt-4o-2024-08-06\\xb2system_fingerprint\\xadfp_df0f7b956c\\xa2id\\xd9&chatcmpl-C64GjASQIM4yPJedW7LWAuY9SPSpm\\xacservice_tier\\xa7default\\xadfinish_reason\\xa4stop\\xa8logprobs\\xc0\\xa4type\\xa2ai\\xa4name\\xc0\\xa2id\\xd9+run--f3343042-4198-45a0-9c5d-3f3f60570417-0\\xa7example\\xc2\\xaatool_calls\\x90\\xb2invalid_tool_calls\\x90\\xaeusage_metadata\\x85\\xacinput_tokens\\xcd\\tK\\xadoutput_tokens\\x17\\xactotal_tokens\\xcd\\tb\\xb3input_token_details\\x82\\xa5audio\\x00\\xaacache_read\\xcd\\t\\x00\\xb4output_token_details\\x82\\xa5audio\\x00\\xa9reasoning\\x00\\xb3model_validate_json'),\n",
       "             ('1',\n",
       "              '',\n",
       "              'branch:to:ToolCallLLM',\n",
       "              '00000000000000000000000000000008.0.5436791082094784'): ('empty',\n",
       "              b'')})"
      ]
     },
     "execution_count": 140,
     "metadata": {},
     "output_type": "execute_result"
    }
   ],
   "source": [
    "## check how exactly the context is stored in the memory.\n",
    "memory.blobs"
   ]
  },
  {
   "cell_type": "markdown",
   "id": "37bf298c",
   "metadata": {},
   "source": [
    "### 1.5 Streaming in Langchain"
   ]
  },
  {
   "cell_type": "code",
   "execution_count": 141,
   "id": "b6c98edc",
   "metadata": {},
   "outputs": [],
   "source": [
    "streaming_memory = MemorySaver()"
   ]
  },
  {
   "cell_type": "code",
   "execution_count": 142,
   "id": "ab20ba79",
   "metadata": {},
   "outputs": [],
   "source": [
    "def superbot(state:State):\n",
    "    return {\"messages\": [llm_with_tools.invoke(state['messages'])]}"
   ]
  },
  {
   "cell_type": "code",
   "execution_count": 143,
   "id": "334a42f2",
   "metadata": {},
   "outputs": [],
   "source": [
    "streaming_graph = StateGraph(State)\n",
    "\n",
    "# node\n",
    "streaming_graph.add_node(\"SuperBot\", superbot)\n",
    "\n",
    "# edges\n",
    "streaming_graph.add_edge(START, \"SuperBot\")\n",
    "streaming_graph.add_edge(\"SuperBot\", END)\n",
    "\n",
    "compiled_streaming_graph = streaming_graph.compile(checkpointer=streaming_memory)"
   ]
  },
  {
   "cell_type": "code",
   "execution_count": 144,
   "id": "416748df",
   "metadata": {},
   "outputs": [
    {
     "data": {
      "image/png": "[encoded data removed]",
      "text/plain": [
       "<langgraph.graph.state.CompiledStateGraph object at 0x000001F366890530>"
      ]
     },
     "execution_count": 144,
     "metadata": {},
     "output_type": "execute_result"
    }
   ],
   "source": [
    "compiled_streaming_graph"
   ]
  },
  {
   "cell_type": "code",
   "execution_count": 145,
   "id": "9c9a1847",
   "metadata": {},
   "outputs": [],
   "source": [
    "# define config\n",
    "streaming_config = {\"configurable\": {\"thread_id\": \"1\"}}"
   ]
  },
  {
   "cell_type": "code",
   "execution_count": 146,
   "id": "3e9a5694",
   "metadata": {},
   "outputs": [
    {
     "data": {
      "text/plain": [
       "{'messages': [HumanMessage(content='Hi, My name is AJ and I am a GenAI Engineer.', additional_kwargs={}, response_metadata={}, id='70edeb06-bd5a-4bbd-bb3d-acb534870c32'),\n",
       "  AIMessage(content=\"Hello AJ! It's great to meet a fellow enthusiast in the field of Generative AI. How can I assist you today?\", additional_kwargs={'refusal': None}, response_metadata={'token_usage': {'completion_tokens': 26, 'prompt_tokens': 1319, 'total_tokens': 1345, 'completion_tokens_details': {'accepted_prediction_tokens': 0, 'audio_tokens': 0, 'reasoning_tokens': 0, 'rejected_prediction_tokens': 0}, 'prompt_tokens_details': {'audio_tokens': 0, 'cached_tokens': 1280}}, 'model_name': 'gpt-4o-2024-08-06', 'system_fingerprint': 'fp_df0f7b956c', 'id': 'chatcmpl-C64Gk58UUOZzitS7itLuzhPFmyw8S', 'service_tier': 'default', 'finish_reason': 'stop', 'logprobs': None}, id='run--45090fd2-cced-40be-9766-4754c7659766-0', usage_metadata={'input_tokens': 1319, 'output_tokens': 26, 'total_tokens': 1345, 'input_token_details': {'audio': 0, 'cache_read': 1280}, 'output_token_details': {'audio': 0, 'reasoning': 0}})]}"
      ]
     },
     "execution_count": 146,
     "metadata": {},
     "output_type": "execute_result"
    }
   ],
   "source": [
    "compiled_streaming_graph.invoke({\"messages\": \"Hi, My name is AJ and I am a GenAI Engineer.\"}, config=streaming_config)"
   ]
  },
  {
   "cell_type": "markdown",
   "id": "41a5a160",
   "metadata": {},
   "source": [
    "##### **Streaming Methods**\n",
    "Methods: .stream() and astream()\n",
    "\n",
    "- These methods are sync and async methods for streaming back results.\n",
    "\n",
    "Additional parameters in streaming modes for graph state\n",
    "\n",
    "- **values** : This streams the full state of the graph after each node is called.\n",
    "- **updates** : This streams updates to the state of the graph after each node is called."
   ]
  },
  {
   "cell_type": "code",
   "execution_count": 147,
   "id": "1c5d8238",
   "metadata": {},
   "outputs": [
    {
     "name": "stdout",
     "output_type": "stream",
     "text": [
      "{'SuperBot': {'messages': [AIMessage(content=\"Hi AJ! It's great to meet you. As a GenAI Engineer, you must be working on some exciting projects with generative AI. If there's anything specific you'd like to discuss or explore, feel free to let me know!\", additional_kwargs={'refusal': None}, response_metadata={'token_usage': {'completion_tokens': 47, 'prompt_tokens': 1319, 'total_tokens': 1366, 'completion_tokens_details': {'accepted_prediction_tokens': 0, 'audio_tokens': 0, 'reasoning_tokens': 0, 'rejected_prediction_tokens': 0}, 'prompt_tokens_details': {'audio_tokens': 0, 'cached_tokens': 1280}}, 'model_name': 'gpt-4o-2024-08-06', 'system_fingerprint': 'fp_df0f7b956c', 'id': 'chatcmpl-C64GlTdYrLP0WsRj7UuW2TALqc9eU', 'service_tier': 'default', 'finish_reason': 'stop', 'logprobs': None}, id='run--c1c662b0-df77-4bf1-afa3-a0fb32d37612-0', usage_metadata={'input_tokens': 1319, 'output_tokens': 47, 'total_tokens': 1366, 'input_token_details': {'audio': 0, 'cache_read': 1280}, 'output_token_details': {'audio': 0, 'reasoning': 0}})]}}\n"
     ]
    }
   ],
   "source": [
    "# define config\n",
    "streaming_config1 = {\"configurable\": {\"thread_id\": \"2\"}}\n",
    "\n",
    "for chunk in compiled_streaming_graph.stream({\"messages\": \"Hi, My name is AJ and I am a GenAI Engineer.\"}, config=streaming_config1, stream_mode=\"updates\"):\n",
    "    print(chunk)"
   ]
  },
  {
   "cell_type": "code",
   "execution_count": 148,
   "id": "cf5d2d40",
   "metadata": {},
   "outputs": [
    {
     "name": "stdout",
     "output_type": "stream",
     "text": [
      "{'messages': [HumanMessage(content='Hi, My name is AJ and I am a GenAI Engineer.', additional_kwargs={}, response_metadata={}, id='6449dcd9-7688-4f21-80e6-98afe6582558'), AIMessage(content=\"Hi AJ! It's great to meet you. As a GenAI Engineer, you must be working on some exciting projects with generative AI. If there's anything specific you'd like to discuss or explore, feel free to let me know!\", additional_kwargs={'refusal': None}, response_metadata={'token_usage': {'completion_tokens': 47, 'prompt_tokens': 1319, 'total_tokens': 1366, 'completion_tokens_details': {'accepted_prediction_tokens': 0, 'audio_tokens': 0, 'reasoning_tokens': 0, 'rejected_prediction_tokens': 0}, 'prompt_tokens_details': {'audio_tokens': 0, 'cached_tokens': 1280}}, 'model_name': 'gpt-4o-2024-08-06', 'system_fingerprint': 'fp_df0f7b956c', 'id': 'chatcmpl-C64GlTdYrLP0WsRj7UuW2TALqc9eU', 'service_tier': 'default', 'finish_reason': 'stop', 'logprobs': None}, id='run--c1c662b0-df77-4bf1-afa3-a0fb32d37612-0', usage_metadata={'input_tokens': 1319, 'output_tokens': 47, 'total_tokens': 1366, 'input_token_details': {'audio': 0, 'cache_read': 1280}, 'output_token_details': {'audio': 0, 'reasoning': 0}}), HumanMessage(content='Hi, My name is AJ and I am a GenAI Engineer.', additional_kwargs={}, response_metadata={}, id='270b4d06-990e-4ed7-9f9d-44d8c8d37447')]}\n",
      "{'messages': [HumanMessage(content='Hi, My name is AJ and I am a GenAI Engineer.', additional_kwargs={}, response_metadata={}, id='6449dcd9-7688-4f21-80e6-98afe6582558'), AIMessage(content=\"Hi AJ! It's great to meet you. As a GenAI Engineer, you must be working on some exciting projects with generative AI. If there's anything specific you'd like to discuss or explore, feel free to let me know!\", additional_kwargs={'refusal': None}, response_metadata={'token_usage': {'completion_tokens': 47, 'prompt_tokens': 1319, 'total_tokens': 1366, 'completion_tokens_details': {'accepted_prediction_tokens': 0, 'audio_tokens': 0, 'reasoning_tokens': 0, 'rejected_prediction_tokens': 0}, 'prompt_tokens_details': {'audio_tokens': 0, 'cached_tokens': 1280}}, 'model_name': 'gpt-4o-2024-08-06', 'system_fingerprint': 'fp_df0f7b956c', 'id': 'chatcmpl-C64GlTdYrLP0WsRj7UuW2TALqc9eU', 'service_tier': 'default', 'finish_reason': 'stop', 'logprobs': None}, id='run--c1c662b0-df77-4bf1-afa3-a0fb32d37612-0', usage_metadata={'input_tokens': 1319, 'output_tokens': 47, 'total_tokens': 1366, 'input_token_details': {'audio': 0, 'cache_read': 1280}, 'output_token_details': {'audio': 0, 'reasoning': 0}}), HumanMessage(content='Hi, My name is AJ and I am a GenAI Engineer.', additional_kwargs={}, response_metadata={}, id='270b4d06-990e-4ed7-9f9d-44d8c8d37447'), AIMessage(content=\"Hi AJ! It's great to meet you. If you have any questions or topics you'd like to explore related to generative AI or anything else, feel free to share. I'm here to help!\", additional_kwargs={'refusal': None}, response_metadata={'token_usage': {'completion_tokens': 40, 'prompt_tokens': 1387, 'total_tokens': 1427, 'completion_tokens_details': {'accepted_prediction_tokens': 0, 'audio_tokens': 0, 'reasoning_tokens': 0, 'rejected_prediction_tokens': 0}, 'prompt_tokens_details': {'audio_tokens': 0, 'cached_tokens': 1280}}, 'model_name': 'gpt-4o-2024-08-06', 'system_fingerprint': 'fp_df0f7b956c', 'id': 'chatcmpl-C64GmRzWXr1Yp32Ho72Hs5PyVjqlf', 'service_tier': 'default', 'finish_reason': 'stop', 'logprobs': None}, id='run--90225710-5156-4706-a607-c15d3f84f2eb-0', usage_metadata={'input_tokens': 1387, 'output_tokens': 40, 'total_tokens': 1427, 'input_token_details': {'audio': 0, 'cache_read': 1280}, 'output_token_details': {'audio': 0, 'reasoning': 0}})]}\n"
     ]
    }
   ],
   "source": [
    "for chunk in compiled_streaming_graph.stream({\"messages\": \"Hi, My name is AJ and I am a GenAI Engineer.\"}, config=streaming_config1, stream_mode=\"values\"):\n",
    "    print(chunk)"
   ]
  },
  {
   "cell_type": "code",
   "execution_count": 149,
   "id": "69a506aa",
   "metadata": {},
   "outputs": [
    {
     "name": "stdout",
     "output_type": "stream",
     "text": [
      "{'SuperBot': {'messages': [AIMessage(content=\"Hello AJ! It's great to meet you. As a GenAI Engineer, you must be working on some exciting projects involving generative AI technologies. If you have any questions or need assistance with anything, feel free to ask!\", additional_kwargs={'refusal': None}, response_metadata={'token_usage': {'completion_tokens': 46, 'prompt_tokens': 1319, 'total_tokens': 1365, 'completion_tokens_details': {'accepted_prediction_tokens': 0, 'audio_tokens': 0, 'reasoning_tokens': 0, 'rejected_prediction_tokens': 0}, 'prompt_tokens_details': {'audio_tokens': 0, 'cached_tokens': 1280}}, 'model_name': 'gpt-4o-2024-08-06', 'system_fingerprint': 'fp_df0f7b956c', 'id': 'chatcmpl-C64Gn4Y3Ux5OUpFugMui0j4GvTz3Q', 'service_tier': 'default', 'finish_reason': 'stop', 'logprobs': None}, id='run--25ef2b9f-6836-4e35-a3bd-e971b67c9340-0', usage_metadata={'input_tokens': 1319, 'output_tokens': 46, 'total_tokens': 1365, 'input_token_details': {'audio': 0, 'cache_read': 1280}, 'output_token_details': {'audio': 0, 'reasoning': 0}})]}}\n"
     ]
    }
   ],
   "source": [
    "# define config\n",
    "streaming_config2 = {\"configurable\": {\"thread_id\": \"4\"}}\n",
    "\n",
    "for chunk in compiled_streaming_graph.stream({\"messages\": \"Hi, My name is AJ and I am a GenAI Engineer.\"}, config=streaming_config2, stream_mode=\"updates\"):\n",
    "    print(chunk)"
   ]
  },
  {
   "cell_type": "code",
   "execution_count": 150,
   "id": "02325834",
   "metadata": {},
   "outputs": [
    {
     "name": "stdout",
     "output_type": "stream",
     "text": [
      "{'messages': [HumanMessage(content='Hi, My name is AJ and I am a GenAI Engineer.', additional_kwargs={}, response_metadata={}, id='f12057ea-fff6-4348-b9d3-52c1fc92c655'), AIMessage(content=\"Hello AJ! It's great to meet you. As a GenAI Engineer, you must be working on some exciting projects involving generative AI technologies. If you have any questions or need assistance with anything, feel free to ask!\", additional_kwargs={'refusal': None}, response_metadata={'token_usage': {'completion_tokens': 46, 'prompt_tokens': 1319, 'total_tokens': 1365, 'completion_tokens_details': {'accepted_prediction_tokens': 0, 'audio_tokens': 0, 'reasoning_tokens': 0, 'rejected_prediction_tokens': 0}, 'prompt_tokens_details': {'audio_tokens': 0, 'cached_tokens': 1280}}, 'model_name': 'gpt-4o-2024-08-06', 'system_fingerprint': 'fp_df0f7b956c', 'id': 'chatcmpl-C64Gn4Y3Ux5OUpFugMui0j4GvTz3Q', 'service_tier': 'default', 'finish_reason': 'stop', 'logprobs': None}, id='run--25ef2b9f-6836-4e35-a3bd-e971b67c9340-0', usage_metadata={'input_tokens': 1319, 'output_tokens': 46, 'total_tokens': 1365, 'input_token_details': {'audio': 0, 'cache_read': 1280}, 'output_token_details': {'audio': 0, 'reasoning': 0}}), HumanMessage(content='I also like Indian Classical Music.', additional_kwargs={}, response_metadata={}, id='cc51b1df-88d8-4400-81d1-7bd890bab9c7')]}\n",
      "{'messages': [HumanMessage(content='Hi, My name is AJ and I am a GenAI Engineer.', additional_kwargs={}, response_metadata={}, id='f12057ea-fff6-4348-b9d3-52c1fc92c655'), AIMessage(content=\"Hello AJ! It's great to meet you. As a GenAI Engineer, you must be working on some exciting projects involving generative AI technologies. If you have any questions or need assistance with anything, feel free to ask!\", additional_kwargs={'refusal': None}, response_metadata={'token_usage': {'completion_tokens': 46, 'prompt_tokens': 1319, 'total_tokens': 1365, 'completion_tokens_details': {'accepted_prediction_tokens': 0, 'audio_tokens': 0, 'reasoning_tokens': 0, 'rejected_prediction_tokens': 0}, 'prompt_tokens_details': {'audio_tokens': 0, 'cached_tokens': 1280}}, 'model_name': 'gpt-4o-2024-08-06', 'system_fingerprint': 'fp_df0f7b956c', 'id': 'chatcmpl-C64Gn4Y3Ux5OUpFugMui0j4GvTz3Q', 'service_tier': 'default', 'finish_reason': 'stop', 'logprobs': None}, id='run--25ef2b9f-6836-4e35-a3bd-e971b67c9340-0', usage_metadata={'input_tokens': 1319, 'output_tokens': 46, 'total_tokens': 1365, 'input_token_details': {'audio': 0, 'cache_read': 1280}, 'output_token_details': {'audio': 0, 'reasoning': 0}}), HumanMessage(content='I also like Indian Classical Music.', additional_kwargs={}, response_metadata={}, id='cc51b1df-88d8-4400-81d1-7bd890bab9c7'), AIMessage(content=\"That's wonderful! Indian Classical Music is a rich and intricate tradition with a history that spans thousands of years. Whether it's the soulful renditions of Hindustani classical music from the North or the rhythmic complexities of Carnatic music from the South, there's so much to explore and appreciate. Do you have any favorite ragas, artists, or instruments that you enjoy?\", additional_kwargs={'refusal': None}, response_metadata={'token_usage': {'completion_tokens': 73, 'prompt_tokens': 1379, 'total_tokens': 1452, 'completion_tokens_details': {'accepted_prediction_tokens': 0, 'audio_tokens': 0, 'reasoning_tokens': 0, 'rejected_prediction_tokens': 0}, 'prompt_tokens_details': {'audio_tokens': 0, 'cached_tokens': 1280}}, 'model_name': 'gpt-4o-2024-08-06', 'system_fingerprint': 'fp_df0f7b956c', 'id': 'chatcmpl-C64GnQIFz5EJi4RjERSPt5wGggDaL', 'service_tier': 'default', 'finish_reason': 'stop', 'logprobs': None}, id='run--f16aa16a-d585-4925-a9bc-7322437340f2-0', usage_metadata={'input_tokens': 1379, 'output_tokens': 73, 'total_tokens': 1452, 'input_token_details': {'audio': 0, 'cache_read': 1280}, 'output_token_details': {'audio': 0, 'reasoning': 0}})]}\n"
     ]
    }
   ],
   "source": [
    "\n",
    "for chunk in compiled_streaming_graph.stream({\"messages\": \"I also like Indian Classical Music.\"}, config=streaming_config2, stream_mode=\"values\"):\n",
    "    print(chunk)"
   ]
  },
  {
   "cell_type": "code",
   "execution_count": 151,
   "id": "65703a1f",
   "metadata": {},
   "outputs": [
    {
     "name": "stdout",
     "output_type": "stream",
     "text": [
      "{'event': 'on_chain_start', 'run_id': '4c8b9eaf-3733-4b3f-9a5b-08d3994c1a9c', 'name': 'LangGraph', 'tags': [], 'metadata': {'thread_id': '5'}, 'data': {'input': {'messages': 'Hi, My name is AJ and I am a GenAI Engineer.'}}, 'parent_ids': []}\n",
      "{'event': 'on_chain_start', 'name': 'SuperBot', 'run_id': '5b3e2134-1394-4ac0-9b8f-3879fe0886a5', 'tags': ['graph:step:1'], 'metadata': {'thread_id': '5', 'langgraph_step': 1, 'langgraph_node': 'SuperBot', 'langgraph_triggers': ('branch:to:SuperBot',), 'langgraph_path': ('__pregel_pull', 'SuperBot'), 'langgraph_checkpoint_ns': 'SuperBot:dafb0764-5979-4b13-2110-76f10f4218fd'}, 'data': {'input': {'messages': [HumanMessage(content='Hi, My name is AJ and I am a GenAI Engineer.', additional_kwargs={}, response_metadata={}, id='76ee3a58-1efc-429f-bac7-135531ae2433')]}}, 'parent_ids': []}\n",
      "{'event': 'on_chat_model_start', 'name': 'ChatOpenAI', 'run_id': 'ca65b2f0-b162-4268-bb5e-4f57aabd94c4', 'tags': ['seq:step:1'], 'metadata': {'thread_id': '5', 'langgraph_step': 1, 'langgraph_node': 'SuperBot', 'langgraph_triggers': ('branch:to:SuperBot',), 'langgraph_path': ('__pregel_pull', 'SuperBot'), 'langgraph_checkpoint_ns': 'SuperBot:dafb0764-5979-4b13-2110-76f10f4218fd', 'checkpoint_ns': 'SuperBot:dafb0764-5979-4b13-2110-76f10f4218fd', 'ls_provider': 'openai', 'ls_model_name': 'gpt-4o', 'ls_model_type': 'chat', 'ls_temperature': None}, 'data': {'input': {'messages': [[HumanMessage(content='Hi, My name is AJ and I am a GenAI Engineer.', additional_kwargs={}, response_metadata={}, id='76ee3a58-1efc-429f-bac7-135531ae2433')]]}}, 'parent_ids': []}\n",
      "{'event': 'on_chat_model_stream', 'name': 'ChatOpenAI', 'run_id': 'ca65b2f0-b162-4268-bb5e-4f57aabd94c4', 'tags': ['seq:step:1'], 'metadata': {'thread_id': '5', 'langgraph_step': 1, 'langgraph_node': 'SuperBot', 'langgraph_triggers': ('branch:to:SuperBot',), 'langgraph_path': ('__pregel_pull', 'SuperBot'), 'langgraph_checkpoint_ns': 'SuperBot:dafb0764-5979-4b13-2110-76f10f4218fd', 'checkpoint_ns': 'SuperBot:dafb0764-5979-4b13-2110-76f10f4218fd', 'ls_provider': 'openai', 'ls_model_name': 'gpt-4o', 'ls_model_type': 'chat', 'ls_temperature': None}, 'data': {'chunk': AIMessageChunk(content='', additional_kwargs={}, response_metadata={}, id='run--ca65b2f0-b162-4268-bb5e-4f57aabd94c4')}, 'parent_ids': []}\n",
      "{'event': 'on_chat_model_stream', 'name': 'ChatOpenAI', 'run_id': 'ca65b2f0-b162-4268-bb5e-4f57aabd94c4', 'tags': ['seq:step:1'], 'metadata': {'thread_id': '5', 'langgraph_step': 1, 'langgraph_node': 'SuperBot', 'langgraph_triggers': ('branch:to:SuperBot',), 'langgraph_path': ('__pregel_pull', 'SuperBot'), 'langgraph_checkpoint_ns': 'SuperBot:dafb0764-5979-4b13-2110-76f10f4218fd', 'checkpoint_ns': 'SuperBot:dafb0764-5979-4b13-2110-76f10f4218fd', 'ls_provider': 'openai', 'ls_model_name': 'gpt-4o', 'ls_model_type': 'chat', 'ls_temperature': None}, 'data': {'chunk': AIMessageChunk(content='Hello', additional_kwargs={}, response_metadata={}, id='run--ca65b2f0-b162-4268-bb5e-4f57aabd94c4')}, 'parent_ids': []}\n",
      "{'event': 'on_chat_model_stream', 'name': 'ChatOpenAI', 'run_id': 'ca65b2f0-b162-4268-bb5e-4f57aabd94c4', 'tags': ['seq:step:1'], 'metadata': {'thread_id': '5', 'langgraph_step': 1, 'langgraph_node': 'SuperBot', 'langgraph_triggers': ('branch:to:SuperBot',), 'langgraph_path': ('__pregel_pull', 'SuperBot'), 'langgraph_checkpoint_ns': 'SuperBot:dafb0764-5979-4b13-2110-76f10f4218fd', 'checkpoint_ns': 'SuperBot:dafb0764-5979-4b13-2110-76f10f4218fd', 'ls_provider': 'openai', 'ls_model_name': 'gpt-4o', 'ls_model_type': 'chat', 'ls_temperature': None}, 'data': {'chunk': AIMessageChunk(content=' AJ', additional_kwargs={}, response_metadata={}, id='run--ca65b2f0-b162-4268-bb5e-4f57aabd94c4')}, 'parent_ids': []}\n",
      "{'event': 'on_chat_model_stream', 'name': 'ChatOpenAI', 'run_id': 'ca65b2f0-b162-4268-bb5e-4f57aabd94c4', 'tags': ['seq:step:1'], 'metadata': {'thread_id': '5', 'langgraph_step': 1, 'langgraph_node': 'SuperBot', 'langgraph_triggers': ('branch:to:SuperBot',), 'langgraph_path': ('__pregel_pull', 'SuperBot'), 'langgraph_checkpoint_ns': 'SuperBot:dafb0764-5979-4b13-2110-76f10f4218fd', 'checkpoint_ns': 'SuperBot:dafb0764-5979-4b13-2110-76f10f4218fd', 'ls_provider': 'openai', 'ls_model_name': 'gpt-4o', 'ls_model_type': 'chat', 'ls_temperature': None}, 'data': {'chunk': AIMessageChunk(content='!', additional_kwargs={}, response_metadata={}, id='run--ca65b2f0-b162-4268-bb5e-4f57aabd94c4')}, 'parent_ids': []}\n",
      "{'event': 'on_chat_model_stream', 'name': 'ChatOpenAI', 'run_id': 'ca65b2f0-b162-4268-bb5e-4f57aabd94c4', 'tags': ['seq:step:1'], 'metadata': {'thread_id': '5', 'langgraph_step': 1, 'langgraph_node': 'SuperBot', 'langgraph_triggers': ('branch:to:SuperBot',), 'langgraph_path': ('__pregel_pull', 'SuperBot'), 'langgraph_checkpoint_ns': 'SuperBot:dafb0764-5979-4b13-2110-76f10f4218fd', 'checkpoint_ns': 'SuperBot:dafb0764-5979-4b13-2110-76f10f4218fd', 'ls_provider': 'openai', 'ls_model_name': 'gpt-4o', 'ls_model_type': 'chat', 'ls_temperature': None}, 'data': {'chunk': AIMessageChunk(content=\" It's\", additional_kwargs={}, response_metadata={}, id='run--ca65b2f0-b162-4268-bb5e-4f57aabd94c4')}, 'parent_ids': []}\n",
      "{'event': 'on_chat_model_stream', 'name': 'ChatOpenAI', 'run_id': 'ca65b2f0-b162-4268-bb5e-4f57aabd94c4', 'tags': ['seq:step:1'], 'metadata': {'thread_id': '5', 'langgraph_step': 1, 'langgraph_node': 'SuperBot', 'langgraph_triggers': ('branch:to:SuperBot',), 'langgraph_path': ('__pregel_pull', 'SuperBot'), 'langgraph_checkpoint_ns': 'SuperBot:dafb0764-5979-4b13-2110-76f10f4218fd', 'checkpoint_ns': 'SuperBot:dafb0764-5979-4b13-2110-76f10f4218fd', 'ls_provider': 'openai', 'ls_model_name': 'gpt-4o', 'ls_model_type': 'chat', 'ls_temperature': None}, 'data': {'chunk': AIMessageChunk(content=' great', additional_kwargs={}, response_metadata={}, id='run--ca65b2f0-b162-4268-bb5e-4f57aabd94c4')}, 'parent_ids': []}\n",
      "{'event': 'on_chat_model_stream', 'name': 'ChatOpenAI', 'run_id': 'ca65b2f0-b162-4268-bb5e-4f57aabd94c4', 'tags': ['seq:step:1'], 'metadata': {'thread_id': '5', 'langgraph_step': 1, 'langgraph_node': 'SuperBot', 'langgraph_triggers': ('branch:to:SuperBot',), 'langgraph_path': ('__pregel_pull', 'SuperBot'), 'langgraph_checkpoint_ns': 'SuperBot:dafb0764-5979-4b13-2110-76f10f4218fd', 'checkpoint_ns': 'SuperBot:dafb0764-5979-4b13-2110-76f10f4218fd', 'ls_provider': 'openai', 'ls_model_name': 'gpt-4o', 'ls_model_type': 'chat', 'ls_temperature': None}, 'data': {'chunk': AIMessageChunk(content=' to', additional_kwargs={}, response_metadata={}, id='run--ca65b2f0-b162-4268-bb5e-4f57aabd94c4')}, 'parent_ids': []}\n",
      "{'event': 'on_chat_model_stream', 'name': 'ChatOpenAI', 'run_id': 'ca65b2f0-b162-4268-bb5e-4f57aabd94c4', 'tags': ['seq:step:1'], 'metadata': {'thread_id': '5', 'langgraph_step': 1, 'langgraph_node': 'SuperBot', 'langgraph_triggers': ('branch:to:SuperBot',), 'langgraph_path': ('__pregel_pull', 'SuperBot'), 'langgraph_checkpoint_ns': 'SuperBot:dafb0764-5979-4b13-2110-76f10f4218fd', 'checkpoint_ns': 'SuperBot:dafb0764-5979-4b13-2110-76f10f4218fd', 'ls_provider': 'openai', 'ls_model_name': 'gpt-4o', 'ls_model_type': 'chat', 'ls_temperature': None}, 'data': {'chunk': AIMessageChunk(content=' meet', additional_kwargs={}, response_metadata={}, id='run--ca65b2f0-b162-4268-bb5e-4f57aabd94c4')}, 'parent_ids': []}\n",
      "{'event': 'on_chat_model_stream', 'name': 'ChatOpenAI', 'run_id': 'ca65b2f0-b162-4268-bb5e-4f57aabd94c4', 'tags': ['seq:step:1'], 'metadata': {'thread_id': '5', 'langgraph_step': 1, 'langgraph_node': 'SuperBot', 'langgraph_triggers': ('branch:to:SuperBot',), 'langgraph_path': ('__pregel_pull', 'SuperBot'), 'langgraph_checkpoint_ns': 'SuperBot:dafb0764-5979-4b13-2110-76f10f4218fd', 'checkpoint_ns': 'SuperBot:dafb0764-5979-4b13-2110-76f10f4218fd', 'ls_provider': 'openai', 'ls_model_name': 'gpt-4o', 'ls_model_type': 'chat', 'ls_temperature': None}, 'data': {'chunk': AIMessageChunk(content=' you', additional_kwargs={}, response_metadata={}, id='run--ca65b2f0-b162-4268-bb5e-4f57aabd94c4')}, 'parent_ids': []}\n",
      "{'event': 'on_chat_model_stream', 'name': 'ChatOpenAI', 'run_id': 'ca65b2f0-b162-4268-bb5e-4f57aabd94c4', 'tags': ['seq:step:1'], 'metadata': {'thread_id': '5', 'langgraph_step': 1, 'langgraph_node': 'SuperBot', 'langgraph_triggers': ('branch:to:SuperBot',), 'langgraph_path': ('__pregel_pull', 'SuperBot'), 'langgraph_checkpoint_ns': 'SuperBot:dafb0764-5979-4b13-2110-76f10f4218fd', 'checkpoint_ns': 'SuperBot:dafb0764-5979-4b13-2110-76f10f4218fd', 'ls_provider': 'openai', 'ls_model_name': 'gpt-4o', 'ls_model_type': 'chat', 'ls_temperature': None}, 'data': {'chunk': AIMessageChunk(content='.', additional_kwargs={}, response_metadata={}, id='run--ca65b2f0-b162-4268-bb5e-4f57aabd94c4')}, 'parent_ids': []}\n",
      "{'event': 'on_chat_model_stream', 'name': 'ChatOpenAI', 'run_id': 'ca65b2f0-b162-4268-bb5e-4f57aabd94c4', 'tags': ['seq:step:1'], 'metadata': {'thread_id': '5', 'langgraph_step': 1, 'langgraph_node': 'SuperBot', 'langgraph_triggers': ('branch:to:SuperBot',), 'langgraph_path': ('__pregel_pull', 'SuperBot'), 'langgraph_checkpoint_ns': 'SuperBot:dafb0764-5979-4b13-2110-76f10f4218fd', 'checkpoint_ns': 'SuperBot:dafb0764-5979-4b13-2110-76f10f4218fd', 'ls_provider': 'openai', 'ls_model_name': 'gpt-4o', 'ls_model_type': 'chat', 'ls_temperature': None}, 'data': {'chunk': AIMessageChunk(content=' Being', additional_kwargs={}, response_metadata={}, id='run--ca65b2f0-b162-4268-bb5e-4f57aabd94c4')}, 'parent_ids': []}\n",
      "{'event': 'on_chat_model_stream', 'name': 'ChatOpenAI', 'run_id': 'ca65b2f0-b162-4268-bb5e-4f57aabd94c4', 'tags': ['seq:step:1'], 'metadata': {'thread_id': '5', 'langgraph_step': 1, 'langgraph_node': 'SuperBot', 'langgraph_triggers': ('branch:to:SuperBot',), 'langgraph_path': ('__pregel_pull', 'SuperBot'), 'langgraph_checkpoint_ns': 'SuperBot:dafb0764-5979-4b13-2110-76f10f4218fd', 'checkpoint_ns': 'SuperBot:dafb0764-5979-4b13-2110-76f10f4218fd', 'ls_provider': 'openai', 'ls_model_name': 'gpt-4o', 'ls_model_type': 'chat', 'ls_temperature': None}, 'data': {'chunk': AIMessageChunk(content=' a', additional_kwargs={}, response_metadata={}, id='run--ca65b2f0-b162-4268-bb5e-4f57aabd94c4')}, 'parent_ids': []}\n",
      "{'event': 'on_chat_model_stream', 'name': 'ChatOpenAI', 'run_id': 'ca65b2f0-b162-4268-bb5e-4f57aabd94c4', 'tags': ['seq:step:1'], 'metadata': {'thread_id': '5', 'langgraph_step': 1, 'langgraph_node': 'SuperBot', 'langgraph_triggers': ('branch:to:SuperBot',), 'langgraph_path': ('__pregel_pull', 'SuperBot'), 'langgraph_checkpoint_ns': 'SuperBot:dafb0764-5979-4b13-2110-76f10f4218fd', 'checkpoint_ns': 'SuperBot:dafb0764-5979-4b13-2110-76f10f4218fd', 'ls_provider': 'openai', 'ls_model_name': 'gpt-4o', 'ls_model_type': 'chat', 'ls_temperature': None}, 'data': {'chunk': AIMessageChunk(content=' Gen', additional_kwargs={}, response_metadata={}, id='run--ca65b2f0-b162-4268-bb5e-4f57aabd94c4')}, 'parent_ids': []}\n",
      "{'event': 'on_chat_model_stream', 'name': 'ChatOpenAI', 'run_id': 'ca65b2f0-b162-4268-bb5e-4f57aabd94c4', 'tags': ['seq:step:1'], 'metadata': {'thread_id': '5', 'langgraph_step': 1, 'langgraph_node': 'SuperBot', 'langgraph_triggers': ('branch:to:SuperBot',), 'langgraph_path': ('__pregel_pull', 'SuperBot'), 'langgraph_checkpoint_ns': 'SuperBot:dafb0764-5979-4b13-2110-76f10f4218fd', 'checkpoint_ns': 'SuperBot:dafb0764-5979-4b13-2110-76f10f4218fd', 'ls_provider': 'openai', 'ls_model_name': 'gpt-4o', 'ls_model_type': 'chat', 'ls_temperature': None}, 'data': {'chunk': AIMessageChunk(content='AI', additional_kwargs={}, response_metadata={}, id='run--ca65b2f0-b162-4268-bb5e-4f57aabd94c4')}, 'parent_ids': []}\n",
      "{'event': 'on_chat_model_stream', 'name': 'ChatOpenAI', 'run_id': 'ca65b2f0-b162-4268-bb5e-4f57aabd94c4', 'tags': ['seq:step:1'], 'metadata': {'thread_id': '5', 'langgraph_step': 1, 'langgraph_node': 'SuperBot', 'langgraph_triggers': ('branch:to:SuperBot',), 'langgraph_path': ('__pregel_pull', 'SuperBot'), 'langgraph_checkpoint_ns': 'SuperBot:dafb0764-5979-4b13-2110-76f10f4218fd', 'checkpoint_ns': 'SuperBot:dafb0764-5979-4b13-2110-76f10f4218fd', 'ls_provider': 'openai', 'ls_model_name': 'gpt-4o', 'ls_model_type': 'chat', 'ls_temperature': None}, 'data': {'chunk': AIMessageChunk(content=' Engineer', additional_kwargs={}, response_metadata={}, id='run--ca65b2f0-b162-4268-bb5e-4f57aabd94c4')}, 'parent_ids': []}\n",
      "{'event': 'on_chat_model_stream', 'name': 'ChatOpenAI', 'run_id': 'ca65b2f0-b162-4268-bb5e-4f57aabd94c4', 'tags': ['seq:step:1'], 'metadata': {'thread_id': '5', 'langgraph_step': 1, 'langgraph_node': 'SuperBot', 'langgraph_triggers': ('branch:to:SuperBot',), 'langgraph_path': ('__pregel_pull', 'SuperBot'), 'langgraph_checkpoint_ns': 'SuperBot:dafb0764-5979-4b13-2110-76f10f4218fd', 'checkpoint_ns': 'SuperBot:dafb0764-5979-4b13-2110-76f10f4218fd', 'ls_provider': 'openai', 'ls_model_name': 'gpt-4o', 'ls_model_type': 'chat', 'ls_temperature': None}, 'data': {'chunk': AIMessageChunk(content=' sounds', additional_kwargs={}, response_metadata={}, id='run--ca65b2f0-b162-4268-bb5e-4f57aabd94c4')}, 'parent_ids': []}\n",
      "{'event': 'on_chat_model_stream', 'name': 'ChatOpenAI', 'run_id': 'ca65b2f0-b162-4268-bb5e-4f57aabd94c4', 'tags': ['seq:step:1'], 'metadata': {'thread_id': '5', 'langgraph_step': 1, 'langgraph_node': 'SuperBot', 'langgraph_triggers': ('branch:to:SuperBot',), 'langgraph_path': ('__pregel_pull', 'SuperBot'), 'langgraph_checkpoint_ns': 'SuperBot:dafb0764-5979-4b13-2110-76f10f4218fd', 'checkpoint_ns': 'SuperBot:dafb0764-5979-4b13-2110-76f10f4218fd', 'ls_provider': 'openai', 'ls_model_name': 'gpt-4o', 'ls_model_type': 'chat', 'ls_temperature': None}, 'data': {'chunk': AIMessageChunk(content=' fascinating', additional_kwargs={}, response_metadata={}, id='run--ca65b2f0-b162-4268-bb5e-4f57aabd94c4')}, 'parent_ids': []}\n",
      "{'event': 'on_chat_model_stream', 'name': 'ChatOpenAI', 'run_id': 'ca65b2f0-b162-4268-bb5e-4f57aabd94c4', 'tags': ['seq:step:1'], 'metadata': {'thread_id': '5', 'langgraph_step': 1, 'langgraph_node': 'SuperBot', 'langgraph_triggers': ('branch:to:SuperBot',), 'langgraph_path': ('__pregel_pull', 'SuperBot'), 'langgraph_checkpoint_ns': 'SuperBot:dafb0764-5979-4b13-2110-76f10f4218fd', 'checkpoint_ns': 'SuperBot:dafb0764-5979-4b13-2110-76f10f4218fd', 'ls_provider': 'openai', 'ls_model_name': 'gpt-4o', 'ls_model_type': 'chat', 'ls_temperature': None}, 'data': {'chunk': AIMessageChunk(content='.', additional_kwargs={}, response_metadata={}, id='run--ca65b2f0-b162-4268-bb5e-4f57aabd94c4')}, 'parent_ids': []}\n",
      "{'event': 'on_chat_model_stream', 'name': 'ChatOpenAI', 'run_id': 'ca65b2f0-b162-4268-bb5e-4f57aabd94c4', 'tags': ['seq:step:1'], 'metadata': {'thread_id': '5', 'langgraph_step': 1, 'langgraph_node': 'SuperBot', 'langgraph_triggers': ('branch:to:SuperBot',), 'langgraph_path': ('__pregel_pull', 'SuperBot'), 'langgraph_checkpoint_ns': 'SuperBot:dafb0764-5979-4b13-2110-76f10f4218fd', 'checkpoint_ns': 'SuperBot:dafb0764-5979-4b13-2110-76f10f4218fd', 'ls_provider': 'openai', 'ls_model_name': 'gpt-4o', 'ls_model_type': 'chat', 'ls_temperature': None}, 'data': {'chunk': AIMessageChunk(content=' If', additional_kwargs={}, response_metadata={}, id='run--ca65b2f0-b162-4268-bb5e-4f57aabd94c4')}, 'parent_ids': []}\n",
      "{'event': 'on_chat_model_stream', 'name': 'ChatOpenAI', 'run_id': 'ca65b2f0-b162-4268-bb5e-4f57aabd94c4', 'tags': ['seq:step:1'], 'metadata': {'thread_id': '5', 'langgraph_step': 1, 'langgraph_node': 'SuperBot', 'langgraph_triggers': ('branch:to:SuperBot',), 'langgraph_path': ('__pregel_pull', 'SuperBot'), 'langgraph_checkpoint_ns': 'SuperBot:dafb0764-5979-4b13-2110-76f10f4218fd', 'checkpoint_ns': 'SuperBot:dafb0764-5979-4b13-2110-76f10f4218fd', 'ls_provider': 'openai', 'ls_model_name': 'gpt-4o', 'ls_model_type': 'chat', 'ls_temperature': None}, 'data': {'chunk': AIMessageChunk(content=\" there's\", additional_kwargs={}, response_metadata={}, id='run--ca65b2f0-b162-4268-bb5e-4f57aabd94c4')}, 'parent_ids': []}\n",
      "{'event': 'on_chat_model_stream', 'name': 'ChatOpenAI', 'run_id': 'ca65b2f0-b162-4268-bb5e-4f57aabd94c4', 'tags': ['seq:step:1'], 'metadata': {'thread_id': '5', 'langgraph_step': 1, 'langgraph_node': 'SuperBot', 'langgraph_triggers': ('branch:to:SuperBot',), 'langgraph_path': ('__pregel_pull', 'SuperBot'), 'langgraph_checkpoint_ns': 'SuperBot:dafb0764-5979-4b13-2110-76f10f4218fd', 'checkpoint_ns': 'SuperBot:dafb0764-5979-4b13-2110-76f10f4218fd', 'ls_provider': 'openai', 'ls_model_name': 'gpt-4o', 'ls_model_type': 'chat', 'ls_temperature': None}, 'data': {'chunk': AIMessageChunk(content=' anything', additional_kwargs={}, response_metadata={}, id='run--ca65b2f0-b162-4268-bb5e-4f57aabd94c4')}, 'parent_ids': []}\n",
      "{'event': 'on_chat_model_stream', 'name': 'ChatOpenAI', 'run_id': 'ca65b2f0-b162-4268-bb5e-4f57aabd94c4', 'tags': ['seq:step:1'], 'metadata': {'thread_id': '5', 'langgraph_step': 1, 'langgraph_node': 'SuperBot', 'langgraph_triggers': ('branch:to:SuperBot',), 'langgraph_path': ('__pregel_pull', 'SuperBot'), 'langgraph_checkpoint_ns': 'SuperBot:dafb0764-5979-4b13-2110-76f10f4218fd', 'checkpoint_ns': 'SuperBot:dafb0764-5979-4b13-2110-76f10f4218fd', 'ls_provider': 'openai', 'ls_model_name': 'gpt-4o', 'ls_model_type': 'chat', 'ls_temperature': None}, 'data': {'chunk': AIMessageChunk(content=' specific', additional_kwargs={}, response_metadata={}, id='run--ca65b2f0-b162-4268-bb5e-4f57aabd94c4')}, 'parent_ids': []}\n",
      "{'event': 'on_chat_model_stream', 'name': 'ChatOpenAI', 'run_id': 'ca65b2f0-b162-4268-bb5e-4f57aabd94c4', 'tags': ['seq:step:1'], 'metadata': {'thread_id': '5', 'langgraph_step': 1, 'langgraph_node': 'SuperBot', 'langgraph_triggers': ('branch:to:SuperBot',), 'langgraph_path': ('__pregel_pull', 'SuperBot'), 'langgraph_checkpoint_ns': 'SuperBot:dafb0764-5979-4b13-2110-76f10f4218fd', 'checkpoint_ns': 'SuperBot:dafb0764-5979-4b13-2110-76f10f4218fd', 'ls_provider': 'openai', 'ls_model_name': 'gpt-4o', 'ls_model_type': 'chat', 'ls_temperature': None}, 'data': {'chunk': AIMessageChunk(content=\" you'd\", additional_kwargs={}, response_metadata={}, id='run--ca65b2f0-b162-4268-bb5e-4f57aabd94c4')}, 'parent_ids': []}\n",
      "{'event': 'on_chat_model_stream', 'name': 'ChatOpenAI', 'run_id': 'ca65b2f0-b162-4268-bb5e-4f57aabd94c4', 'tags': ['seq:step:1'], 'metadata': {'thread_id': '5', 'langgraph_step': 1, 'langgraph_node': 'SuperBot', 'langgraph_triggers': ('branch:to:SuperBot',), 'langgraph_path': ('__pregel_pull', 'SuperBot'), 'langgraph_checkpoint_ns': 'SuperBot:dafb0764-5979-4b13-2110-76f10f4218fd', 'checkpoint_ns': 'SuperBot:dafb0764-5979-4b13-2110-76f10f4218fd', 'ls_provider': 'openai', 'ls_model_name': 'gpt-4o', 'ls_model_type': 'chat', 'ls_temperature': None}, 'data': {'chunk': AIMessageChunk(content=' like', additional_kwargs={}, response_metadata={}, id='run--ca65b2f0-b162-4268-bb5e-4f57aabd94c4')}, 'parent_ids': []}\n",
      "{'event': 'on_chat_model_stream', 'name': 'ChatOpenAI', 'run_id': 'ca65b2f0-b162-4268-bb5e-4f57aabd94c4', 'tags': ['seq:step:1'], 'metadata': {'thread_id': '5', 'langgraph_step': 1, 'langgraph_node': 'SuperBot', 'langgraph_triggers': ('branch:to:SuperBot',), 'langgraph_path': ('__pregel_pull', 'SuperBot'), 'langgraph_checkpoint_ns': 'SuperBot:dafb0764-5979-4b13-2110-76f10f4218fd', 'checkpoint_ns': 'SuperBot:dafb0764-5979-4b13-2110-76f10f4218fd', 'ls_provider': 'openai', 'ls_model_name': 'gpt-4o', 'ls_model_type': 'chat', 'ls_temperature': None}, 'data': {'chunk': AIMessageChunk(content=' to', additional_kwargs={}, response_metadata={}, id='run--ca65b2f0-b162-4268-bb5e-4f57aabd94c4')}, 'parent_ids': []}\n",
      "{'event': 'on_chat_model_stream', 'name': 'ChatOpenAI', 'run_id': 'ca65b2f0-b162-4268-bb5e-4f57aabd94c4', 'tags': ['seq:step:1'], 'metadata': {'thread_id': '5', 'langgraph_step': 1, 'langgraph_node': 'SuperBot', 'langgraph_triggers': ('branch:to:SuperBot',), 'langgraph_path': ('__pregel_pull', 'SuperBot'), 'langgraph_checkpoint_ns': 'SuperBot:dafb0764-5979-4b13-2110-76f10f4218fd', 'checkpoint_ns': 'SuperBot:dafb0764-5979-4b13-2110-76f10f4218fd', 'ls_provider': 'openai', 'ls_model_name': 'gpt-4o', 'ls_model_type': 'chat', 'ls_temperature': None}, 'data': {'chunk': AIMessageChunk(content=' discuss', additional_kwargs={}, response_metadata={}, id='run--ca65b2f0-b162-4268-bb5e-4f57aabd94c4')}, 'parent_ids': []}\n",
      "{'event': 'on_chat_model_stream', 'name': 'ChatOpenAI', 'run_id': 'ca65b2f0-b162-4268-bb5e-4f57aabd94c4', 'tags': ['seq:step:1'], 'metadata': {'thread_id': '5', 'langgraph_step': 1, 'langgraph_node': 'SuperBot', 'langgraph_triggers': ('branch:to:SuperBot',), 'langgraph_path': ('__pregel_pull', 'SuperBot'), 'langgraph_checkpoint_ns': 'SuperBot:dafb0764-5979-4b13-2110-76f10f4218fd', 'checkpoint_ns': 'SuperBot:dafb0764-5979-4b13-2110-76f10f4218fd', 'ls_provider': 'openai', 'ls_model_name': 'gpt-4o', 'ls_model_type': 'chat', 'ls_temperature': None}, 'data': {'chunk': AIMessageChunk(content=',', additional_kwargs={}, response_metadata={}, id='run--ca65b2f0-b162-4268-bb5e-4f57aabd94c4')}, 'parent_ids': []}\n",
      "{'event': 'on_chat_model_stream', 'name': 'ChatOpenAI', 'run_id': 'ca65b2f0-b162-4268-bb5e-4f57aabd94c4', 'tags': ['seq:step:1'], 'metadata': {'thread_id': '5', 'langgraph_step': 1, 'langgraph_node': 'SuperBot', 'langgraph_triggers': ('branch:to:SuperBot',), 'langgraph_path': ('__pregel_pull', 'SuperBot'), 'langgraph_checkpoint_ns': 'SuperBot:dafb0764-5979-4b13-2110-76f10f4218fd', 'checkpoint_ns': 'SuperBot:dafb0764-5979-4b13-2110-76f10f4218fd', 'ls_provider': 'openai', 'ls_model_name': 'gpt-4o', 'ls_model_type': 'chat', 'ls_temperature': None}, 'data': {'chunk': AIMessageChunk(content=' explore', additional_kwargs={}, response_metadata={}, id='run--ca65b2f0-b162-4268-bb5e-4f57aabd94c4')}, 'parent_ids': []}\n",
      "{'event': 'on_chat_model_stream', 'name': 'ChatOpenAI', 'run_id': 'ca65b2f0-b162-4268-bb5e-4f57aabd94c4', 'tags': ['seq:step:1'], 'metadata': {'thread_id': '5', 'langgraph_step': 1, 'langgraph_node': 'SuperBot', 'langgraph_triggers': ('branch:to:SuperBot',), 'langgraph_path': ('__pregel_pull', 'SuperBot'), 'langgraph_checkpoint_ns': 'SuperBot:dafb0764-5979-4b13-2110-76f10f4218fd', 'checkpoint_ns': 'SuperBot:dafb0764-5979-4b13-2110-76f10f4218fd', 'ls_provider': 'openai', 'ls_model_name': 'gpt-4o', 'ls_model_type': 'chat', 'ls_temperature': None}, 'data': {'chunk': AIMessageChunk(content=',', additional_kwargs={}, response_metadata={}, id='run--ca65b2f0-b162-4268-bb5e-4f57aabd94c4')}, 'parent_ids': []}\n",
      "{'event': 'on_chat_model_stream', 'name': 'ChatOpenAI', 'run_id': 'ca65b2f0-b162-4268-bb5e-4f57aabd94c4', 'tags': ['seq:step:1'], 'metadata': {'thread_id': '5', 'langgraph_step': 1, 'langgraph_node': 'SuperBot', 'langgraph_triggers': ('branch:to:SuperBot',), 'langgraph_path': ('__pregel_pull', 'SuperBot'), 'langgraph_checkpoint_ns': 'SuperBot:dafb0764-5979-4b13-2110-76f10f4218fd', 'checkpoint_ns': 'SuperBot:dafb0764-5979-4b13-2110-76f10f4218fd', 'ls_provider': 'openai', 'ls_model_name': 'gpt-4o', 'ls_model_type': 'chat', 'ls_temperature': None}, 'data': {'chunk': AIMessageChunk(content=' or', additional_kwargs={}, response_metadata={}, id='run--ca65b2f0-b162-4268-bb5e-4f57aabd94c4')}, 'parent_ids': []}\n",
      "{'event': 'on_chat_model_stream', 'name': 'ChatOpenAI', 'run_id': 'ca65b2f0-b162-4268-bb5e-4f57aabd94c4', 'tags': ['seq:step:1'], 'metadata': {'thread_id': '5', 'langgraph_step': 1, 'langgraph_node': 'SuperBot', 'langgraph_triggers': ('branch:to:SuperBot',), 'langgraph_path': ('__pregel_pull', 'SuperBot'), 'langgraph_checkpoint_ns': 'SuperBot:dafb0764-5979-4b13-2110-76f10f4218fd', 'checkpoint_ns': 'SuperBot:dafb0764-5979-4b13-2110-76f10f4218fd', 'ls_provider': 'openai', 'ls_model_name': 'gpt-4o', 'ls_model_type': 'chat', 'ls_temperature': None}, 'data': {'chunk': AIMessageChunk(content=' need', additional_kwargs={}, response_metadata={}, id='run--ca65b2f0-b162-4268-bb5e-4f57aabd94c4')}, 'parent_ids': []}\n",
      "{'event': 'on_chat_model_stream', 'name': 'ChatOpenAI', 'run_id': 'ca65b2f0-b162-4268-bb5e-4f57aabd94c4', 'tags': ['seq:step:1'], 'metadata': {'thread_id': '5', 'langgraph_step': 1, 'langgraph_node': 'SuperBot', 'langgraph_triggers': ('branch:to:SuperBot',), 'langgraph_path': ('__pregel_pull', 'SuperBot'), 'langgraph_checkpoint_ns': 'SuperBot:dafb0764-5979-4b13-2110-76f10f4218fd', 'checkpoint_ns': 'SuperBot:dafb0764-5979-4b13-2110-76f10f4218fd', 'ls_provider': 'openai', 'ls_model_name': 'gpt-4o', 'ls_model_type': 'chat', 'ls_temperature': None}, 'data': {'chunk': AIMessageChunk(content=' help', additional_kwargs={}, response_metadata={}, id='run--ca65b2f0-b162-4268-bb5e-4f57aabd94c4')}, 'parent_ids': []}\n",
      "{'event': 'on_chat_model_stream', 'name': 'ChatOpenAI', 'run_id': 'ca65b2f0-b162-4268-bb5e-4f57aabd94c4', 'tags': ['seq:step:1'], 'metadata': {'thread_id': '5', 'langgraph_step': 1, 'langgraph_node': 'SuperBot', 'langgraph_triggers': ('branch:to:SuperBot',), 'langgraph_path': ('__pregel_pull', 'SuperBot'), 'langgraph_checkpoint_ns': 'SuperBot:dafb0764-5979-4b13-2110-76f10f4218fd', 'checkpoint_ns': 'SuperBot:dafb0764-5979-4b13-2110-76f10f4218fd', 'ls_provider': 'openai', 'ls_model_name': 'gpt-4o', 'ls_model_type': 'chat', 'ls_temperature': None}, 'data': {'chunk': AIMessageChunk(content=' with', additional_kwargs={}, response_metadata={}, id='run--ca65b2f0-b162-4268-bb5e-4f57aabd94c4')}, 'parent_ids': []}\n",
      "{'event': 'on_chat_model_stream', 'name': 'ChatOpenAI', 'run_id': 'ca65b2f0-b162-4268-bb5e-4f57aabd94c4', 'tags': ['seq:step:1'], 'metadata': {'thread_id': '5', 'langgraph_step': 1, 'langgraph_node': 'SuperBot', 'langgraph_triggers': ('branch:to:SuperBot',), 'langgraph_path': ('__pregel_pull', 'SuperBot'), 'langgraph_checkpoint_ns': 'SuperBot:dafb0764-5979-4b13-2110-76f10f4218fd', 'checkpoint_ns': 'SuperBot:dafb0764-5979-4b13-2110-76f10f4218fd', 'ls_provider': 'openai', 'ls_model_name': 'gpt-4o', 'ls_model_type': 'chat', 'ls_temperature': None}, 'data': {'chunk': AIMessageChunk(content=',', additional_kwargs={}, response_metadata={}, id='run--ca65b2f0-b162-4268-bb5e-4f57aabd94c4')}, 'parent_ids': []}\n",
      "{'event': 'on_chat_model_stream', 'name': 'ChatOpenAI', 'run_id': 'ca65b2f0-b162-4268-bb5e-4f57aabd94c4', 'tags': ['seq:step:1'], 'metadata': {'thread_id': '5', 'langgraph_step': 1, 'langgraph_node': 'SuperBot', 'langgraph_triggers': ('branch:to:SuperBot',), 'langgraph_path': ('__pregel_pull', 'SuperBot'), 'langgraph_checkpoint_ns': 'SuperBot:dafb0764-5979-4b13-2110-76f10f4218fd', 'checkpoint_ns': 'SuperBot:dafb0764-5979-4b13-2110-76f10f4218fd', 'ls_provider': 'openai', 'ls_model_name': 'gpt-4o', 'ls_model_type': 'chat', 'ls_temperature': None}, 'data': {'chunk': AIMessageChunk(content=' feel', additional_kwargs={}, response_metadata={}, id='run--ca65b2f0-b162-4268-bb5e-4f57aabd94c4')}, 'parent_ids': []}\n",
      "{'event': 'on_chat_model_stream', 'name': 'ChatOpenAI', 'run_id': 'ca65b2f0-b162-4268-bb5e-4f57aabd94c4', 'tags': ['seq:step:1'], 'metadata': {'thread_id': '5', 'langgraph_step': 1, 'langgraph_node': 'SuperBot', 'langgraph_triggers': ('branch:to:SuperBot',), 'langgraph_path': ('__pregel_pull', 'SuperBot'), 'langgraph_checkpoint_ns': 'SuperBot:dafb0764-5979-4b13-2110-76f10f4218fd', 'checkpoint_ns': 'SuperBot:dafb0764-5979-4b13-2110-76f10f4218fd', 'ls_provider': 'openai', 'ls_model_name': 'gpt-4o', 'ls_model_type': 'chat', 'ls_temperature': None}, 'data': {'chunk': AIMessageChunk(content=' free', additional_kwargs={}, response_metadata={}, id='run--ca65b2f0-b162-4268-bb5e-4f57aabd94c4')}, 'parent_ids': []}\n",
      "{'event': 'on_chat_model_stream', 'name': 'ChatOpenAI', 'run_id': 'ca65b2f0-b162-4268-bb5e-4f57aabd94c4', 'tags': ['seq:step:1'], 'metadata': {'thread_id': '5', 'langgraph_step': 1, 'langgraph_node': 'SuperBot', 'langgraph_triggers': ('branch:to:SuperBot',), 'langgraph_path': ('__pregel_pull', 'SuperBot'), 'langgraph_checkpoint_ns': 'SuperBot:dafb0764-5979-4b13-2110-76f10f4218fd', 'checkpoint_ns': 'SuperBot:dafb0764-5979-4b13-2110-76f10f4218fd', 'ls_provider': 'openai', 'ls_model_name': 'gpt-4o', 'ls_model_type': 'chat', 'ls_temperature': None}, 'data': {'chunk': AIMessageChunk(content=' to', additional_kwargs={}, response_metadata={}, id='run--ca65b2f0-b162-4268-bb5e-4f57aabd94c4')}, 'parent_ids': []}\n",
      "{'event': 'on_chat_model_stream', 'name': 'ChatOpenAI', 'run_id': 'ca65b2f0-b162-4268-bb5e-4f57aabd94c4', 'tags': ['seq:step:1'], 'metadata': {'thread_id': '5', 'langgraph_step': 1, 'langgraph_node': 'SuperBot', 'langgraph_triggers': ('branch:to:SuperBot',), 'langgraph_path': ('__pregel_pull', 'SuperBot'), 'langgraph_checkpoint_ns': 'SuperBot:dafb0764-5979-4b13-2110-76f10f4218fd', 'checkpoint_ns': 'SuperBot:dafb0764-5979-4b13-2110-76f10f4218fd', 'ls_provider': 'openai', 'ls_model_name': 'gpt-4o', 'ls_model_type': 'chat', 'ls_temperature': None}, 'data': {'chunk': AIMessageChunk(content=' let', additional_kwargs={}, response_metadata={}, id='run--ca65b2f0-b162-4268-bb5e-4f57aabd94c4')}, 'parent_ids': []}\n",
      "{'event': 'on_chat_model_stream', 'name': 'ChatOpenAI', 'run_id': 'ca65b2f0-b162-4268-bb5e-4f57aabd94c4', 'tags': ['seq:step:1'], 'metadata': {'thread_id': '5', 'langgraph_step': 1, 'langgraph_node': 'SuperBot', 'langgraph_triggers': ('branch:to:SuperBot',), 'langgraph_path': ('__pregel_pull', 'SuperBot'), 'langgraph_checkpoint_ns': 'SuperBot:dafb0764-5979-4b13-2110-76f10f4218fd', 'checkpoint_ns': 'SuperBot:dafb0764-5979-4b13-2110-76f10f4218fd', 'ls_provider': 'openai', 'ls_model_name': 'gpt-4o', 'ls_model_type': 'chat', 'ls_temperature': None}, 'data': {'chunk': AIMessageChunk(content=' me', additional_kwargs={}, response_metadata={}, id='run--ca65b2f0-b162-4268-bb5e-4f57aabd94c4')}, 'parent_ids': []}\n",
      "{'event': 'on_chat_model_stream', 'name': 'ChatOpenAI', 'run_id': 'ca65b2f0-b162-4268-bb5e-4f57aabd94c4', 'tags': ['seq:step:1'], 'metadata': {'thread_id': '5', 'langgraph_step': 1, 'langgraph_node': 'SuperBot', 'langgraph_triggers': ('branch:to:SuperBot',), 'langgraph_path': ('__pregel_pull', 'SuperBot'), 'langgraph_checkpoint_ns': 'SuperBot:dafb0764-5979-4b13-2110-76f10f4218fd', 'checkpoint_ns': 'SuperBot:dafb0764-5979-4b13-2110-76f10f4218fd', 'ls_provider': 'openai', 'ls_model_name': 'gpt-4o', 'ls_model_type': 'chat', 'ls_temperature': None}, 'data': {'chunk': AIMessageChunk(content=' know', additional_kwargs={}, response_metadata={}, id='run--ca65b2f0-b162-4268-bb5e-4f57aabd94c4')}, 'parent_ids': []}\n",
      "{'event': 'on_chat_model_stream', 'name': 'ChatOpenAI', 'run_id': 'ca65b2f0-b162-4268-bb5e-4f57aabd94c4', 'tags': ['seq:step:1'], 'metadata': {'thread_id': '5', 'langgraph_step': 1, 'langgraph_node': 'SuperBot', 'langgraph_triggers': ('branch:to:SuperBot',), 'langgraph_path': ('__pregel_pull', 'SuperBot'), 'langgraph_checkpoint_ns': 'SuperBot:dafb0764-5979-4b13-2110-76f10f4218fd', 'checkpoint_ns': 'SuperBot:dafb0764-5979-4b13-2110-76f10f4218fd', 'ls_provider': 'openai', 'ls_model_name': 'gpt-4o', 'ls_model_type': 'chat', 'ls_temperature': None}, 'data': {'chunk': AIMessageChunk(content='!', additional_kwargs={}, response_metadata={}, id='run--ca65b2f0-b162-4268-bb5e-4f57aabd94c4')}, 'parent_ids': []}\n",
      "{'event': 'on_chat_model_stream', 'name': 'ChatOpenAI', 'run_id': 'ca65b2f0-b162-4268-bb5e-4f57aabd94c4', 'tags': ['seq:step:1'], 'metadata': {'thread_id': '5', 'langgraph_step': 1, 'langgraph_node': 'SuperBot', 'langgraph_triggers': ('branch:to:SuperBot',), 'langgraph_path': ('__pregel_pull', 'SuperBot'), 'langgraph_checkpoint_ns': 'SuperBot:dafb0764-5979-4b13-2110-76f10f4218fd', 'checkpoint_ns': 'SuperBot:dafb0764-5979-4b13-2110-76f10f4218fd', 'ls_provider': 'openai', 'ls_model_name': 'gpt-4o', 'ls_model_type': 'chat', 'ls_temperature': None}, 'data': {'chunk': AIMessageChunk(content='', additional_kwargs={}, response_metadata={'finish_reason': 'stop', 'model_name': 'gpt-4o-2024-08-06', 'system_fingerprint': 'fp_df0f7b956c', 'service_tier': 'default'}, id='run--ca65b2f0-b162-4268-bb5e-4f57aabd94c4')}, 'parent_ids': []}\n",
      "{'event': 'on_chat_model_end', 'name': 'ChatOpenAI', 'run_id': 'ca65b2f0-b162-4268-bb5e-4f57aabd94c4', 'tags': ['seq:step:1'], 'metadata': {'thread_id': '5', 'langgraph_step': 1, 'langgraph_node': 'SuperBot', 'langgraph_triggers': ('branch:to:SuperBot',), 'langgraph_path': ('__pregel_pull', 'SuperBot'), 'langgraph_checkpoint_ns': 'SuperBot:dafb0764-5979-4b13-2110-76f10f4218fd', 'checkpoint_ns': 'SuperBot:dafb0764-5979-4b13-2110-76f10f4218fd', 'ls_provider': 'openai', 'ls_model_name': 'gpt-4o', 'ls_model_type': 'chat', 'ls_temperature': None}, 'data': {'input': {'messages': [[HumanMessage(content='Hi, My name is AJ and I am a GenAI Engineer.', additional_kwargs={}, response_metadata={}, id='76ee3a58-1efc-429f-bac7-135531ae2433')]]}, 'output': {'generations': [[{'text': \"Hello AJ! It's great to meet you. Being a GenAI Engineer sounds fascinating. If there's anything specific you'd like to discuss, explore, or need help with, feel free to let me know!\", 'generation_info': {'finish_reason': 'stop', 'model_name': 'gpt-4o-2024-08-06', 'system_fingerprint': 'fp_df0f7b956c', 'service_tier': 'default'}, 'type': 'ChatGeneration', 'message': AIMessage(content=\"Hello AJ! It's great to meet you. Being a GenAI Engineer sounds fascinating. If there's anything specific you'd like to discuss, explore, or need help with, feel free to let me know!\", additional_kwargs={}, response_metadata={'finish_reason': 'stop', 'model_name': 'gpt-4o-2024-08-06', 'system_fingerprint': 'fp_df0f7b956c', 'service_tier': 'default'}, id='run--ca65b2f0-b162-4268-bb5e-4f57aabd94c4')}]], 'llm_output': None, 'run': None, 'type': 'LLMResult'}}, 'parent_ids': []}\n",
      "{'event': 'on_chain_stream', 'name': 'SuperBot', 'run_id': '5b3e2134-1394-4ac0-9b8f-3879fe0886a5', 'tags': ['graph:step:1'], 'metadata': {'thread_id': '5', 'langgraph_step': 1, 'langgraph_node': 'SuperBot', 'langgraph_triggers': ('branch:to:SuperBot',), 'langgraph_path': ('__pregel_pull', 'SuperBot'), 'langgraph_checkpoint_ns': 'SuperBot:dafb0764-5979-4b13-2110-76f10f4218fd'}, 'data': {'chunk': {'messages': [AIMessage(content=\"Hello AJ! It's great to meet you. Being a GenAI Engineer sounds fascinating. If there's anything specific you'd like to discuss, explore, or need help with, feel free to let me know!\", additional_kwargs={}, response_metadata={'finish_reason': 'stop', 'model_name': 'gpt-4o-2024-08-06', 'system_fingerprint': 'fp_df0f7b956c', 'service_tier': 'default'}, id='run--ca65b2f0-b162-4268-bb5e-4f57aabd94c4')]}}, 'parent_ids': []}\n",
      "{'event': 'on_chain_end', 'name': 'SuperBot', 'run_id': '5b3e2134-1394-4ac0-9b8f-3879fe0886a5', 'tags': ['graph:step:1'], 'metadata': {'thread_id': '5', 'langgraph_step': 1, 'langgraph_node': 'SuperBot', 'langgraph_triggers': ('branch:to:SuperBot',), 'langgraph_path': ('__pregel_pull', 'SuperBot'), 'langgraph_checkpoint_ns': 'SuperBot:dafb0764-5979-4b13-2110-76f10f4218fd'}, 'data': {'input': {'messages': [HumanMessage(content='Hi, My name is AJ and I am a GenAI Engineer.', additional_kwargs={}, response_metadata={}, id='76ee3a58-1efc-429f-bac7-135531ae2433')]}, 'output': {'messages': [AIMessage(content=\"Hello AJ! It's great to meet you. Being a GenAI Engineer sounds fascinating. If there's anything specific you'd like to discuss, explore, or need help with, feel free to let me know!\", additional_kwargs={}, response_metadata={'finish_reason': 'stop', 'model_name': 'gpt-4o-2024-08-06', 'system_fingerprint': 'fp_df0f7b956c', 'service_tier': 'default'}, id='run--ca65b2f0-b162-4268-bb5e-4f57aabd94c4')]}}, 'parent_ids': []}\n",
      "{'event': 'on_chain_stream', 'run_id': '4c8b9eaf-3733-4b3f-9a5b-08d3994c1a9c', 'tags': [], 'metadata': {'thread_id': '5'}, 'name': 'LangGraph', 'data': {'chunk': {'SuperBot': {'messages': [AIMessage(content=\"Hello AJ! It's great to meet you. Being a GenAI Engineer sounds fascinating. If there's anything specific you'd like to discuss, explore, or need help with, feel free to let me know!\", additional_kwargs={}, response_metadata={'finish_reason': 'stop', 'model_name': 'gpt-4o-2024-08-06', 'system_fingerprint': 'fp_df0f7b956c', 'service_tier': 'default'}, id='run--ca65b2f0-b162-4268-bb5e-4f57aabd94c4')]}}}, 'parent_ids': []}\n",
      "{'event': 'on_chain_end', 'name': 'LangGraph', 'run_id': '4c8b9eaf-3733-4b3f-9a5b-08d3994c1a9c', 'tags': [], 'metadata': {'thread_id': '5'}, 'data': {'output': {'SuperBot': {'messages': [AIMessage(content=\"Hello AJ! It's great to meet you. Being a GenAI Engineer sounds fascinating. If there's anything specific you'd like to discuss, explore, or need help with, feel free to let me know!\", additional_kwargs={}, response_metadata={'finish_reason': 'stop', 'model_name': 'gpt-4o-2024-08-06', 'system_fingerprint': 'fp_df0f7b956c', 'service_tier': 'default'}, id='run--ca65b2f0-b162-4268-bb5e-4f57aabd94c4')]}}}, 'parent_ids': []}\n"
     ]
    }
   ],
   "source": [
    "# define config\n",
    "streaming_config3 = {\"configurable\": {\"thread_id\": \"5\"}}\n",
    "\n",
    "async for chunk in compiled_streaming_graph.astream_events({\"messages\": \"Hi, My name is AJ and I am a GenAI Engineer.\"}, config=streaming_config3, version=\"v1\"):\n",
    "    print(chunk)"
   ]
  },
  {
   "cell_type": "markdown",
   "id": "3ea25693",
   "metadata": {},
   "source": [
    "================================================= END ================================================="
   ]
  }
 ],
 "metadata": {
  "kernelspec": {
   "display_name": "ai-playground",
   "language": "python",
   "name": "python3"
  },
  "language_info": {
   "codemirror_mode": {
    "name": "ipython",
    "version": 3
   },
   "file_extension": ".py",
   "mimetype": "text/x-python",
   "name": "python",
   "nbconvert_exporter": "python",
   "pygments_lexer": "ipython3",
   "version": "3.12.4"
  }
 },
 "nbformat": 4,
 "nbformat_minor": 5
}
